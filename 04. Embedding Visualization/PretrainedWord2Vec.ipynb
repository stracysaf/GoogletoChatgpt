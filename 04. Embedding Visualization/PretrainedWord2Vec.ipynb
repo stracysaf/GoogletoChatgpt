{
 "cells": [
  {
   "cell_type": "code",
   "execution_count": 2,
   "id": "6940f425-e50d-4b88-84c9-914f2ceaa432",
   "metadata": {},
   "outputs": [
    {
     "name": "stdout",
     "output_type": "stream",
     "text": [
      "Collecting gensim\n",
      "  Downloading gensim-4.3.2-cp311-cp311-macosx_11_0_arm64.whl.metadata (8.3 kB)\n",
      "Requirement already satisfied: numpy>=1.18.5 in /opt/homebrew/lib/python3.11/site-packages (from gensim) (1.26.2)\n",
      "Requirement already satisfied: scipy>=1.7.0 in /opt/homebrew/lib/python3.11/site-packages (from gensim) (1.11.4)\n",
      "Requirement already satisfied: smart-open>=1.8.1 in /opt/homebrew/lib/python3.11/site-packages (from gensim) (6.4.0)\n",
      "Downloading gensim-4.3.2-cp311-cp311-macosx_11_0_arm64.whl (24.0 MB)\n",
      "\u001b[2K   \u001b[38;2;114;156;31m━━━━━━━━━━━━━━━━━━━━━━━━━━━━━━━━━━━━━━━━\u001b[0m \u001b[32m24.0/24.0 MB\u001b[0m \u001b[31m6.4 MB/s\u001b[0m eta \u001b[36m0:00:00\u001b[0mm eta \u001b[36m0:00:01\u001b[0m[36m0:00:01\u001b[0m\n",
      "\u001b[?25hInstalling collected packages: gensim\n",
      "Successfully installed gensim-4.3.2\n",
      "\n",
      "\u001b[1m[\u001b[0m\u001b[34;49mnotice\u001b[0m\u001b[1;39;49m]\u001b[0m\u001b[39;49m A new release of pip is available: \u001b[0m\u001b[31;49m23.3.2\u001b[0m\u001b[39;49m -> \u001b[0m\u001b[32;49m24.0\u001b[0m\n",
      "\u001b[1m[\u001b[0m\u001b[34;49mnotice\u001b[0m\u001b[1;39;49m]\u001b[0m\u001b[39;49m To update, run: \u001b[0m\u001b[32;49mpython3.11 -m pip install --upgrade pip\u001b[0m\n"
     ]
    }
   ],
   "source": [
    "!pip install gensim"
   ]
  },
  {
   "cell_type": "code",
   "execution_count": 3,
   "id": "9cd3a0a0-acd8-4c2b-8d80-dda1237a7e03",
   "metadata": {},
   "outputs": [],
   "source": [
    "import gensim.downloader as api"
   ]
  },
  {
   "cell_type": "code",
   "execution_count": null,
   "id": "a7177d6c-3e1b-4303-98de-0a2e0bdd7f76",
   "metadata": {
    "scrolled": true
   },
   "outputs": [
    {
     "name": "stdout",
     "output_type": "stream",
     "text": [
      "[--------------------------------------------------] 1.4% 23.4/1662.8MB downloaded"
     ]
    },
    {
     "name": "stderr",
     "output_type": "stream",
     "text": [
      "IOPub message rate exceeded.\n",
      "The Jupyter server will temporarily stop sending output\n",
      "to the client in order to avoid crashing it.\n",
      "To change this limit, set the config variable\n",
      "`--ServerApp.iopub_msg_rate_limit`.\n",
      "\n",
      "Current values:\n",
      "ServerApp.iopub_msg_rate_limit=1000.0 (msgs/sec)\n",
      "ServerApp.rate_limit_window=3.0 (secs)\n",
      "\n"
     ]
    },
    {
     "name": "stdout",
     "output_type": "stream",
     "text": [
      "[=-------------------------------------------------] 3.4% 56.8/1662.8MB downloaded"
     ]
    },
    {
     "name": "stderr",
     "output_type": "stream",
     "text": [
      "IOPub message rate exceeded.\n",
      "The Jupyter server will temporarily stop sending output\n",
      "to the client in order to avoid crashing it.\n",
      "To change this limit, set the config variable\n",
      "`--ServerApp.iopub_msg_rate_limit`.\n",
      "\n",
      "Current values:\n",
      "ServerApp.iopub_msg_rate_limit=1000.0 (msgs/sec)\n",
      "ServerApp.rate_limit_window=3.0 (secs)\n",
      "\n"
     ]
    },
    {
     "name": "stdout",
     "output_type": "stream",
     "text": [
      "[==------------------------------------------------] 5.9% 98.4/1662.8MB downloaded"
     ]
    },
    {
     "name": "stderr",
     "output_type": "stream",
     "text": [
      "IOPub message rate exceeded.\n",
      "The Jupyter server will temporarily stop sending output\n",
      "to the client in order to avoid crashing it.\n",
      "To change this limit, set the config variable\n",
      "`--ServerApp.iopub_msg_rate_limit`.\n",
      "\n",
      "Current values:\n",
      "ServerApp.iopub_msg_rate_limit=1000.0 (msgs/sec)\n",
      "ServerApp.rate_limit_window=3.0 (secs)\n",
      "\n"
     ]
    },
    {
     "name": "stdout",
     "output_type": "stream",
     "text": [
      "[====----------------------------------------------] 8.9% 147.5/1662.8MB downloaded"
     ]
    },
    {
     "name": "stderr",
     "output_type": "stream",
     "text": [
      "IOPub message rate exceeded.\n",
      "The Jupyter server will temporarily stop sending output\n",
      "to the client in order to avoid crashing it.\n",
      "To change this limit, set the config variable\n",
      "`--ServerApp.iopub_msg_rate_limit`.\n",
      "\n",
      "Current values:\n",
      "ServerApp.iopub_msg_rate_limit=1000.0 (msgs/sec)\n",
      "ServerApp.rate_limit_window=3.0 (secs)\n",
      "\n"
     ]
    },
    {
     "name": "stdout",
     "output_type": "stream",
     "text": [
      "[=====---------------------------------------------] 10.7% 177.6/1662.8MB downloaded"
     ]
    },
    {
     "name": "stderr",
     "output_type": "stream",
     "text": [
      "IOPub message rate exceeded.\n",
      "The Jupyter server will temporarily stop sending output\n",
      "to the client in order to avoid crashing it.\n",
      "To change this limit, set the config variable\n",
      "`--ServerApp.iopub_msg_rate_limit`.\n",
      "\n",
      "Current values:\n",
      "ServerApp.iopub_msg_rate_limit=1000.0 (msgs/sec)\n",
      "ServerApp.rate_limit_window=3.0 (secs)\n",
      "\n"
     ]
    },
    {
     "name": "stdout",
     "output_type": "stream",
     "text": [
      "[=======-------------------------------------------] 14.1% 233.9/1662.8MB downloaded"
     ]
    },
    {
     "name": "stderr",
     "output_type": "stream",
     "text": [
      "IOPub message rate exceeded.\n",
      "The Jupyter server will temporarily stop sending output\n",
      "to the client in order to avoid crashing it.\n",
      "To change this limit, set the config variable\n",
      "`--ServerApp.iopub_msg_rate_limit`.\n",
      "\n",
      "Current values:\n",
      "ServerApp.iopub_msg_rate_limit=1000.0 (msgs/sec)\n",
      "ServerApp.rate_limit_window=3.0 (secs)\n",
      "\n"
     ]
    },
    {
     "name": "stdout",
     "output_type": "stream",
     "text": [
      "[=============-------------------------------------] 26.0% 432.9/1662.8MB downloaded"
     ]
    },
    {
     "name": "stderr",
     "output_type": "stream",
     "text": [
      "IOPub message rate exceeded.\n",
      "The Jupyter server will temporarily stop sending output\n",
      "to the client in order to avoid crashing it.\n",
      "To change this limit, set the config variable\n",
      "`--ServerApp.iopub_msg_rate_limit`.\n",
      "\n",
      "Current values:\n",
      "ServerApp.iopub_msg_rate_limit=1000.0 (msgs/sec)\n",
      "ServerApp.rate_limit_window=3.0 (secs)\n",
      "\n"
     ]
    },
    {
     "name": "stdout",
     "output_type": "stream",
     "text": [
      "[=============-------------------------------------] 27.8% 462.2/1662.8MB downloaded"
     ]
    },
    {
     "name": "stderr",
     "output_type": "stream",
     "text": [
      "IOPub message rate exceeded.\n",
      "The Jupyter server will temporarily stop sending output\n",
      "to the client in order to avoid crashing it.\n",
      "To change this limit, set the config variable\n",
      "`--ServerApp.iopub_msg_rate_limit`.\n",
      "\n",
      "Current values:\n",
      "ServerApp.iopub_msg_rate_limit=1000.0 (msgs/sec)\n",
      "ServerApp.rate_limit_window=3.0 (secs)\n",
      "\n"
     ]
    },
    {
     "name": "stdout",
     "output_type": "stream",
     "text": [
      "[==============------------------------------------] 29.7% 494.1/1662.8MB downloaded"
     ]
    },
    {
     "name": "stderr",
     "output_type": "stream",
     "text": [
      "IOPub message rate exceeded.\n",
      "The Jupyter server will temporarily stop sending output\n",
      "to the client in order to avoid crashing it.\n",
      "To change this limit, set the config variable\n",
      "`--ServerApp.iopub_msg_rate_limit`.\n",
      "\n",
      "Current values:\n",
      "ServerApp.iopub_msg_rate_limit=1000.0 (msgs/sec)\n",
      "ServerApp.rate_limit_window=3.0 (secs)\n",
      "\n"
     ]
    },
    {
     "name": "stdout",
     "output_type": "stream",
     "text": [
      "[===============-----------------------------------] 31.5% 524.3/1662.8MB downloaded"
     ]
    },
    {
     "name": "stderr",
     "output_type": "stream",
     "text": [
      "IOPub message rate exceeded.\n",
      "The Jupyter server will temporarily stop sending output\n",
      "to the client in order to avoid crashing it.\n",
      "To change this limit, set the config variable\n",
      "`--ServerApp.iopub_msg_rate_limit`.\n",
      "\n",
      "Current values:\n",
      "ServerApp.iopub_msg_rate_limit=1000.0 (msgs/sec)\n",
      "ServerApp.rate_limit_window=3.0 (secs)\n",
      "\n"
     ]
    },
    {
     "name": "stdout",
     "output_type": "stream",
     "text": [
      "[==================--------------------------------] 36.9% 614.0/1662.8MB downloaded"
     ]
    },
    {
     "name": "stderr",
     "output_type": "stream",
     "text": [
      "IOPub message rate exceeded.\n",
      "The Jupyter server will temporarily stop sending output\n",
      "to the client in order to avoid crashing it.\n",
      "To change this limit, set the config variable\n",
      "`--ServerApp.iopub_msg_rate_limit`.\n",
      "\n",
      "Current values:\n",
      "ServerApp.iopub_msg_rate_limit=1000.0 (msgs/sec)\n",
      "ServerApp.rate_limit_window=3.0 (secs)\n",
      "\n"
     ]
    },
    {
     "name": "stdout",
     "output_type": "stream",
     "text": [
      "[========================--------------------------] 49.5% 822.8/1662.8MB downloaded"
     ]
    },
    {
     "name": "stderr",
     "output_type": "stream",
     "text": [
      "IOPub message rate exceeded.\n",
      "The Jupyter server will temporarily stop sending output\n",
      "to the client in order to avoid crashing it.\n",
      "To change this limit, set the config variable\n",
      "`--ServerApp.iopub_msg_rate_limit`.\n",
      "\n",
      "Current values:\n",
      "ServerApp.iopub_msg_rate_limit=1000.0 (msgs/sec)\n",
      "ServerApp.rate_limit_window=3.0 (secs)\n",
      "\n"
     ]
    },
    {
     "name": "stdout",
     "output_type": "stream",
     "text": [
      "[=========================-------------------------] 51.2% 851.1/1662.8MB downloaded"
     ]
    },
    {
     "name": "stderr",
     "output_type": "stream",
     "text": [
      "IOPub message rate exceeded.\n",
      "The Jupyter server will temporarily stop sending output\n",
      "to the client in order to avoid crashing it.\n",
      "To change this limit, set the config variable\n",
      "`--ServerApp.iopub_msg_rate_limit`.\n",
      "\n",
      "Current values:\n",
      "ServerApp.iopub_msg_rate_limit=1000.0 (msgs/sec)\n",
      "ServerApp.rate_limit_window=3.0 (secs)\n",
      "\n"
     ]
    },
    {
     "name": "stdout",
     "output_type": "stream",
     "text": [
      "[===========================-----------------------] 55.3% 919.2/1662.8MB downloaded"
     ]
    }
   ],
   "source": [
    "w2v = api.load('word2vec-google-news-300')"
   ]
  },
  {
   "cell_type": "code",
   "execution_count": 8,
   "id": "c50792c7-7aab-4dff-bae9-bb539da60fab",
   "metadata": {},
   "outputs": [
    {
     "data": {
      "text/plain": [
       "300"
      ]
     },
     "execution_count": 8,
     "metadata": {},
     "output_type": "execute_result"
    }
   ],
   "source": [
    "len(w2v['king'])"
   ]
  },
  {
   "cell_type": "code",
   "execution_count": 9,
   "id": "fe5f7bde-a466-4cd6-932e-e4b4129fbc8d",
   "metadata": {},
   "outputs": [
    {
     "data": {
      "text/plain": [
       "(300,)"
      ]
     },
     "execution_count": 9,
     "metadata": {},
     "output_type": "execute_result"
    }
   ],
   "source": [
    "w2v['king'].shape"
   ]
  },
  {
   "cell_type": "code",
   "execution_count": 21,
   "id": "ba59c84d-9ff3-4b60-bfe7-5a7436ca81ce",
   "metadata": {
    "scrolled": true
   },
   "outputs": [
    {
     "data": {
      "text/plain": [
       "array([-2.29492188e-02,  1.29882812e-01,  2.41210938e-01,  1.35742188e-01,\n",
       "        1.20117188e-01,  2.17773438e-01,  1.77001953e-02, -5.82031250e-01,\n",
       "       -1.65039062e-01, -1.80664062e-01, -4.39453125e-02, -2.85156250e-01,\n",
       "        1.11816406e-01,  3.33984375e-01, -2.17773438e-01,  2.87109375e-01,\n",
       "        8.44726562e-02,  1.73828125e-01,  2.32421875e-01, -1.95312500e-01,\n",
       "        3.24218750e-01, -4.29687500e-02,  9.22851562e-02, -3.34472656e-02,\n",
       "        5.07354736e-04,  9.03320312e-02, -4.08203125e-01, -6.44531250e-02,\n",
       "        6.00585938e-02, -1.82617188e-01,  3.72314453e-03, -1.72851562e-01,\n",
       "        7.03125000e-02,  7.76367188e-02, -1.25000000e-01,  1.06933594e-01,\n",
       "        1.96289062e-01,  2.41699219e-02,  1.41601562e-02, -8.74023438e-02,\n",
       "       -5.61523438e-02, -1.47460938e-01,  5.07812500e-02, -3.05175781e-02,\n",
       "       -2.79541016e-02,  2.51953125e-01, -4.76074219e-02,  5.39550781e-02,\n",
       "       -9.03320312e-02, -1.64062500e-01, -1.98242188e-01,  8.69140625e-02,\n",
       "       -2.29492188e-01, -3.26171875e-01,  9.81445312e-02, -1.62109375e-01,\n",
       "       -1.83593750e-01,  2.19726562e-01,  1.00585938e-01, -3.30078125e-01,\n",
       "       -3.02734375e-01, -3.41796875e-02,  2.77343750e-01,  2.99072266e-02,\n",
       "        1.46484375e-01,  3.10546875e-01, -3.12500000e-02,  3.76953125e-01,\n",
       "       -4.17968750e-01, -1.19628906e-01, -2.61230469e-02, -1.13281250e-01,\n",
       "        1.37695312e-01, -1.64794922e-02, -2.45117188e-01, -6.98852539e-03,\n",
       "       -2.26562500e-01, -5.83496094e-02,  7.12890625e-02, -5.02929688e-02,\n",
       "       -8.49609375e-02,  8.69140625e-02,  1.25000000e-01,  1.73828125e-01,\n",
       "       -4.56542969e-02, -2.36328125e-01,  5.17578125e-02,  1.11816406e-01,\n",
       "       -2.22656250e-01,  2.35595703e-02,  1.77734375e-01,  8.10546875e-02,\n",
       "       -1.51367188e-01, -1.75781250e-01,  7.42187500e-02,  2.16796875e-01,\n",
       "        1.89453125e-01,  1.64062500e-01,  1.24023438e-01,  2.05078125e-02,\n",
       "       -4.68750000e-02, -2.73437500e-01,  8.98437500e-02,  8.36181641e-03,\n",
       "        1.09863281e-01, -1.31835938e-02,  1.22070312e-02, -2.98828125e-01,\n",
       "        3.47656250e-01, -2.28881836e-03,  1.68945312e-01,  6.29882812e-02,\n",
       "        1.77001953e-02, -1.55029297e-02, -6.73828125e-02,  1.61132812e-01,\n",
       "       -1.90429688e-02,  7.27539062e-02,  1.39648438e-01, -1.57226562e-01,\n",
       "       -2.57812500e-01, -2.65625000e-01, -1.18652344e-01,  3.28063965e-03,\n",
       "       -1.27929688e-01,  1.78527832e-03,  2.04101562e-01, -2.51953125e-01,\n",
       "       -3.61328125e-02,  2.91748047e-02, -7.37304688e-02, -1.15234375e-01,\n",
       "       -1.45507812e-01, -8.34960938e-02, -4.10156250e-02,  1.92382812e-01,\n",
       "        8.20312500e-02,  6.68945312e-02,  5.61523438e-02,  1.37695312e-01,\n",
       "        1.91406250e-01, -2.39257812e-01,  1.52587891e-02,  1.05957031e-01,\n",
       "       -1.49414062e-01, -2.24609375e-01,  4.33593750e-01, -5.05371094e-02,\n",
       "       -3.96484375e-01, -4.56542969e-02,  3.76953125e-01, -3.93066406e-02,\n",
       "       -1.15722656e-01, -3.24707031e-02,  5.95703125e-02, -1.59179688e-01,\n",
       "        5.54199219e-02,  2.42919922e-02, -1.37695312e-01, -1.14746094e-01,\n",
       "        6.93359375e-02, -7.12890625e-02, -1.41601562e-01,  1.45507812e-01,\n",
       "       -9.27734375e-02, -2.83203125e-01, -5.95703125e-02, -1.40625000e-01,\n",
       "       -3.71093750e-02, -5.62500000e-01, -1.54296875e-01,  2.71484375e-01,\n",
       "       -2.04101562e-01,  9.91210938e-02,  1.20117188e-01, -1.80664062e-01,\n",
       "        2.13867188e-01, -1.62109375e-01, -1.39648438e-01, -4.37011719e-02,\n",
       "       -1.07910156e-01, -7.17773438e-02, -1.78710938e-01, -2.17773438e-01,\n",
       "       -3.57421875e-01, -2.04101562e-01,  1.66015625e-01,  1.60156250e-01,\n",
       "       -3.11279297e-02, -1.34277344e-02,  7.61718750e-02, -3.75976562e-02,\n",
       "        2.85156250e-01,  7.76367188e-02, -4.34570312e-02, -3.44238281e-02,\n",
       "        8.00781250e-02, -2.57812500e-01, -1.34765625e-01,  4.68750000e-02,\n",
       "       -2.35351562e-01, -9.52148438e-02,  3.35937500e-01, -8.44726562e-02,\n",
       "       -3.20312500e-01, -1.08398438e-01,  3.71093750e-01, -1.26953125e-01,\n",
       "       -4.78515625e-02, -4.63867188e-02, -4.70703125e-01, -2.23632812e-01,\n",
       "       -2.65625000e-01,  4.15039062e-02,  5.10253906e-02,  1.96289062e-01,\n",
       "       -1.53320312e-01, -7.47070312e-02, -1.18164062e-01, -9.52148438e-02,\n",
       "       -7.32421875e-02, -1.70898438e-01,  2.07031250e-01,  5.37109375e-02,\n",
       "        2.37304688e-01, -5.58471680e-03, -5.55419922e-03, -1.30859375e-01,\n",
       "       -4.19921875e-01,  3.43750000e-01,  1.13769531e-01,  4.45312500e-01,\n",
       "       -1.02539062e-01, -2.57812500e-01, -1.62109375e-01, -2.19726562e-01,\n",
       "        2.63671875e-01,  8.30078125e-02, -6.93359375e-02, -2.85156250e-01,\n",
       "        2.22656250e-01, -2.13867188e-01,  7.56835938e-02, -1.05957031e-01,\n",
       "        8.78906250e-02,  1.79687500e-01, -5.93261719e-02,  1.60156250e-01,\n",
       "        4.51660156e-03,  1.37939453e-02,  2.57492065e-04, -3.04687500e-01,\n",
       "        1.82617188e-01,  1.83593750e-01,  6.64062500e-02,  3.04687500e-01,\n",
       "       -1.79687500e-01, -1.85546875e-02,  4.54101562e-02,  1.74804688e-01,\n",
       "        2.75878906e-02, -6.80541992e-03, -8.23974609e-03, -1.84570312e-01,\n",
       "       -2.37304688e-01,  2.73437500e-02,  2.21679688e-01, -3.84765625e-01,\n",
       "       -1.40625000e-01,  1.80664062e-02, -6.92749023e-03, -7.61718750e-02,\n",
       "        2.83203125e-01,  5.83496094e-02,  5.83496094e-02, -1.87500000e-01,\n",
       "       -1.87500000e-01, -5.81054688e-02, -2.08007812e-01,  1.57226562e-01,\n",
       "        2.32421875e-01,  1.38549805e-02,  2.31445312e-01,  2.70996094e-02,\n",
       "        5.10253906e-02, -4.17480469e-02,  2.10937500e-01,  2.96875000e-01,\n",
       "        5.07812500e-02,  2.51953125e-01, -2.40234375e-01, -2.05078125e-01,\n",
       "       -3.08593750e-01,  3.45703125e-01,  1.87988281e-02,  6.68945312e-02,\n",
       "       -1.08886719e-01,  2.63671875e-01,  4.06250000e-01,  1.98242188e-01],\n",
       "      dtype=float32)"
      ]
     },
     "execution_count": 21,
     "metadata": {},
     "output_type": "execute_result"
    }
   ],
   "source": [
    "w2v['medicine']"
   ]
  },
  {
   "cell_type": "code",
   "execution_count": 20,
   "id": "f50bb32d-fdbb-4795-9fb3-a315875172e8",
   "metadata": {
    "scrolled": true
   },
   "outputs": [
    {
     "data": {
      "text/plain": [
       "array([ 0.06298828, -0.14257812, -0.15039062,  0.26757812,  0.00190735,\n",
       "        0.08105469,  0.27734375, -0.48828125, -0.06298828,  0.34179688,\n",
       "        0.453125  , -0.26367188, -0.06201172,  0.22851562, -0.0062561 ,\n",
       "        0.21777344, -0.35351562,  0.04199219,  0.11523438, -0.21386719,\n",
       "        0.24023438, -0.05688477,  0.36523438,  0.14746094,  0.18652344,\n",
       "       -0.0859375 , -0.04467773, -0.08691406, -0.25390625,  0.02368164,\n",
       "       -0.00100708, -0.11962891, -0.2421875 , -0.20117188, -0.27929688,\n",
       "        0.07861328, -0.125     , -0.14355469,  0.02954102,  0.26953125,\n",
       "        0.06640625, -0.04858398,  0.00759888,  0.03491211, -0.04467773,\n",
       "        0.0177002 , -0.00598145,  0.03808594, -0.296875  , -0.03417969,\n",
       "       -0.203125  , -0.15429688, -0.31445312,  0.06542969,  0.03759766,\n",
       "       -0.40625   , -0.26367188,  0.17382812, -0.19726562,  0.02770996,\n",
       "       -0.15625   ,  0.02502441, -0.05981445, -0.15527344,  0.06152344,\n",
       "        0.38476562, -0.5       ,  0.06298828, -0.10205078,  0.04833984,\n",
       "        0.06787109, -0.08642578,  0.375     ,  0.13574219, -0.5859375 ,\n",
       "       -0.19140625,  0.14746094, -0.25976562,  0.52734375, -0.16992188,\n",
       "       -0.38671875, -0.25      ,  0.01257324,  0.15039062, -0.22070312,\n",
       "       -0.00260925,  0.22949219, -0.05175781, -0.2578125 ,  0.11572266,\n",
       "       -0.16894531, -0.16601562, -0.21289062, -0.39453125, -0.22363281,\n",
       "        0.12597656,  0.19726562, -0.22167969,  0.29492188, -0.05200195,\n",
       "        0.02709961,  0.09619141,  0.12011719, -0.19824219,  0.05834961,\n",
       "       -0.21875   ,  0.03808594,  0.31445312,  0.39648438,  0.32226562,\n",
       "        0.51953125, -0.26367188, -0.27734375, -0.20800781, -0.08105469,\n",
       "       -0.15039062, -0.25976562, -0.0456543 ,  0.20996094, -0.22460938,\n",
       "       -0.41210938, -0.07519531, -0.46484375, -0.02490234, -0.15039062,\n",
       "       -0.14160156, -0.05810547, -0.45703125,  0.40234375, -0.1328125 ,\n",
       "       -0.27734375,  0.08398438, -0.26953125,  0.12011719, -0.03662109,\n",
       "        0.16796875, -0.0546875 ,  0.0222168 , -0.06542969,  0.37109375,\n",
       "       -0.0402832 , -0.20800781, -0.08984375, -0.31445312, -0.18945312,\n",
       "       -0.17285156,  0.00195312,  0.21386719, -0.2734375 , -0.5       ,\n",
       "        0.27929688, -0.3828125 ,  0.25585938,  0.01080322,  0.3125    ,\n",
       "       -0.10742188, -0.19335938, -0.26953125, -0.30859375,  0.13574219,\n",
       "        0.04443359,  0.19921875,  0.11181641, -0.0168457 , -0.01135254,\n",
       "       -0.125     , -0.11425781,  0.43945312, -0.26171875, -0.5703125 ,\n",
       "       -0.03540039,  0.44335938,  0.06738281, -0.15527344, -0.24902344,\n",
       "       -0.19140625,  0.48046875, -0.07568359,  0.27148438,  0.3203125 ,\n",
       "        0.33203125,  0.15722656, -0.30273438,  0.09375   ,  0.24707031,\n",
       "       -0.05834961, -0.09423828,  0.07958984,  0.07958984, -0.08740234,\n",
       "       -0.61328125, -0.39257812, -0.0378418 ,  0.16308594,  0.265625  ,\n",
       "        0.24609375, -0.07421875, -0.3515625 ,  0.11425781, -0.27734375,\n",
       "        0.07421875,  0.046875  , -0.1875    , -0.15917969,  0.07958984,\n",
       "       -0.32421875,  0.25390625, -0.05908203,  0.15039062, -0.11669922,\n",
       "        0.02746582, -0.453125  , -0.18261719,  0.07519531, -0.14160156,\n",
       "       -0.25390625,  0.08642578, -0.08984375,  0.203125  , -0.05981445,\n",
       "        0.06298828,  0.22851562,  0.3046875 , -0.03881836,  0.2734375 ,\n",
       "       -0.00613403, -0.19042969, -0.24121094, -0.06738281,  0.58203125,\n",
       "       -0.26757812,  0.30078125,  0.52734375, -0.41601562, -0.16308594,\n",
       "       -0.33203125,  0.09765625,  0.17871094,  0.30664062, -0.171875  ,\n",
       "       -0.08935547, -0.375     ,  0.48242188, -0.14941406,  0.14648438,\n",
       "        0.03857422, -0.45703125,  0.39257812,  0.0390625 , -0.04003906,\n",
       "        0.03125   ,  0.00878906,  0.51171875,  0.06542969, -0.00291443,\n",
       "        0.15625   , -0.42578125,  0.10449219,  0.18945312, -0.20898438,\n",
       "        0.15332031, -0.04858398,  0.03295898, -0.20214844, -0.13964844,\n",
       "        0.0402832 , -0.10693359, -0.15625   , -0.01574707, -0.43359375,\n",
       "        0.12402344,  0.23339844,  0.08496094,  0.328125  ,  0.3046875 ,\n",
       "       -0.02587891, -0.04101562,  0.00927734,  0.23535156,  0.18359375,\n",
       "        0.10742188, -0.28125   ,  0.05883789, -0.32421875,  0.0859375 ,\n",
       "       -0.02209473,  0.16015625,  0.7109375 , -0.02233887,  0.32617188,\n",
       "       -0.25390625, -0.25976562,  0.0279541 , -0.00909424, -0.17773438,\n",
       "       -0.08105469, -0.0045166 ,  0.46484375,  0.1796875 ,  0.16308594],\n",
       "      dtype=float32)"
      ]
     },
     "execution_count": 20,
     "metadata": {},
     "output_type": "execute_result"
    }
   ],
   "source": [
    "w2v['paracetamol']"
   ]
  },
  {
   "cell_type": "code",
   "execution_count": 22,
   "id": "b730c87b-5d89-491a-b20a-1663c5366803",
   "metadata": {},
   "outputs": [
    {
     "data": {
      "text/plain": [
       "0.37118524"
      ]
     },
     "execution_count": 22,
     "metadata": {},
     "output_type": "execute_result"
    }
   ],
   "source": [
    "w2v.similarity('paracetamol', 'medicine')"
   ]
  },
  {
   "cell_type": "code",
   "execution_count": 23,
   "id": "2abcbe1a-144e-48ca-b826-a2ca152d1090",
   "metadata": {},
   "outputs": [
    {
     "data": {
      "text/plain": [
       "0.049090605"
      ]
     },
     "execution_count": 23,
     "metadata": {},
     "output_type": "execute_result"
    }
   ],
   "source": [
    "w2v.similarity('paracetamol', 'automobile')"
   ]
  },
  {
   "cell_type": "code",
   "execution_count": 28,
   "id": "e21866e9-79f3-4271-8967-db379ec1c860",
   "metadata": {
    "scrolled": true
   },
   "outputs": [
    {
     "data": {
      "text/plain": [
       "[('Paracetamol', 0.7545742988586426),\n",
       " ('paracetemol', 0.6999883651733398),\n",
       " ('Calpol', 0.6656007766723633),\n",
       " ('cough_medicine', 0.656593918800354),\n",
       " ('ibuprofen', 0.6464942097663879),\n",
       " ('co_proxamol', 0.6429890394210815),\n",
       " ('paracetamol_tablets', 0.6419514417648315),\n",
       " ('Co_proxamol', 0.6397819519042969),\n",
       " ('Tylenol_acetaminophen', 0.6369857788085938),\n",
       " ('co_codamol', 0.6362347602844238)]"
      ]
     },
     "execution_count": 28,
     "metadata": {},
     "output_type": "execute_result"
    }
   ],
   "source": [
    "w2v.most_similar('paracetamol', topn=10)"
   ]
  },
  {
   "cell_type": "code",
   "execution_count": 30,
   "id": "79390382-3ee9-4293-bdc4-481e2b409b68",
   "metadata": {},
   "outputs": [
    {
     "data": {
      "text/plain": [
       "[('tablets', 0.708280086517334),\n",
       " ('tablet', 0.6845813393592834),\n",
       " ('Paracetamol', 0.6617750525474548),\n",
       " ('Tablets', 0.6451588273048401),\n",
       " ('Panadol', 0.6161322593688965),\n",
       " ('Kamagra_jelly_online', 0.6119567155838013),\n",
       " ('paracetemol', 0.6112138032913208),\n",
       " ('ICAR_Prenatal_vitamin', 0.6075651049613953),\n",
       " ('co_codamol', 0.6039797067642212),\n",
       " ('Tylenol_acetaminophen', 0.5996211171150208)]"
      ]
     },
     "execution_count": 30,
     "metadata": {},
     "output_type": "execute_result"
    }
   ],
   "source": [
    "w2v.most_similar(['paracetamol', 'Tablet'], topn=10)"
   ]
  },
  {
   "cell_type": "code",
   "execution_count": 37,
   "id": "24774fb2-92f7-4727-9ee7-cf33063c6bd1",
   "metadata": {},
   "outputs": [
    {
     "data": {
      "text/plain": [
       "[('suv', 0.5914576649665833),\n",
       " ('mercedes', 0.5789198279380798),\n",
       " ('volvo', 0.5543122291564941),\n",
       " ('vehicle', 0.5405901074409485),\n",
       " ('hyundai', 0.5352474451065063),\n",
       " ('ferrari', 0.5351070165634155),\n",
       " ('porsche', 0.535018801689148),\n",
       " ('vechile', 0.5340680480003357),\n",
       " ('renault', 0.5305039286613464),\n",
       " ('cars', 0.5296058654785156)]"
      ]
     },
     "execution_count": 37,
     "metadata": {},
     "output_type": "execute_result"
    }
   ],
   "source": [
    "w2v.most_similar(['car', 'dubai'], topn=10)"
   ]
  },
  {
   "cell_type": "code",
   "execution_count": 49,
   "id": "e5594968-e87d-45d9-a3dd-aa6433752a3e",
   "metadata": {},
   "outputs": [
    {
     "data": {
      "text/plain": [
       "[('Milan', 0.7222140431404114),\n",
       " ('Rome', 0.702830970287323),\n",
       " ('Palermo_Sicily', 0.5967571139335632),\n",
       " ('Italian', 0.5911272764205933),\n",
       " ('Tuscany', 0.5632812976837158),\n",
       " ('Bologna', 0.5608358383178711),\n",
       " ('Sicily', 0.5596384406089783),\n",
       " ('Bologna_Italy', 0.5470059514045715),\n",
       " ('Berna_Milan', 0.5464028120040894),\n",
       " ('Genoa', 0.5308900475502014)]"
      ]
     },
     "execution_count": 49,
     "metadata": {},
     "output_type": "execute_result"
    }
   ],
   "source": [
    "w2v.most_similar(positive = [ 'Paris', 'Italy'], negative='France' )"
   ]
  },
  {
   "cell_type": "code",
   "execution_count": 55,
   "id": "9a0a4703-8f67-4f27-8f4d-ff42cb8469e1",
   "metadata": {},
   "outputs": [
    {
     "data": {
      "text/plain": [
       "[('wikipedia', 0.5264362692832947),\n",
       " ('cnet', 0.5068186521530151),\n",
       " ('google.com', 0.5003923177719116),\n",
       " ('google_yahoo', 0.4979444146156311),\n",
       " ('slashdot', 0.4940592348575592),\n",
       " ('aol', 0.4823906123638153),\n",
       " ('ascii', 0.4821126461029053),\n",
       " ('DOT_com', 0.4753817021846771),\n",
       " ('usenet', 0.47479894757270813),\n",
       " ('inurl', 0.4743559956550598)]"
      ]
     },
     "execution_count": 55,
     "metadata": {},
     "output_type": "execute_result"
    }
   ],
   "source": [
    "w2v.most_similar(positive = ['microsoft', 'google'], negative='windows' )"
   ]
  },
  {
   "cell_type": "code",
   "execution_count": 56,
   "id": "eb289e96-aad2-40f6-8951-46773a1d37f7",
   "metadata": {},
   "outputs": [
    {
     "data": {
      "text/plain": [
       "'Apple'"
      ]
     },
     "execution_count": 56,
     "metadata": {},
     "output_type": "execute_result"
    }
   ],
   "source": [
    "w2v.doesnt_match(['audi', 'BMW', 'Volvo', 'Apple'])"
   ]
  },
  {
   "cell_type": "code",
   "execution_count": 61,
   "id": "41cac9d9-f650-46c0-8945-7b4354c84857",
   "metadata": {},
   "outputs": [
    {
     "data": {
      "text/plain": [
       "'orange'"
      ]
     },
     "execution_count": 61,
     "metadata": {},
     "output_type": "execute_result"
    }
   ],
   "source": [
    "w2v.doesnt_match(['adobe', 'google', 'microsoft', 'lenevo', 'orange'])"
   ]
  },
  {
   "cell_type": "code",
   "execution_count": 64,
   "id": "415806a2-b346-4ef7-af73-3d9e949525de",
   "metadata": {},
   "outputs": [],
   "source": [
    "pairs = [('car', 'minivan'),\n",
    "('car', 'bicycle'),\n",
    "('car', 'airplane'),\n",
    "('car', 'politics')]"
   ]
  },
  {
   "cell_type": "code",
   "execution_count": 65,
   "id": "d04ca896-e297-4165-946d-55c6ea569cd1",
   "metadata": {},
   "outputs": [
    {
     "name": "stdout",
     "output_type": "stream",
     "text": [
      "Similarity  ('car', 'minivan') 0.69070363\n",
      "Similarity  ('car', 'bicycle') 0.5364485\n",
      "Similarity  ('car', 'airplane') 0.42435578\n",
      "Similarity  ('car', 'politics') 0.11749144\n"
     ]
    }
   ],
   "source": [
    "for w1,w2 in pairs:\n",
    "    print(\"Similarity \",(w1,w2), w2v.similarity(w1,w2))"
   ]
  },
  {
   "cell_type": "code",
   "execution_count": 67,
   "id": "156dde05-954f-41c9-85da-53e7bc7bdd8a",
   "metadata": {},
   "outputs": [
    {
     "name": "stdout",
     "output_type": "stream",
     "text": [
      "Similarity  ('bank', 'river') 0.21523127\n",
      "Similarity  ('bank', 'account') 0.3625917\n"
     ]
    }
   ],
   "source": [
    "pairs = [('bank', 'river'),\n",
    "('bank', 'account')]\n",
    "\n",
    "for w1,w2 in pairs:\n",
    "    print(\"Similarity \",(w1,w2), w2v.similarity(w1,w2))"
   ]
  },
  {
   "cell_type": "code",
   "execution_count": 68,
   "id": "64e20d5b-15a3-499c-8521-8e3af3c8b73a",
   "metadata": {},
   "outputs": [
    {
     "name": "stdout",
     "output_type": "stream",
     "text": [
      "Similarity  ('apple', 'fruit') 0.6410147\n",
      "Similarity  ('apple', 'iphone') 0.31990403\n"
     ]
    }
   ],
   "source": [
    "pairs = [('apple', 'fruit'),\n",
    "('apple', 'iphone')]\n",
    "\n",
    "for w1,w2 in pairs:\n",
    "    print(\"Similarity \",(w1,w2), w2v.similarity(w1,w2))"
   ]
  },
  {
   "cell_type": "code",
   "execution_count": null,
   "id": "116677c1-edf1-42b7-b136-41424aef10f5",
   "metadata": {},
   "outputs": [],
   "source": [
    "Limitations of Word2vec\n",
    "1. has difficulty in handling unknown words\n",
    "2. same word with multi meanings\n",
    "3. difficult to scale a new languages\n",
    "4. create a own set of model for domain specific"
   ]
  },
  {
   "cell_type": "code",
   "execution_count": null,
   "id": "1ac0cc07-97a5-4b01-a006-387c28d40d2e",
   "metadata": {},
   "outputs": [],
   "source": [
    "#Attention is all you need"
   ]
  },
  {
   "cell_type": "code",
   "execution_count": null,
   "id": "64b9fed9-1669-435f-b37a-7941d308883a",
   "metadata": {},
   "outputs": [],
   "source": []
  },
  {
   "cell_type": "code",
   "execution_count": 88,
   "id": "9bcc6bae-1dcb-4453-ab13-48eccf62aba8",
   "metadata": {},
   "outputs": [],
   "source": [
    "import pandas as pd\n",
    "from sklearn.decomposition import PCA\n",
    "import matplotlib.pyplot as plt\n",
    "%matplotlib inline"
   ]
  },
  {
   "cell_type": "code",
   "execution_count": null,
   "id": "fb9b40d0-8c6e-423f-9536-27b57f11f928",
   "metadata": {},
   "outputs": [],
   "source": [
    "PCA -> 300 -> 2 "
   ]
  },
  {
   "cell_type": "code",
   "execution_count": 69,
   "id": "e84b8bf9-e9ba-4fc4-a5f2-4535b621ef73",
   "metadata": {},
   "outputs": [],
   "source": [
    "words = ['microsoft','google', 'facebook', 'adobe', 'HP', 'DELL', 'paris', 'rome', 'chennai', 'delhi', 'dubai', 'monitor', 'galaxy','keyboard']"
   ]
  },
  {
   "cell_type": "code",
   "execution_count": 71,
   "id": "a8f6128c-be6c-4038-9d38-e728141551a5",
   "metadata": {},
   "outputs": [],
   "source": [
    "vec = []\n",
    "for word in words:\n",
    "    vec.append(w2v[word])"
   ]
  },
  {
   "cell_type": "code",
   "execution_count": 72,
   "id": "bc4f85a4-bd18-4f3b-8890-426a18816c0a",
   "metadata": {
    "scrolled": true
   },
   "outputs": [
    {
     "data": {
      "text/plain": [
       "[array([ 0.18359375, -0.29882812, -0.29101562,  0.19824219, -0.13769531,\n",
       "         0.02575684, -0.04174805,  0.35742188, -0.20117188, -0.01293945,\n",
       "        -0.484375  , -0.3984375 ,  0.2109375 , -0.3828125 , -0.28125   ,\n",
       "         0.03295898,  0.06542969,  0.08105469,  0.19335938,  0.20410156,\n",
       "        -0.28515625, -0.21484375, -0.22070312,  0.17773438, -0.23730469,\n",
       "         0.18359375, -0.59765625,  0.5859375 , -0.05200195, -0.11914062,\n",
       "        -0.17285156,  0.06884766, -0.10058594, -0.171875  , -0.46875   ,\n",
       "        -0.00836182, -0.15039062, -0.06787109,  0.5       , -0.5546875 ,\n",
       "        -0.3984375 ,  0.68359375,  0.60546875,  0.11279297, -0.38085938,\n",
       "         0.02026367, -0.12207031,  0.00799561, -0.13378906,  0.04174805,\n",
       "        -0.37890625, -0.40820312,  0.00482178, -0.00183105, -0.38867188,\n",
       "         0.08203125, -0.23632812, -0.13867188, -0.34179688, -0.37890625,\n",
       "         0.31445312, -0.03955078, -0.27929688,  0.19824219, -0.22460938,\n",
       "         0.06396484, -0.02441406,  0.12597656, -0.7421875 , -0.01135254,\n",
       "        -0.16699219,  0.20898438, -0.40039062, -0.13867188, -0.27929688,\n",
       "        -0.1484375 ,  0.58984375,  0.22167969, -0.16992188,  0.12451172,\n",
       "        -0.23925781, -0.01953125,  0.01348877,  0.08789062,  0.27734375,\n",
       "         0.29101562, -0.1796875 ,  0.04052734, -0.50390625, -0.01281738,\n",
       "        -0.17089844,  0.296875  , -0.34179688, -0.24804688,  0.25      ,\n",
       "         0.30859375, -0.38867188, -0.23828125,  0.515625  , -0.02844238,\n",
       "        -0.29101562,  0.03710938, -0.22167969,  0.17382812, -0.20605469,\n",
       "         0.69140625, -0.34960938,  0.37109375,  0.4765625 , -0.515625  ,\n",
       "        -0.4609375 , -0.15136719,  0.29296875, -0.2265625 ,  0.28710938,\n",
       "         0.44726562,  0.01538086, -0.80859375, -0.06445312,  0.00897217,\n",
       "        -0.52734375, -0.2421875 , -0.06494141, -0.22167969,  0.01757812,\n",
       "        -0.18945312,  0.14648438,  0.18164062, -0.0703125 , -0.08251953,\n",
       "        -0.23925781,  0.26757812,  0.03100586, -0.04150391,  0.13476562,\n",
       "         0.04418945, -0.59375   , -0.36328125, -0.02648926, -0.18359375,\n",
       "         0.33398438, -0.89453125, -0.515625  ,  0.11083984, -0.12011719,\n",
       "        -0.26757812,  0.35351562,  0.25976562, -0.13671875, -0.44921875,\n",
       "         0.1484375 , -0.12353516, -0.16992188,  0.1328125 , -0.375     ,\n",
       "        -0.05908203,  0.32617188,  0.38476562, -0.19628906,  0.27539062,\n",
       "        -0.25195312,  0.37695312, -0.0378418 ,  0.31835938, -0.24609375,\n",
       "        -0.13671875,  0.13378906,  0.49414062, -0.35546875,  0.34570312,\n",
       "        -0.671875  , -0.48828125, -0.21679688, -0.16503906,  0.1640625 ,\n",
       "         0.12402344,  0.53515625, -0.81640625,  0.93359375, -0.29101562,\n",
       "         0.04467773, -0.125     , -0.37304688, -0.42578125,  0.12695312,\n",
       "         0.4609375 , -0.29296875,  0.0246582 ,  0.25390625, -0.26953125,\n",
       "         0.28320312,  0.44921875, -0.33203125, -0.16601562, -0.09082031,\n",
       "         0.20214844, -0.47070312, -0.35742188, -0.01867676,  0.1328125 ,\n",
       "        -0.34765625,  0.17871094, -0.09277344,  0.00964355,  0.00491333,\n",
       "        -0.22070312,  0.22460938, -0.32617188, -0.24316406, -0.03271484,\n",
       "        -0.07177734, -0.18554688, -0.53515625,  0.03735352, -0.6328125 ,\n",
       "        -0.53515625,  0.11230469, -0.03125   ,  0.10644531, -0.59765625,\n",
       "        -0.3203125 , -0.24121094,  0.66015625,  0.14746094,  0.11865234,\n",
       "         0.19433594,  0.390625  ,  0.07470703,  0.6171875 , -0.140625  ,\n",
       "         0.02624512, -0.46289062,  0.11132812, -0.14160156, -0.4296875 ,\n",
       "        -0.0703125 ,  0.11523438, -0.09375   , -0.25585938,  0.05834961,\n",
       "         0.14355469,  0.10302734, -0.01989746, -0.27148438, -0.28320312,\n",
       "        -0.20507812, -0.41015625, -0.00250244, -0.5234375 ,  0.44335938,\n",
       "        -0.20019531,  0.10791016,  0.40625   ,  0.03149414, -0.26367188,\n",
       "        -0.80859375, -0.29492188, -0.08691406,  0.51171875, -0.07226562,\n",
       "         0.34375   , -0.01708984,  0.13769531, -0.39648438,  0.18847656,\n",
       "         0.02722168, -0.16601562,  0.13867188, -0.00271606, -0.125     ,\n",
       "         0.15527344,  0.04541016, -0.29101562,  0.11132812,  0.45507812,\n",
       "         0.06396484, -0.05053711, -0.17285156, -0.26953125,  0.640625  ,\n",
       "        -0.31445312,  0.546875  ,  0.41796875,  0.38085938,  0.33984375,\n",
       "        -0.31445312,  0.23730469,  0.00369263,  0.03198242,  0.07714844,\n",
       "         0.04248047,  0.38671875,  0.09082031,  0.12597656,  0.32617188,\n",
       "        -0.21777344, -0.37695312,  0.04541016, -0.04296875,  0.2578125 ],\n",
       "       dtype=float32),\n",
       " array([ 0.11279297, -0.22949219,  0.01782227,  0.19238281, -0.22558594,\n",
       "         0.00933838, -0.01708984, -0.17285156,  0.1953125 , -0.05444336,\n",
       "         0.13867188, -0.27148438, -0.26757812,  0.08056641, -0.21191406,\n",
       "         0.31835938,  0.10693359, -0.00732422,  0.02758789, -0.40234375,\n",
       "        -0.07763672,  0.2421875 ,  0.09912109,  0.06689453, -0.36328125,\n",
       "        -0.09521484, -0.09423828,  0.11474609, -0.07128906, -0.14355469,\n",
       "        -0.10302734,  0.11376953, -0.22070312,  0.01489258, -0.125     ,\n",
       "         0.05566406, -0.07080078,  0.14648438,  0.32226562,  0.21679688,\n",
       "         0.12207031, -0.09863281,  0.05566406,  0.31445312,  0.20605469,\n",
       "        -0.0246582 ,  0.07226562, -0.25390625, -0.13085938, -0.20800781,\n",
       "        -0.22851562,  0.0189209 , -0.06787109, -0.00218201, -0.0112915 ,\n",
       "         0.04101562, -0.04907227, -0.10791016,  0.06591797, -0.02526855,\n",
       "         0.046875  , -0.27148438, -0.13476562,  0.08544922, -0.30078125,\n",
       "        -0.09375   , -0.36523438, -0.17871094, -0.07666016, -0.02770996,\n",
       "        -0.06201172,  0.42773438, -0.13769531, -0.02062988, -0.20800781,\n",
       "        -0.09375   , -0.12109375,  0.11083984,  0.00476074,  0.07861328,\n",
       "         0.05297852,  0.2578125 ,  0.21582031, -0.03930664,  0.16210938,\n",
       "         0.00479126, -0.00375366,  0.20507812, -0.18847656,  0.03637695,\n",
       "         0.03588867, -0.01623535, -0.13378906, -0.21875   ,  0.0246582 ,\n",
       "         0.12304688,  0.03759766,  0.08496094,  0.43164062,  0.26953125,\n",
       "        -0.1953125 , -0.19042969, -0.10546875,  0.05834961,  0.0390625 ,\n",
       "         0.29296875, -0.55859375,  0.03088379,  0.20117188, -0.18066406,\n",
       "        -0.28515625,  0.07080078, -0.20800781, -0.16113281,  0.40234375,\n",
       "         0.0112915 , -0.09570312, -0.36914062, -0.01464844,  0.18457031,\n",
       "        -0.01623535,  0.03955078, -0.32421875, -0.14648438,  0.11181641,\n",
       "         0.18261719, -0.04736328,  0.17285156, -0.05175781, -0.14160156,\n",
       "        -0.3359375 , -0.21972656, -0.06396484,  0.2421875 , -0.14550781,\n",
       "        -0.23046875,  0.04125977, -0.2265625 ,  0.10058594,  0.12158203,\n",
       "         0.24023438, -0.20019531, -0.11572266, -0.17285156,  0.19140625,\n",
       "        -0.10546875, -0.04492188, -0.16113281, -0.10449219, -0.40625   ,\n",
       "         0.07470703, -0.38085938, -0.3046875 ,  0.03417969, -0.03491211,\n",
       "        -0.15234375, -0.07373047,  0.06396484,  0.05664062, -0.03613281,\n",
       "        -0.09814453,  0.29101562, -0.15625   , -0.11230469,  0.203125  ,\n",
       "        -0.4765625 ,  0.16992188,  0.02990723, -0.296875  ,  0.02111816,\n",
       "        -0.01623535,  0.34960938,  0.01782227,  0.06835938, -0.10693359,\n",
       "         0.01843262,  0.31640625, -0.03369141,  0.265625  , -0.38476562,\n",
       "         0.00817871, -0.13964844, -0.00756836,  0.01306152,  0.1875    ,\n",
       "         0.17382812,  0.11767578,  0.16015625, -0.05957031, -0.08398438,\n",
       "         0.11914062,  0.25390625,  0.02709961, -0.05493164,  0.10107422,\n",
       "         0.45117188, -0.26953125, -0.3203125 ,  0.11865234, -0.11083984,\n",
       "        -0.25390625,  0.24316406, -0.02282715, -0.109375  , -0.16113281,\n",
       "         0.09179688, -0.265625  , -0.11816406, -0.02001953,  0.40429688,\n",
       "         0.01745605,  0.16015625, -0.31054688, -0.02648926, -0.14257812,\n",
       "         0.02954102,  0.12792969, -0.04272461, -0.14160156,  0.06542969,\n",
       "        -0.01123047, -0.02148438,  0.10400391,  0.17382812, -0.12451172,\n",
       "        -0.01361084, -0.08886719,  0.02490234, -0.19042969,  0.01226807,\n",
       "         0.18164062, -0.18066406, -0.20117188, -0.09570312,  0.13769531,\n",
       "         0.04052734,  0.22558594,  0.09960938,  0.27929688,  0.15527344,\n",
       "         0.09863281,  0.28320312,  0.06030273,  0.08056641,  0.00494385,\n",
       "         0.14160156,  0.11083984,  0.43945312, -0.30273438, -0.0612793 ,\n",
       "        -0.00915527, -0.05029297,  0.0612793 ,  0.19238281,  0.06640625,\n",
       "        -0.23242188, -0.10058594, -0.20605469,  0.10546875, -0.20214844,\n",
       "         0.2265625 ,  0.00854492,  0.23730469, -0.25585938,  0.07470703,\n",
       "        -0.05004883, -0.07714844, -0.0534668 ,  0.02746582, -0.24414062,\n",
       "         0.04125977,  0.09228516,  0.26171875,  0.07910156, -0.12597656,\n",
       "        -0.06445312, -0.11328125, -0.25390625,  0.08984375,  0.3046875 ,\n",
       "        -0.22753906,  0.08740234, -0.11572266,  0.24121094, -0.09912109,\n",
       "         0.00518799, -0.08691406,  0.03979492, -0.01159668,  0.21484375,\n",
       "         0.43359375,  0.25585938, -0.20019531,  0.27734375,  0.04638672,\n",
       "        -0.3203125 , -0.02453613, -0.26171875, -0.13671875, -0.08154297],\n",
       "       dtype=float32),\n",
       " array([ 0.22070312, -0.22558594,  0.0324707 ,  0.17382812, -0.14453125,\n",
       "         0.04785156, -0.13183594, -0.35546875,  0.15527344, -0.33007812,\n",
       "         0.14160156, -0.21777344, -0.203125  ,  0.140625  ,  0.20214844,\n",
       "        -0.07714844,  0.13574219, -0.11669922, -0.21777344,  0.05541992,\n",
       "         0.14746094,  0.12597656,  0.34765625,  0.03637695, -0.27734375,\n",
       "        -0.15136719, -0.33789062,  0.2109375 ,  0.11083984, -0.29296875,\n",
       "        -0.03149414, -0.0703125 , -0.16601562, -0.13769531, -0.10839844,\n",
       "        -0.16210938, -0.006073  ,  0.06542969,  0.453125  , -0.00305176,\n",
       "        -0.06494141, -0.16796875,  0.14257812,  0.36914062,  0.21875   ,\n",
       "        -0.13378906, -0.04272461, -0.09277344, -0.19140625, -0.30664062,\n",
       "        -0.07275391, -0.26171875, -0.07519531,  0.21875   ,  0.14746094,\n",
       "         0.0534668 , -0.1875    ,  0.22949219, -0.09619141, -0.20214844,\n",
       "         0.06835938, -0.25      , -0.06738281,  0.24609375, -0.31054688,\n",
       "        -0.05737305,  0.16113281, -0.171875  ,  0.06347656,  0.29101562,\n",
       "        -0.20019531,  0.36132812,  0.21386719, -0.109375  ,  0.04418945,\n",
       "        -0.10449219, -0.05200195, -0.0859375 ,  0.29882812, -0.04272461,\n",
       "        -0.22265625, -0.02062988,  0.16210938,  0.02490234,  0.22363281,\n",
       "        -0.03466797, -0.26757812,  0.09326172, -0.03710938,  0.03588867,\n",
       "        -0.15625   , -0.34765625, -0.1015625 , -0.3515625 , -0.03442383,\n",
       "         0.33203125, -0.00233459, -0.171875  ,  0.54296875,  0.09277344,\n",
       "         0.02819824,  0.02282715, -0.00466919, -0.01104736, -0.02331543,\n",
       "         0.15039062, -0.24902344, -0.14941406,  0.16113281,  0.05322266,\n",
       "        -0.33398438, -0.37109375, -0.04467773, -0.12695312,  0.31640625,\n",
       "        -0.18457031, -0.03393555, -0.11376953, -0.07958984,  0.02587891,\n",
       "         0.1875    , -0.28515625, -0.40625   ,  0.11083984, -0.01904297,\n",
       "         0.09912109, -0.15136719,  0.20410156, -0.0177002 ,  0.00842285,\n",
       "        -0.19140625, -0.26171875, -0.18359375,  0.01489258, -0.09033203,\n",
       "        -0.14257812, -0.07910156,  0.05224609, -0.10058594, -0.11523438,\n",
       "         0.28320312, -0.0480957 , -0.08154297, -0.32617188,  0.21582031,\n",
       "         0.22753906, -0.1796875 , -0.06787109, -0.00267029, -0.5078125 ,\n",
       "         0.11962891,  0.11035156,  0.046875  , -0.23925781, -0.0177002 ,\n",
       "        -0.15527344,  0.11083984, -0.23535156,  0.02246094,  0.07324219,\n",
       "        -0.23339844, -0.05029297, -0.28515625,  0.2578125 , -0.04443359,\n",
       "        -0.17675781, -0.06982422,  0.01928711, -0.36132812,  0.46679688,\n",
       "        -0.03881836,  0.29296875,  0.03051758,  0.21289062, -0.26367188,\n",
       "         0.17578125,  0.12109375, -0.06396484,  0.3125    , -0.23632812,\n",
       "         0.20019531, -0.07714844, -0.06640625,  0.109375  ,  0.15039062,\n",
       "        -0.03149414, -0.2265625 ,  0.1875    ,  0.1640625 , -0.13378906,\n",
       "         0.09472656,  0.09960938, -0.30078125,  0.08300781,  0.12255859,\n",
       "         0.30859375,  0.0189209 ,  0.10986328, -0.13378906, -0.26367188,\n",
       "        -0.10742188,  0.25390625,  0.12597656, -0.1953125 ,  0.2890625 ,\n",
       "        -0.0019455 ,  0.03466797, -0.09423828, -0.5078125 ,  0.16308594,\n",
       "         0.00714111,  0.29882812, -0.0859375 , -0.03930664, -0.13574219,\n",
       "        -0.06689453, -0.09619141, -0.10400391, -0.203125  , -0.11621094,\n",
       "        -0.29101562,  0.1640625 , -0.02111816,  0.19238281,  0.234375  ,\n",
       "        -0.24121094, -0.18945312,  0.14941406, -0.1484375 ,  0.0135498 ,\n",
       "        -0.0703125 ,  0.24511719, -0.15820312, -0.10351562,  0.14941406,\n",
       "        -0.46484375,  0.34570312, -0.23828125,  0.16894531,  0.35742188,\n",
       "         0.23535156,  0.15429688, -0.01190186,  0.19628906, -0.31054688,\n",
       "         0.3203125 ,  0.06542969,  0.2890625 , -0.26757812, -0.19140625,\n",
       "         0.02185059,  0.25585938,  0.10058594,  0.30078125,  0.39453125,\n",
       "        -0.07470703,  0.06933594,  0.2890625 , -0.13867188, -0.28710938,\n",
       "         0.10888672,  0.07763672,  0.12792969, -0.27734375, -0.3203125 ,\n",
       "         0.01965332, -0.15527344,  0.03063965, -0.15332031,  0.01660156,\n",
       "         0.06542969,  0.515625  , -0.0037384 ,  0.06494141, -0.09765625,\n",
       "        -0.27734375,  0.02270508, -0.10351562,  0.203125  ,  0.19628906,\n",
       "         0.12451172,  0.06445312, -0.31835938,  0.20703125, -0.07373047,\n",
       "        -0.00337219, -0.1796875 ,  0.38085938,  0.40820312,  0.02624512,\n",
       "         0.36132812,  0.21972656, -0.23046875, -0.05566406,  0.02185059,\n",
       "        -0.34179688,  0.34960938, -0.3359375 , -0.14746094, -0.32226562],\n",
       "       dtype=float32),\n",
       " array([ 7.37304688e-02, -1.49414062e-01, -1.46484375e-01,  4.23828125e-01,\n",
       "        -1.07421875e-01,  1.56250000e-02,  3.35937500e-01,  1.66015625e-01,\n",
       "        -2.69775391e-02,  1.90429688e-01, -1.55273438e-01, -6.48437500e-01,\n",
       "        -6.68945312e-02, -1.47460938e-01,  2.39257812e-01, -1.49414062e-01,\n",
       "         2.73437500e-01,  3.47656250e-01, -7.81250000e-02,  2.51953125e-01,\n",
       "        -3.51562500e-01,  1.27929688e-01, -1.73828125e-01,  1.22558594e-01,\n",
       "        -4.25781250e-01, -2.50000000e-01, -1.78710938e-01,  3.37890625e-01,\n",
       "        -1.91406250e-01, -6.25000000e-01,  1.97265625e-01, -2.81250000e-01,\n",
       "         4.80957031e-02, -2.08007812e-01,  1.94091797e-02, -1.89453125e-01,\n",
       "        -8.00781250e-02, -2.87109375e-01,  5.15625000e-01, -2.13867188e-01,\n",
       "        -4.34570312e-02,  5.35156250e-01,  6.91406250e-01,  1.11328125e-01,\n",
       "         1.91406250e-01,  1.40625000e-01, -7.12890625e-02, -1.64794922e-02,\n",
       "        -4.37500000e-01, -4.41894531e-02, -7.27539062e-02,  1.50756836e-02,\n",
       "         1.61132812e-01, -1.04492188e-01, -4.12109375e-01,  3.41796875e-02,\n",
       "        -2.03125000e-01, -1.44531250e-01, -3.49609375e-01, -1.63085938e-01,\n",
       "         1.10839844e-01,  5.98144531e-02, -3.71093750e-01, -4.00390625e-02,\n",
       "        -5.20019531e-02, -3.53515625e-01, -3.06640625e-01, -8.66699219e-03,\n",
       "        -4.72656250e-01,  2.05078125e-01, -6.25000000e-02, -7.66601562e-02,\n",
       "        -4.23828125e-01, -1.65039062e-01,  3.56445312e-02,  1.53320312e-01,\n",
       "         2.61718750e-01,  1.23535156e-01, -4.53125000e-01, -1.18164062e-01,\n",
       "        -2.55859375e-01,  5.05371094e-02, -1.55273438e-01, -1.14257812e-01,\n",
       "        -2.31933594e-02,  2.19726562e-01, -2.11914062e-01,  6.68945312e-02,\n",
       "        -3.18359375e-01, -1.31835938e-01, -3.41796875e-01,  2.11914062e-01,\n",
       "        -7.08007812e-02, -1.10351562e-01,  2.07031250e-01,  3.76953125e-01,\n",
       "        -7.95898438e-02, -4.94140625e-01,  2.51953125e-01, -2.69531250e-01,\n",
       "        -2.51953125e-01,  2.91015625e-01, -4.12597656e-02,  1.10839844e-01,\n",
       "        -1.37695312e-01,  3.96484375e-01,  8.88671875e-02,  1.80664062e-01,\n",
       "         7.22656250e-02, -8.49609375e-02, -3.08593750e-01,  1.04980469e-01,\n",
       "         2.32421875e-01, -5.78125000e-01,  3.78906250e-01,  3.02124023e-03,\n",
       "         1.27929688e-01, -5.31250000e-01,  2.11181641e-02,  5.83496094e-02,\n",
       "        -2.39257812e-01, -4.25781250e-01, -7.42187500e-02, -1.77734375e-01,\n",
       "         5.22460938e-02, -2.23632812e-01,  2.23632812e-01,  4.93164062e-02,\n",
       "        -8.00781250e-02,  2.41210938e-01, -9.81445312e-02, -1.36718750e-01,\n",
       "         4.27246094e-02,  1.80664062e-01,  2.11914062e-01,  1.11328125e-01,\n",
       "        -7.07031250e-01, -1.71875000e-01,  1.92382812e-01, -5.12695312e-02,\n",
       "        -2.78320312e-02, -7.30468750e-01, -2.77343750e-01, -4.10156250e-02,\n",
       "         2.69531250e-01, -1.33789062e-01,  5.54687500e-01,  4.61425781e-02,\n",
       "         7.76367188e-02, -7.47070312e-02, -9.81445312e-02, -5.27343750e-01,\n",
       "        -1.96533203e-02,  2.18750000e-01, -3.43750000e-01, -9.61914062e-02,\n",
       "         1.73828125e-01,  3.96484375e-01, -3.61328125e-01,  1.38671875e-01,\n",
       "         3.01513672e-02,  2.96875000e-01, -1.89453125e-01,  2.24609375e-02,\n",
       "        -9.66796875e-02,  2.68554688e-02,  7.69531250e-01, -8.83789062e-02,\n",
       "        -1.34765625e-01, -6.78710938e-02, -4.70703125e-01, -2.96875000e-01,\n",
       "         1.70898438e-01, -3.90625000e-01,  1.59179688e-01,  1.90429688e-01,\n",
       "         4.00390625e-01, -6.32812500e-01,  5.89843750e-01,  3.28125000e-01,\n",
       "        -3.65234375e-01, -3.04687500e-01, -2.21679688e-01, -3.71093750e-01,\n",
       "         3.88671875e-01, -2.71484375e-01, -4.37011719e-02, -3.08593750e-01,\n",
       "         2.69531250e-01, -2.09960938e-01, -9.27734375e-02,  3.78417969e-02,\n",
       "         1.66015625e-01, -1.07910156e-01,  2.31445312e-01,  4.00390625e-01,\n",
       "        -3.51562500e-01,  1.06201172e-02,  3.08593750e-01,  2.81250000e-01,\n",
       "        -7.12890625e-02,  1.37695312e-01,  6.78710938e-02, -2.48046875e-01,\n",
       "         2.38281250e-01, -1.03515625e-01,  1.21093750e-01, -8.00781250e-02,\n",
       "         1.25000000e-01, -5.05371094e-02, -1.98242188e-01, -5.88989258e-03,\n",
       "        -6.52343750e-01, -1.66015625e-01, -4.16015625e-01, -3.73535156e-02,\n",
       "        -3.16406250e-01,  9.61914062e-02, -3.32031250e-01, -1.95312500e-01,\n",
       "        -1.99218750e-01,  2.38281250e-01,  1.43554688e-01,  8.54492188e-03,\n",
       "         2.62451172e-02,  2.06947327e-04,  2.83203125e-01,  3.14453125e-01,\n",
       "         4.53125000e-01,  3.39355469e-02, -3.33984375e-01, -2.31445312e-01,\n",
       "        -4.56542969e-02, -7.37304688e-02, -4.76562500e-01, -1.24023438e-01,\n",
       "         1.69921875e-01, -4.71191406e-02, -2.10937500e-01,  4.37011719e-02,\n",
       "        -4.90722656e-02, -3.29589844e-02,  2.51953125e-01, -6.54296875e-02,\n",
       "         4.30297852e-03, -1.30859375e-01, -5.46875000e-01,  2.19726562e-01,\n",
       "        -3.94531250e-01,  7.51953125e-02,  1.82617188e-01,  1.40991211e-02,\n",
       "         5.66406250e-02, -1.95312500e-01, -1.76757812e-01, -4.35546875e-01,\n",
       "        -5.89843750e-01, -1.93359375e-01,  4.27734375e-01, -8.39843750e-02,\n",
       "        -7.91015625e-02, -2.65625000e-01,  2.16796875e-01, -1.54296875e-01,\n",
       "         1.04003906e-01,  8.59375000e-02,  7.12890625e-02, -1.99218750e-01,\n",
       "         8.59375000e-02, -2.59765625e-01, -3.71093750e-02, -1.60156250e-01,\n",
       "        -5.76171875e-02, -4.51660156e-03, -5.27954102e-03,  9.17968750e-02,\n",
       "         2.71484375e-01, -2.77343750e-01, -3.08593750e-01,  3.29589844e-02,\n",
       "         1.74804688e-01,  3.14453125e-01,  1.17187500e-01,  1.21093750e-01,\n",
       "         3.73046875e-01, -4.19921875e-01,  2.53906250e-01,  2.91015625e-01,\n",
       "         9.52148438e-02,  1.98242188e-01, -3.35937500e-01, -7.66601562e-02,\n",
       "         2.27539062e-01,  5.42968750e-01,  5.66406250e-01,  2.55859375e-01,\n",
       "         4.10156250e-02, -2.11914062e-01,  8.97216797e-03,  1.81640625e-01],\n",
       "       dtype=float32),\n",
       " array([ 1.14746094e-01,  7.76367188e-02, -1.84570312e-01, -1.57470703e-02,\n",
       "        -1.44531250e-01,  2.19726562e-01,  1.73828125e-01, -5.68847656e-02,\n",
       "        -1.39648438e-01,  2.33398438e-01,  5.20019531e-02,  3.76953125e-01,\n",
       "         1.34765625e-01, -6.25000000e-02, -1.00097656e-01, -2.07519531e-02,\n",
       "         5.56640625e-02, -2.51953125e-01,  1.42211914e-02,  1.14746094e-01,\n",
       "        -9.13085938e-02,  1.34277344e-02, -8.69140625e-02, -5.00488281e-02,\n",
       "         1.24023438e-01, -3.61328125e-02, -1.55273438e-01,  1.50390625e-01,\n",
       "         2.12890625e-01, -4.37011719e-02, -9.52148438e-02,  7.04956055e-03,\n",
       "        -1.25000000e-01,  6.62231445e-03, -7.56835938e-02, -2.41210938e-01,\n",
       "        -6.83593750e-02, -2.88085938e-02,  2.12890625e-01,  2.36328125e-01,\n",
       "         9.86328125e-02,  3.26171875e-01,  8.05664062e-02, -1.12792969e-01,\n",
       "        -7.17773438e-02,  3.63769531e-02, -3.17382812e-03, -1.26953125e-01,\n",
       "         3.02734375e-01,  1.88476562e-01, -8.83789062e-02, -1.29394531e-02,\n",
       "        -1.62109375e-01,  1.73828125e-01,  2.38037109e-02,  9.57031250e-02,\n",
       "        -1.28173828e-02,  6.88476562e-02,  1.73828125e-01,  6.44531250e-02,\n",
       "        -3.83300781e-02,  2.07031250e-01, -3.10546875e-01,  4.90722656e-02,\n",
       "        -1.24511719e-01, -1.25976562e-01, -2.69775391e-02,  2.73437500e-01,\n",
       "        -1.51367188e-01,  6.39648438e-02, -1.60156250e-01,  1.63085938e-01,\n",
       "         2.94921875e-01,  8.98437500e-02, -1.56250000e-01, -1.79687500e-01,\n",
       "        -7.71484375e-02, -3.18359375e-01, -1.43554688e-01,  1.55029297e-02,\n",
       "         1.08886719e-01,  2.73437500e-01,  1.72851562e-01,  2.15820312e-01,\n",
       "         6.88476562e-02, -3.88183594e-02,  3.20312500e-01,  2.94921875e-01,\n",
       "         9.32617188e-02,  1.93359375e-01,  8.88671875e-02,  3.43322754e-03,\n",
       "        -2.32421875e-01,  2.31445312e-01, -1.68945312e-01, -2.11914062e-01,\n",
       "         8.83789062e-02,  2.63671875e-01,  4.12109375e-01,  1.02050781e-01,\n",
       "         3.08837891e-02,  4.41894531e-02, -1.66992188e-01,  2.10937500e-01,\n",
       "        -1.91406250e-01, -1.14746094e-01, -1.35742188e-01,  7.91015625e-02,\n",
       "         2.34375000e-01, -3.51562500e-01, -2.14843750e-01,  1.66015625e-02,\n",
       "         1.17675781e-01, -1.27929688e-01,  6.49414062e-02,  8.20312500e-02,\n",
       "         9.03320312e-02, -2.87109375e-01,  2.09960938e-01, -3.58886719e-02,\n",
       "        -1.55273438e-01,  1.22070312e-01,  9.42382812e-02, -1.45507812e-01,\n",
       "         7.32421875e-02, -2.30468750e-01,  4.88281250e-02,  1.19628906e-01,\n",
       "        -8.91685486e-05, -1.06933594e-01, -1.95312500e-01,  6.54296875e-02,\n",
       "        -2.79296875e-01, -1.11816406e-01,  2.03125000e-01,  4.02832031e-02,\n",
       "         5.76171875e-02,  1.15234375e-01, -1.76757812e-01, -2.85156250e-01,\n",
       "         2.47802734e-02, -1.11816406e-01, -8.39843750e-02, -2.01171875e-01,\n",
       "        -1.15722656e-01, -3.54003906e-02,  2.63671875e-01,  5.22460938e-02,\n",
       "        -2.40234375e-01, -9.13085938e-02,  3.27148438e-02, -2.08984375e-01,\n",
       "        -3.33984375e-01,  2.59765625e-01, -1.53320312e-01,  1.25000000e-01,\n",
       "        -1.45507812e-01, -7.27539062e-02, -1.22070312e-01,  8.15429688e-02,\n",
       "        -1.72851562e-01,  4.12597656e-02,  4.10156250e-02,  2.17285156e-02,\n",
       "         2.01416016e-02, -2.09960938e-02,  1.75781250e-01, -6.59179688e-03,\n",
       "        -3.08593750e-01,  8.05664062e-02, -1.01928711e-02, -4.08203125e-01,\n",
       "         4.39453125e-02, -2.45117188e-01, -3.24218750e-01, -1.37695312e-01,\n",
       "         1.69921875e-01,  6.25000000e-02,  1.40625000e-01, -2.87109375e-01,\n",
       "        -4.08203125e-01,  5.05371094e-02, -1.77734375e-01, -5.03906250e-01,\n",
       "        -5.61523438e-02, -8.88671875e-02,  2.11914062e-01,  2.45117188e-01,\n",
       "         3.19824219e-02, -1.39648438e-01, -1.33789062e-01, -9.91210938e-02,\n",
       "        -1.12792969e-01, -2.14843750e-01, -5.24902344e-02,  6.17675781e-02,\n",
       "         3.56445312e-02, -1.23046875e-01,  1.13281250e-01, -2.65625000e-01,\n",
       "         1.68945312e-01, -4.63867188e-02,  1.25000000e-01,  1.57470703e-02,\n",
       "        -5.73730469e-02,  9.81445312e-02,  3.41796875e-02, -8.54492188e-02,\n",
       "        -1.63085938e-01, -4.60937500e-01,  1.31835938e-01, -9.08203125e-02,\n",
       "        -1.62353516e-02,  1.61132812e-01, -3.97949219e-02,  1.46484375e-01,\n",
       "        -2.45361328e-02,  4.53125000e-01, -3.67187500e-01, -1.04003906e-01,\n",
       "        -4.16015625e-01,  2.47070312e-01,  1.04980469e-01,  5.39062500e-01,\n",
       "        -1.30859375e-01, -4.85839844e-02, -3.21960449e-03,  2.08984375e-01,\n",
       "         3.55468750e-01, -2.36328125e-01, -2.96875000e-01,  1.06201172e-02,\n",
       "        -4.15039062e-02, -5.00000000e-01, -1.30859375e-01,  2.80761719e-02,\n",
       "         6.59179688e-02,  3.05175781e-02, -1.88476562e-01, -5.88378906e-02,\n",
       "         1.79687500e-01,  3.75976562e-02, -6.46972656e-03,  1.24023438e-01,\n",
       "         2.02148438e-01, -3.98437500e-01, -1.82617188e-01,  9.52148438e-02,\n",
       "         1.50756836e-02,  1.32812500e-01, -2.67578125e-01,  3.41796875e-01,\n",
       "        -1.65039062e-01,  1.25000000e-01,  1.50390625e-01,  1.13769531e-01,\n",
       "         1.59179688e-01, -1.39648438e-01, -9.57031250e-02, -8.05664062e-02,\n",
       "         2.11914062e-01,  2.94921875e-01, -1.42578125e-01,  1.41601562e-01,\n",
       "         2.53906250e-01, -1.30859375e-01,  4.57763672e-04, -8.93554688e-02,\n",
       "         2.57812500e-01, -6.65283203e-03,  1.80664062e-01, -9.47265625e-02,\n",
       "        -1.82617188e-01,  2.36816406e-02,  5.66406250e-02,  1.96289062e-01,\n",
       "         1.45507812e-01, -1.82617188e-01, -3.36914062e-02,  4.24804688e-02,\n",
       "         9.86328125e-02, -1.47460938e-01, -8.10546875e-02,  1.69677734e-02,\n",
       "         4.02832031e-02, -2.79296875e-01,  2.81250000e-01, -1.66992188e-01,\n",
       "         6.29882812e-02,  1.77734375e-01,  2.09960938e-01, -7.17773438e-02,\n",
       "        -3.39355469e-02, -5.20019531e-02,  8.88671875e-02, -4.51660156e-02,\n",
       "         3.22265625e-01,  1.66015625e-01, -2.11914062e-01,  6.68945312e-02],\n",
       "       dtype=float32),\n",
       " array([-0.11230469,  0.10058594,  0.08007812,  0.25976562,  0.0480957 ,\n",
       "        -0.00090027, -0.13085938,  0.15820312, -0.14355469,  0.21191406,\n",
       "        -0.29101562,  0.18261719,  0.02062988,  0.1875    ,  0.02758789,\n",
       "         0.16308594, -0.04663086, -0.14257812,  0.11621094, -0.14648438,\n",
       "         0.20605469,  0.2109375 ,  0.46679688, -0.18164062, -0.07470703,\n",
       "         0.00148773,  0.19140625,  0.3203125 , -0.02893066,  0.16015625,\n",
       "         0.10058594,  0.29101562, -0.23144531,  0.06591797, -0.18945312,\n",
       "        -0.3828125 , -0.13183594,  0.34765625, -0.09375   , -0.09765625,\n",
       "        -0.14746094,  0.13085938,  0.11279297,  0.11425781, -0.06298828,\n",
       "        -0.01269531,  0.09521484, -0.06982422, -0.1015625 , -0.11181641,\n",
       "        -0.09375   , -0.18457031, -0.28125   ,  0.41601562, -0.125     ,\n",
       "         0.02282715, -0.16601562, -0.04003906,  0.17871094,  0.38476562,\n",
       "        -0.15039062,  0.18652344, -0.203125  ,  0.15234375, -0.03857422,\n",
       "        -0.19921875,  0.25976562,  0.10986328, -0.03613281, -0.11425781,\n",
       "         0.08447266,  0.0045166 ,  0.24316406,  0.02441406, -0.31835938,\n",
       "         0.00830078,  0.10009766, -0.54296875, -0.01306152,  0.03320312,\n",
       "        -0.10888672,  0.19042969, -0.01660156, -0.16699219,  0.02770996,\n",
       "         0.04467773,  0.15820312,  0.14160156,  0.10546875,  0.10986328,\n",
       "        -0.49804688, -0.02575684, -0.13085938,  0.0213623 ,  0.00708008,\n",
       "        -0.12109375,  0.10400391,  0.32421875,  0.203125  , -0.00982666,\n",
       "         0.13378906,  0.11279297, -0.07324219, -0.11962891, -0.09130859,\n",
       "        -0.11816406, -0.18066406,  0.17285156,  0.18066406, -0.43164062,\n",
       "        -0.10400391, -0.07861328,  0.04541016,  0.03735352,  0.01794434,\n",
       "         0.02685547,  0.02307129, -0.26953125,  0.11474609,  0.03613281,\n",
       "        -0.18847656,  0.20214844, -0.09326172,  0.07861328,  0.03662109,\n",
       "         0.41210938,  0.04589844,  0.09619141, -0.04663086, -0.01977539,\n",
       "        -0.03662109, -0.15429688,  0.08398438, -0.328125  , -0.02905273,\n",
       "         0.08740234, -0.02075195,  0.03442383, -0.11083984, -0.30273438,\n",
       "        -0.18945312,  0.15820312, -0.0255127 , -0.26171875, -0.00448608,\n",
       "        -0.18359375,  0.18554688, -0.06640625, -0.0703125 , -0.47265625,\n",
       "         0.24511719, -0.29882812, -0.22851562, -0.14453125, -0.31445312,\n",
       "         0.43945312, -0.19726562,  0.05444336, -0.39648438,  0.06738281,\n",
       "        -0.20214844,  0.25976562,  0.08886719, -0.18066406,  0.22851562,\n",
       "         0.24023438,  0.44921875, -0.0402832 , -0.22460938,  0.20019531,\n",
       "         0.01428223, -0.16210938, -0.20800781, -0.36523438, -0.17089844,\n",
       "         0.06445312,  0.30078125,  0.12255859,  0.25390625, -0.49023438,\n",
       "        -0.21972656, -0.125     ,  0.171875  , -0.18847656,  0.4453125 ,\n",
       "         0.08056641,  0.10693359, -0.02001953,  0.09667969,  0.19335938,\n",
       "        -0.3046875 ,  0.06225586, -0.32226562, -0.50390625,  0.16699219,\n",
       "         0.1796875 , -0.23046875, -0.2578125 ,  0.12060547, -0.38671875,\n",
       "        -0.22949219, -0.10302734,  0.09130859, -0.17578125, -0.06494141,\n",
       "         0.07910156,  0.16113281, -0.05981445, -0.10058594, -0.23144531,\n",
       "         0.32421875,  0.18847656, -0.26171875,  0.265625  , -0.00311279,\n",
       "         0.21679688, -0.07177734,  0.2109375 , -0.37890625, -0.12597656,\n",
       "        -0.30273438,  0.15234375, -0.10058594,  0.5       , -0.14941406,\n",
       "         0.07226562, -0.1328125 , -0.15527344,  0.03808594,  0.07080078,\n",
       "        -0.13671875,  0.046875  ,  0.06396484, -0.33007812,  0.01818848,\n",
       "         0.0378418 , -0.10253906, -0.14453125, -0.26757812,  0.17871094,\n",
       "         0.20605469,  0.0402832 , -0.04541016,  0.12353516,  0.01269531,\n",
       "        -0.17382812,  0.15136719,  0.18359375,  0.03735352,  0.10546875,\n",
       "        -0.13183594,  0.33007812, -0.11425781,  0.01202393, -0.10107422,\n",
       "         0.08496094,  0.23730469,  0.23730469, -0.06787109,  0.07519531,\n",
       "         0.30664062,  0.15429688,  0.25976562,  0.00279236,  0.2890625 ,\n",
       "         0.23339844, -0.21777344,  0.16015625,  0.12255859,  0.22363281,\n",
       "        -0.37109375,  0.08447266,  0.07128906,  0.06787109,  0.26367188,\n",
       "         0.06982422, -0.13085938, -0.06347656, -0.3125    ,  0.50390625,\n",
       "        -0.10888672,  0.2890625 , -0.08691406, -0.08105469,  0.29296875,\n",
       "        -0.11230469, -0.00241089,  0.03637695,  0.07080078,  0.09960938,\n",
       "        -0.03735352, -0.11865234,  0.1328125 , -0.06396484, -0.15429688,\n",
       "        -0.29101562, -0.10986328,  0.16699219, -0.05932617, -0.10693359],\n",
       "       dtype=float32),\n",
       " array([-3.55468750e-01,  4.61425781e-02,  8.05664062e-02,  4.37500000e-01,\n",
       "         1.04980469e-02,  2.18750000e-01, -1.51367188e-01, -1.09375000e-01,\n",
       "        -2.28515625e-01,  5.76171875e-02, -2.24609375e-01, -2.65625000e-01,\n",
       "        -3.95507812e-02, -1.37695312e-01, -8.30078125e-02,  1.52343750e-01,\n",
       "         5.76171875e-02,  4.12597656e-02, -3.34472656e-02,  1.81640625e-01,\n",
       "        -2.67578125e-01, -2.12890625e-01,  1.66992188e-01,  5.37109375e-02,\n",
       "        -1.92382812e-01,  7.42187500e-02, -1.80664062e-01,  3.90625000e-02,\n",
       "        -4.83398438e-02, -3.35937500e-01, -1.35742188e-01, -1.97265625e-01,\n",
       "        -1.99218750e-01, -9.66796875e-02, -1.11328125e-01, -5.27343750e-02,\n",
       "        -4.90722656e-02,  2.69531250e-01, -4.71191406e-02, -1.55273438e-01,\n",
       "        -1.30859375e-01, -1.82617188e-01,  3.88671875e-01,  3.43750000e-01,\n",
       "         3.47656250e-01, -1.12304688e-01,  1.42578125e-01, -6.68945312e-02,\n",
       "        -1.66992188e-01,  2.14843750e-01, -2.27050781e-02,  2.96875000e-01,\n",
       "         1.68945312e-01, -9.57031250e-02, -2.02148438e-01,  9.81445312e-02,\n",
       "        -1.51367188e-01, -1.42578125e-01,  4.27246094e-02, -2.48046875e-01,\n",
       "         8.78906250e-02,  1.99218750e-01, -8.59375000e-02, -1.53320312e-01,\n",
       "        -2.55859375e-01, -2.73437500e-01, -1.70898438e-02,  6.25000000e-02,\n",
       "        -3.68652344e-02,  4.83398438e-02,  9.32617188e-02,  3.98437500e-01,\n",
       "        -8.30078125e-02,  3.47656250e-01, -2.17773438e-01,  5.35156250e-01,\n",
       "         1.22070312e-01, -8.05664062e-02,  1.11328125e-01,  7.42187500e-02,\n",
       "        -2.38281250e-01, -5.44433594e-02, -2.17773438e-01, -2.75390625e-01,\n",
       "         3.06640625e-01,  2.05078125e-02, -6.25000000e-02, -4.02832031e-02,\n",
       "         8.10546875e-02,  2.96875000e-01, -8.69140625e-02, -1.87988281e-02,\n",
       "        -1.83105469e-04, -1.10839844e-01, -2.23632812e-01, -2.49023438e-02,\n",
       "        -1.38671875e-01, -5.50781250e-01,  3.32031250e-01,  9.17968750e-02,\n",
       "        -6.64062500e-02,  2.79296875e-01,  1.64062500e-01, -2.77343750e-01,\n",
       "        -8.74023438e-02, -9.32617188e-02,  7.86132812e-02,  2.91015625e-01,\n",
       "         5.27343750e-02, -3.39843750e-01, -1.41601562e-01, -2.51953125e-01,\n",
       "         3.16406250e-01, -2.83203125e-01,  5.56640625e-02,  6.29882812e-02,\n",
       "        -3.93066406e-02, -4.23828125e-01, -7.42187500e-02,  3.34472656e-02,\n",
       "         3.22265625e-01, -8.59375000e-02, -1.32812500e-01, -4.49218750e-02,\n",
       "         5.39062500e-01,  5.68389893e-04,  8.00781250e-02, -1.93359375e-01,\n",
       "         2.42187500e-01,  4.17480469e-02, -1.27929688e-01,  2.96875000e-01,\n",
       "        -1.10351562e-01,  1.65039062e-01, -1.26953125e-01, -1.18164062e-01,\n",
       "        -2.61718750e-01, -7.47070312e-02,  3.20312500e-01,  3.71093750e-02,\n",
       "         4.90234375e-01, -2.44140625e-01,  5.37109375e-02, -2.55859375e-01,\n",
       "         1.93359375e-01,  6.65283203e-03,  7.76367188e-02, -2.08007812e-01,\n",
       "        -8.15429688e-02, -3.92578125e-01, -5.10253906e-02, -2.77343750e-01,\n",
       "        -1.66015625e-01, -4.42504883e-03, -1.20239258e-02, -3.10546875e-01,\n",
       "         2.12890625e-01,  3.71093750e-01,  1.17675781e-01,  2.95410156e-02,\n",
       "         6.29882812e-02,  2.36328125e-01, -4.24804688e-02,  9.86328125e-02,\n",
       "         2.46093750e-01, -1.07421875e-01, -1.38549805e-02, -9.13085938e-02,\n",
       "        -3.10546875e-01,  3.57421875e-01, -3.20312500e-01, -9.81445312e-02,\n",
       "        -1.26953125e-01, -2.91748047e-02, -3.92578125e-01,  9.42382812e-02,\n",
       "         3.55468750e-01, -4.92187500e-01,  3.49609375e-01, -4.27734375e-01,\n",
       "         1.69921875e-01,  2.49023438e-01, -1.32812500e-01, -2.36328125e-01,\n",
       "         9.61914062e-02,  9.91210938e-02,  4.76074219e-02, -6.98242188e-02,\n",
       "         1.65039062e-01,  9.71679688e-02,  2.67578125e-01,  1.07910156e-01,\n",
       "        -5.34667969e-02,  1.47460938e-01,  5.07812500e-01,  1.63085938e-01,\n",
       "         1.14746094e-01, -2.02636719e-02,  2.96630859e-02, -2.75390625e-01,\n",
       "        -2.25585938e-01,  1.29882812e-01, -8.74023438e-02, -2.69531250e-01,\n",
       "        -5.79833984e-03, -4.29687500e-02, -1.18164062e-01, -3.88671875e-01,\n",
       "        -3.68652344e-02,  1.80664062e-01,  9.91210938e-02, -5.24902344e-02,\n",
       "        -3.92578125e-01, -2.96875000e-01,  9.96093750e-02,  2.46582031e-02,\n",
       "         1.11816406e-01,  4.80957031e-02,  2.87109375e-01, -9.42382812e-02,\n",
       "         1.68945312e-01, -4.86328125e-01, -7.37304688e-02,  1.07910156e-01,\n",
       "        -1.00585938e-01, -2.33398438e-01,  1.20605469e-01,  3.27148438e-02,\n",
       "        -3.97949219e-02,  7.32421875e-02,  1.28173828e-02, -5.34667969e-02,\n",
       "        -8.74023438e-02, -3.19824219e-02,  1.80664062e-01, -7.27539062e-02,\n",
       "         3.02734375e-01,  1.14746094e-01,  1.74560547e-02,  1.06933594e-01,\n",
       "         4.94140625e-01,  2.25585938e-01,  9.37500000e-02,  1.08398438e-01,\n",
       "        -8.98437500e-02, -1.25122070e-02, -3.73046875e-01,  1.20605469e-01,\n",
       "        -2.14843750e-01, -1.49414062e-01,  3.05175781e-02, -1.01089478e-04,\n",
       "         1.83593750e-01,  2.55859375e-01,  2.23632812e-01, -2.14843750e-01,\n",
       "        -1.48437500e-01, -5.37109375e-02,  1.05468750e-01,  1.74713135e-03,\n",
       "         9.47265625e-02,  1.88476562e-01,  4.76074219e-02, -8.30078125e-02,\n",
       "         2.94921875e-01,  1.01074219e-01, -6.34765625e-02, -4.24804688e-02,\n",
       "        -2.53906250e-01,  3.54003906e-02, -3.75976562e-02, -4.71191406e-02,\n",
       "         2.75390625e-01,  1.62109375e-01,  1.23901367e-02,  9.61914062e-02,\n",
       "        -6.65283203e-03,  3.55468750e-01, -1.25000000e-01,  3.61328125e-02,\n",
       "        -1.72851562e-01,  1.94335938e-01,  1.47460938e-01, -2.14843750e-01,\n",
       "        -2.06054688e-01,  1.08398438e-01, -1.82617188e-01, -9.64355469e-03,\n",
       "        -5.05371094e-02,  1.74804688e-01,  4.56542969e-02,  1.75781250e-01,\n",
       "         1.42578125e-01, -6.98242188e-02, -1.11816406e-01, -1.33789062e-01,\n",
       "        -2.27539062e-01, -2.47070312e-01, -3.17382812e-02,  2.85644531e-02],\n",
       "       dtype=float32),\n",
       " array([ 0.17773438,  0.06079102,  0.18945312,  0.28320312, -0.18359375,\n",
       "         0.05444336, -0.10742188, -0.22363281, -0.08544922,  0.16308594,\n",
       "        -0.12988281, -0.171875  , -0.3046875 , -0.08300781,  0.23535156,\n",
       "         0.36132812,  0.01867676,  0.12597656,  0.01391602,  0.05737305,\n",
       "        -0.15234375, -0.35742188,  0.38476562, -0.07324219, -0.17675781,\n",
       "         0.12451172, -0.17285156,  0.3984375 , -0.00448608,  0.02258301,\n",
       "         0.26367188, -0.03393555, -0.15722656, -0.09960938, -0.2734375 ,\n",
       "        -0.01397705, -0.19140625,  0.24121094, -0.01019287, -0.0390625 ,\n",
       "         0.01226807, -0.12890625,  0.13476562,  0.15820312,  0.20703125,\n",
       "        -0.11767578,  0.15332031,  0.12890625, -0.30078125,  0.12255859,\n",
       "        -0.14550781,  0.375     , -0.16796875,  0.05444336, -0.11621094,\n",
       "         0.23339844, -0.43554688, -0.06738281,  0.05761719, -0.03564453,\n",
       "        -0.09863281,  0.08203125, -0.14355469, -0.04663086,  0.03088379,\n",
       "        -0.2890625 ,  0.05126953, -0.18847656, -0.16210938,  0.10498047,\n",
       "         0.03295898,  0.36132812, -0.15429688, -0.03491211, -0.12304688,\n",
       "         0.05664062,  0.20214844, -0.03881836, -0.19433594,  0.09472656,\n",
       "        -0.18261719,  0.11279297,  0.00421143, -0.0859375 ,  0.00190735,\n",
       "         0.09570312,  0.24121094,  0.01239014,  0.12792969,  0.0390625 ,\n",
       "        -0.17382812,  0.01928711, -0.13964844, -0.04956055, -0.19433594,\n",
       "        -0.08154297, -0.22265625, -0.09228516,  0.140625  , -0.12890625,\n",
       "        -0.25195312,  0.08496094,  0.08056641, -0.01794434,  0.05810547,\n",
       "         0.17871094, -0.03344727,  0.02880859, -0.02514648, -0.00823975,\n",
       "        -0.16992188,  0.04492188, -0.0703125 ,  0.02709961,  0.16503906,\n",
       "         0.16894531, -0.13476562, -0.265625  ,  0.00212097, -0.01611328,\n",
       "        -0.06640625, -0.19824219,  0.00358582,  0.05712891,  0.4453125 ,\n",
       "        -0.07714844, -0.00127411,  0.04663086,  0.10888672, -0.03637695,\n",
       "        -0.35742188,  0.11816406, -0.15234375, -0.05810547,  0.00524902,\n",
       "        -0.01513672, -0.3671875 ,  0.17285156,  0.01123047,  0.10205078,\n",
       "         0.296875  ,  0.00564575, -0.00570679, -0.02844238, -0.0279541 ,\n",
       "        -0.1328125 , -0.04541016, -0.04174805,  0.08837891, -0.25976562,\n",
       "         0.06176758, -0.18261719,  0.01165771, -0.14160156,  0.18847656,\n",
       "        -0.06005859,  0.2109375 ,  0.29882812, -0.16796875, -0.04394531,\n",
       "        -0.11230469,  0.04760742, -0.04199219, -0.22949219,  0.06396484,\n",
       "         0.05151367,  0.1875    , -0.00759888, -0.30273438,  0.29882812,\n",
       "        -0.44726562, -0.1171875 , -0.23046875,  0.18261719, -0.09082031,\n",
       "         0.07519531,  0.2578125 , -0.13476562,  0.0534668 , -0.07373047,\n",
       "         0.06542969, -0.04614258, -0.01379395, -0.08007812,  0.17871094,\n",
       "         0.07275391,  0.0480957 , -0.19140625,  0.03076172, -0.02001953,\n",
       "         0.42578125,  0.15136719, -0.20019531,  0.21484375,  0.31640625,\n",
       "         0.08056641, -0.03063965,  0.00637817,  0.125     ,  0.16699219,\n",
       "        -0.09423828, -0.08984375, -0.17480469, -0.31445312,  0.03149414,\n",
       "        -0.22753906,  0.06396484, -0.21582031, -0.03198242,  0.15234375,\n",
       "         0.03039551,  0.10107422, -0.34960938, -0.19433594, -0.20507812,\n",
       "        -0.05419922,  0.01342773,  0.00521851, -0.08544922, -0.09423828,\n",
       "        -0.03271484, -0.16894531, -0.01745605,  0.18359375, -0.12353516,\n",
       "         0.09033203,  0.08544922,  0.21679688, -0.03588867, -0.01208496,\n",
       "        -0.1328125 , -0.19140625, -0.140625  ,  0.08251953,  0.00369263,\n",
       "         0.09277344,  0.18554688,  0.02319336,  0.02648926,  0.11083984,\n",
       "         0.26757812,  0.20898438,  0.10253906,  0.07275391, -0.11230469,\n",
       "        -0.02380371, -0.04541016, -0.06347656, -0.04003906, -0.10888672,\n",
       "         0.375     ,  0.20019531,  0.30078125,  0.28515625,  0.02709961,\n",
       "        -0.05224609,  0.0078125 ,  0.01672363,  0.2734375 , -0.07568359,\n",
       "         0.16210938, -0.01263428,  0.1875    , -0.15625   ,  0.02868652,\n",
       "        -0.07226562, -0.16113281,  0.12597656, -0.06787109,  0.05126953,\n",
       "        -0.05200195,  0.01495361, -0.12695312,  0.05908203,  0.09277344,\n",
       "         0.12597656, -0.12695312, -0.01916504, -0.09033203,  0.21191406,\n",
       "        -0.13671875,  0.3046875 ,  0.07128906, -0.02307129, -0.02978516,\n",
       "         0.08935547,  0.04345703, -0.00741577, -0.06445312,  0.13671875,\n",
       "         0.13378906,  0.19433594,  0.07128906,  0.20019531, -0.02978516,\n",
       "        -0.125     , -0.16308594, -0.16113281, -0.04101562,  0.19140625],\n",
       "       dtype=float32),\n",
       " array([-0.25      ,  0.08740234, -0.04833984,  0.19042969,  0.0213623 ,\n",
       "         0.06103516, -0.13183594, -0.19238281, -0.08984375,  0.18457031,\n",
       "         0.0135498 , -0.11230469, -0.0279541 , -0.14746094, -0.05419922,\n",
       "         0.04907227,  0.06445312,  0.14453125,  0.0625    ,  0.06152344,\n",
       "        -0.32617188, -0.19433594,  0.2578125 , -0.17871094, -0.17773438,\n",
       "         0.296875  , -0.23339844,  0.00233459,  0.06103516, -0.37890625,\n",
       "        -0.05322266,  0.07324219, -0.21289062, -0.11474609, -0.23046875,\n",
       "        -0.15625   , -0.35351562,  0.01434326,  0.43164062,  0.01940918,\n",
       "         0.04760742,  0.01037598,  0.27929688,  0.2421875 , -0.078125  ,\n",
       "        -0.10888672,  0.03442383, -0.20703125,  0.0189209 ,  0.09130859,\n",
       "        -0.08935547,  0.11816406,  0.31445312,  0.10302734, -0.37109375,\n",
       "         0.04516602, -0.26757812, -0.08496094,  0.00488281, -0.03222656,\n",
       "        -0.03564453, -0.19042969, -0.20898438, -0.03979492, -0.17089844,\n",
       "        -0.21679688, -0.10498047,  0.05102539,  0.06445312, -0.01544189,\n",
       "        -0.16308594,  0.33789062,  0.07666016,  0.17871094, -0.3515625 ,\n",
       "        -0.12011719, -0.00202942, -0.26757812, -0.16113281, -0.08056641,\n",
       "        -0.10253906,  0.13769531,  0.14453125, -0.10498047,  0.17382812,\n",
       "         0.23632812,  0.29296875, -0.01257324,  0.20214844, -0.02844238,\n",
       "        -0.15820312,  0.1640625 , -0.11376953, -0.24902344, -0.29492188,\n",
       "         0.28320312, -0.00387573, -0.31054688,  0.15722656,  0.05297852,\n",
       "         0.04711914,  0.10693359,  0.00915527, -0.07080078, -0.27539062,\n",
       "         0.07666016, -0.05615234,  0.21679688,  0.21484375, -0.22460938,\n",
       "        -0.11083984, -0.2421875 ,  0.15917969, -0.33203125,  0.16992188,\n",
       "         0.2421875 , -0.09716797, -0.54296875,  0.37695312,  0.10888672,\n",
       "        -0.17382812,  0.0703125 , -0.2578125 , -0.02209473, -0.00209045,\n",
       "         0.22363281, -0.19042969,  0.14648438,  0.09472656, -0.06298828,\n",
       "        -0.1484375 ,  0.31445312,  0.13769531, -0.03295898, -0.09570312,\n",
       "        -0.13574219, -0.10351562, -0.02172852,  0.04467773,  0.05615234,\n",
       "         0.01928711, -0.13671875, -0.09326172, -0.10205078, -0.22460938,\n",
       "        -0.2109375 ,  0.25390625,  0.08691406,  0.15039062, -0.20019531,\n",
       "         0.16015625, -0.34960938,  0.00149536, -0.04467773, -0.29492188,\n",
       "        -0.515625  , -0.0213623 ,  0.30664062, -0.01251221, -0.04614258,\n",
       "        -0.31640625, -0.07617188, -0.19726562, -0.19042969,  0.09130859,\n",
       "        -0.34765625, -0.03466797, -0.05908203, -0.22167969, -0.09667969,\n",
       "        -0.35351562, -0.16308594, -0.17871094, -0.14648438, -0.16699219,\n",
       "        -0.30664062,  0.5390625 , -0.30273438,  0.10009766, -0.18261719,\n",
       "        -0.00077057, -0.00100708, -0.34960938, -0.0703125 ,  0.18359375,\n",
       "         0.11621094,  0.17285156, -0.03710938,  0.2890625 , -0.14257812,\n",
       "        -0.41992188,  0.25      , -0.32617188, -0.06884766,  0.25      ,\n",
       "         0.16601562,  0.2265625 , -0.09570312,  0.13378906, -0.05859375,\n",
       "         0.17578125,  0.05517578,  0.04589844, -0.31835938, -0.10302734,\n",
       "        -0.14941406, -0.20410156, -0.24707031,  0.10351562, -0.02062988,\n",
       "         0.05517578,  0.06982422, -0.34179688, -0.51171875, -0.06884766,\n",
       "         0.02368164,  0.03112793,  0.203125  , -0.07666016, -0.18066406,\n",
       "        -0.02478027, -0.02880859, -0.03833008,  0.03198242, -0.23828125,\n",
       "         0.09033203,  0.03271484, -0.15625   ,  0.07421875, -0.05053711,\n",
       "        -0.31640625, -0.15234375,  0.09375   , -0.26171875, -0.03015137,\n",
       "        -0.12304688,  0.24902344,  0.07861328,  0.10986328,  0.14257812,\n",
       "         0.36132812,  0.19238281,  0.03710938, -0.02368164, -0.13671875,\n",
       "         0.14257812, -0.11669922,  0.20605469, -0.09521484, -0.18066406,\n",
       "         0.45507812,  0.0480957 ,  0.51953125,  0.19628906,  0.28515625,\n",
       "        -0.1171875 , -0.23730469,  0.09521484,  0.22265625, -0.3828125 ,\n",
       "         0.20214844,  0.07470703,  0.26171875, -0.296875  , -0.04248047,\n",
       "         0.09716797, -0.02807617, -0.12255859,  0.17578125, -0.10742188,\n",
       "        -0.06884766, -0.20605469,  0.11816406, -0.03344727,  0.23925781,\n",
       "         0.05688477, -0.00683594,  0.00187683, -0.02514648,  0.28320312,\n",
       "         0.15527344, -0.01867676, -0.06933594,  0.06689453, -0.0402832 ,\n",
       "         0.1171875 ,  0.02294922,  0.11523438, -0.05981445,  0.24316406,\n",
       "        -0.20214844,  0.41015625, -0.05664062,  0.03710938, -0.10986328,\n",
       "        -0.13574219, -0.37109375,  0.01251221, -0.37695312,  0.26757812],\n",
       "       dtype=float32),\n",
       " array([-0.45507812,  0.0213623 ,  0.23925781,  0.5625    , -0.05444336,\n",
       "        -0.20898438, -0.21484375, -0.12988281, -0.3046875 ,  0.12597656,\n",
       "         0.17773438, -0.10253906, -0.11767578, -0.44335938,  0.11816406,\n",
       "         0.03637695,  0.05371094, -0.01531982,  0.22753906, -0.0859375 ,\n",
       "        -0.30664062, -0.40234375,  0.19824219, -0.12255859, -0.10302734,\n",
       "         0.10107422, -0.34375   ,  0.05053711, -0.0324707 ,  0.04248047,\n",
       "         0.12695312, -0.10595703, -0.12158203,  0.09326172, -0.25390625,\n",
       "        -0.05957031, -0.41992188, -0.03881836,  0.33203125, -0.11816406,\n",
       "        -0.22949219, -0.03613281,  0.12353516,  0.41796875,  0.04052734,\n",
       "        -0.3671875 ,  0.02258301,  0.00439453, -0.10693359,  0.24023438,\n",
       "        -0.08447266,  0.20019531,  0.40429688,  0.10253906, -0.34375   ,\n",
       "        -0.01538086, -0.41015625, -0.18164062, -0.04589844, -0.37109375,\n",
       "         0.12988281, -0.10839844, -0.2890625 , -0.06494141, -0.00769043,\n",
       "         0.03198242,  0.05932617, -0.04711914, -0.14160156,  0.1875    ,\n",
       "        -0.06298828,  0.31835938, -0.0625    ,  0.13671875, -0.20410156,\n",
       "        -0.25585938,  0.14160156,  0.26953125, -0.46679688, -0.16308594,\n",
       "        -0.23339844,  0.2734375 ,  0.27929688, -0.40039062,  0.07958984,\n",
       "        -0.02734375,  0.19335938,  0.08496094, -0.02563477,  0.15820312,\n",
       "         0.06787109,  0.01745605, -0.13183594, -0.05444336, -0.3671875 ,\n",
       "         0.29101562,  0.15332031,  0.04541016,  0.18457031,  0.21972656,\n",
       "         0.00187683, -0.05517578,  0.06542969, -0.07568359,  0.00708008,\n",
       "        -0.17773438,  0.07324219,  0.11474609, -0.09277344,  0.0390625 ,\n",
       "        -0.26171875,  0.02819824,  0.28125   , -0.29882812,  0.27929688,\n",
       "         0.20996094,  0.02526855, -0.39648438,  0.140625  ,  0.0859375 ,\n",
       "        -0.203125  , -0.00872803, -0.36914062,  0.00219727,  0.29101562,\n",
       "         0.20898438,  0.11474609,  0.02294922,  0.13867188, -0.05322266,\n",
       "        -0.16113281,  0.04516602,  0.12988281, -0.21777344,  0.01281738,\n",
       "        -0.01867676,  0.06445312, -0.10107422,  0.05078125,  0.03149414,\n",
       "         0.125     ,  0.07226562,  0.14648438,  0.06396484, -0.4296875 ,\n",
       "        -0.16503906,  0.08740234,  0.04125977,  0.3359375 ,  0.04321289,\n",
       "         0.44140625, -0.34960938,  0.234375  , -0.13476562, -0.06689453,\n",
       "        -0.515625  ,  0.02514648,  0.33789062,  0.09033203, -0.05029297,\n",
       "         0.02966309, -0.24414062, -0.01226807, -0.36132812,  0.07177734,\n",
       "        -0.39453125, -0.00775146, -0.22167969, -0.10205078,  0.21386719,\n",
       "        -0.47851562, -0.1953125 , -0.4453125 , -0.05102539, -0.07763672,\n",
       "        -0.22070312,  0.43164062, -0.57421875,  0.09326172, -0.19238281,\n",
       "         0.25390625,  0.16601562, -0.14160156, -0.14160156,  0.12890625,\n",
       "         0.35546875, -0.05102539, -0.06347656,  0.4375    , -0.25585938,\n",
       "        -0.34960938,  0.09912109, -0.69921875,  0.13867188,  0.49804688,\n",
       "         0.18359375,  0.13378906, -0.02502441, -0.13964844, -0.28320312,\n",
       "        -0.23242188, -0.05297852, -0.12011719, -0.28710938, -0.05517578,\n",
       "        -0.07910156, -0.0534668 , -0.484375  ,  0.05981445, -0.05102539,\n",
       "        -0.36914062, -0.05297852, -0.12792969, -0.58203125, -0.27539062,\n",
       "         0.1484375 ,  0.11914062,  0.37304688, -0.16210938, -0.00241089,\n",
       "         0.08056641, -0.12988281, -0.11035156,  0.390625  , -0.23144531,\n",
       "        -0.26171875, -0.17675781, -0.16308594, -0.16796875, -0.01281738,\n",
       "        -0.02148438,  0.00552368,  0.01586914, -0.16796875,  0.01855469,\n",
       "         0.34179688,  0.40429688,  0.13476562, -0.1796875 , -0.05493164,\n",
       "         0.38867188,  0.30859375,  0.18945312, -0.1015625 , -0.40429688,\n",
       "         0.02416992, -0.37109375,  0.0300293 , -0.23925781, -0.12304688,\n",
       "         0.48632812,  0.20117188,  0.203125  ,  0.4765625 ,  0.08691406,\n",
       "        -0.08398438, -0.05249023, -0.00750732, -0.02844238, -0.24804688,\n",
       "         0.10986328,  0.02124023,  0.37109375, -0.15722656,  0.03173828,\n",
       "        -0.05493164, -0.10595703,  0.00595093,  0.02490234, -0.16113281,\n",
       "        -0.2265625 ,  0.00099945,  0.24902344, -0.04443359,  0.05932617,\n",
       "        -0.27148438, -0.02612305,  0.08300781,  0.07324219,  0.05371094,\n",
       "         0.00741577,  0.06738281, -0.04882812,  0.26757812, -0.01477051,\n",
       "         0.07324219, -0.2109375 ,  0.14941406,  0.09130859, -0.02722168,\n",
       "         0.01495361,  0.265625  ,  0.08007812, -0.140625  ,  0.02172852,\n",
       "         0.08789062, -0.21875   ,  0.05786133, -0.30664062,  0.48046875],\n",
       "       dtype=float32),\n",
       " array([-3.59375000e-01,  1.52343750e-01, -1.35498047e-02,  2.55859375e-01,\n",
       "        -1.28906250e-01, -1.99218750e-01, -1.25000000e-01, -1.18652344e-01,\n",
       "        -5.03540039e-03,  3.30078125e-01, -1.27929688e-01, -2.92968750e-01,\n",
       "        -1.76757812e-01, -2.97851562e-02,  1.63085938e-01,  1.76757812e-01,\n",
       "         1.25976562e-01, -9.86328125e-02,  6.49414062e-02,  4.56542969e-02,\n",
       "        -3.04687500e-01, -4.45312500e-01,  4.57031250e-01, -1.38549805e-02,\n",
       "        -1.18164062e-01,  2.67578125e-01,  7.08007812e-02,  5.50781250e-01,\n",
       "         3.29589844e-03, -5.93261719e-02, -1.21582031e-01, -3.46679688e-02,\n",
       "         1.67968750e-01, -1.86523438e-01, -4.16015625e-01,  9.66796875e-02,\n",
       "        -3.55468750e-01,  1.30859375e-01,  1.30859375e-01, -1.02539062e-01,\n",
       "         5.93261719e-02,  4.10156250e-02, -2.62451172e-02,  3.57421875e-01,\n",
       "         2.36816406e-02, -1.83593750e-01,  5.20019531e-02, -2.92968750e-01,\n",
       "        -5.66406250e-02,  4.76074219e-02,  1.06201172e-02,  2.44140625e-01,\n",
       "         3.12500000e-02,  2.08007812e-01, -2.61718750e-01,  4.22363281e-02,\n",
       "        -2.08007812e-01,  1.14257812e-01,  1.90429688e-01, -1.32812500e-01,\n",
       "        -8.39843750e-02, -2.24609375e-01,  5.22460938e-02,  2.51464844e-02,\n",
       "         6.17675781e-02, -8.20312500e-02, -7.22656250e-02, -5.37109375e-02,\n",
       "         4.83398438e-02, -2.29492188e-01, -1.54296875e-01,  3.28125000e-01,\n",
       "         9.47265625e-02,  2.31445312e-01, -2.07031250e-01, -4.54101562e-02,\n",
       "        -1.22680664e-02,  1.09863281e-01, -1.78710938e-01, -4.44335938e-02,\n",
       "        -4.82421875e-01, -2.83203125e-02,  3.12500000e-02, -8.15429688e-02,\n",
       "        -9.52148438e-02,  1.63085938e-01, -2.28515625e-01, -5.93261719e-02,\n",
       "        -8.30078125e-02,  3.49609375e-01,  6.98242188e-02,  6.53076172e-03,\n",
       "        -3.76953125e-01, -2.42187500e-01,  1.15234375e-01,  2.05078125e-01,\n",
       "        -3.88183594e-02, -1.31835938e-01,  4.33593750e-01,  2.05078125e-01,\n",
       "        -1.20117188e-01,  1.84570312e-01,  5.95703125e-02,  1.05957031e-01,\n",
       "        -5.05371094e-02,  1.37329102e-02, -1.34277344e-02,  2.75390625e-01,\n",
       "         6.10351562e-02, -1.63085938e-01, -2.07031250e-01, -2.94921875e-01,\n",
       "         2.12890625e-01, -1.78710938e-01,  1.19628906e-01, -1.85546875e-01,\n",
       "        -1.38671875e-01, -3.96484375e-01,  6.59179688e-02, -2.15820312e-01,\n",
       "         1.73339844e-02,  5.05371094e-02,  1.02539062e-01,  2.59765625e-01,\n",
       "         2.73437500e-01, -2.60009766e-02, -5.95703125e-02, -5.73730469e-02,\n",
       "         2.49023438e-01, -2.80761719e-02, -1.66992188e-01,  3.69140625e-01,\n",
       "         3.39843750e-01, -6.98242188e-02, -6.22558594e-02, -2.05078125e-01,\n",
       "        -3.82812500e-01,  1.16210938e-01, -1.04980469e-01,  9.17968750e-02,\n",
       "         1.09375000e-01, -2.55859375e-01, -2.52685547e-02, -9.27734375e-02,\n",
       "        -4.19921875e-02, -1.67968750e-01, -2.64892578e-02,  7.03125000e-02,\n",
       "         1.41601562e-01, -2.73437500e-01,  6.44531250e-02, -3.35937500e-01,\n",
       "        -8.39843750e-02, -2.20703125e-01, -1.60156250e-01, -3.61328125e-01,\n",
       "         1.97265625e-01,  1.49414062e-01,  5.61523438e-02, -9.86328125e-02,\n",
       "         1.49536133e-02,  1.33789062e-01,  1.18164062e-01, -2.46093750e-01,\n",
       "         1.92382812e-01, -2.01171875e-01,  1.50390625e-01, -3.26171875e-01,\n",
       "        -1.25000000e-01,  2.53906250e-01, -5.03906250e-01,  5.24902344e-02,\n",
       "        -2.96875000e-01,  3.68652344e-02, -1.43554688e-01,  1.32812500e-01,\n",
       "         5.35156250e-01, -6.01562500e-01,  2.98828125e-01, -4.12109375e-01,\n",
       "        -6.10351562e-02, -1.54418945e-02, -2.91015625e-01, -1.95312500e-01,\n",
       "        -8.25195312e-02, -4.69970703e-03,  6.73828125e-02, -6.83593750e-02,\n",
       "         3.06640625e-01, -2.14843750e-02,  2.41699219e-02,  1.66992188e-01,\n",
       "         2.35557556e-04,  1.39648438e-01,  1.24511719e-01,  1.70898438e-01,\n",
       "        -1.57226562e-01,  2.15820312e-01, -8.44726562e-02, -3.90625000e-01,\n",
       "        -9.22851562e-02, -2.67578125e-01, -1.42578125e-01, -4.70703125e-01,\n",
       "        -1.87500000e-01, -3.30078125e-01,  8.49609375e-02, -2.53906250e-01,\n",
       "        -4.78515625e-02,  1.22070312e-01,  2.21679688e-01,  1.16699219e-01,\n",
       "        -2.63671875e-01, -3.37890625e-01, -2.84423828e-02,  1.95312500e-01,\n",
       "        -3.71093750e-02,  7.76367188e-02, -7.08007812e-02, -1.48437500e-01,\n",
       "         4.61425781e-02, -2.16796875e-01, -3.14941406e-02,  1.22680664e-02,\n",
       "        -1.84570312e-01, -6.44531250e-02,  1.46484375e-01,  5.54199219e-02,\n",
       "        -9.22851562e-02, -2.83203125e-01, -1.19628906e-01, -8.34960938e-02,\n",
       "        -2.79296875e-01, -2.24609375e-01,  3.06396484e-02, -5.20019531e-02,\n",
       "         4.80468750e-01,  1.94335938e-01, -1.33666992e-02, -1.78222656e-02,\n",
       "         3.04687500e-01,  1.59179688e-01, -1.82617188e-01,  3.63281250e-01,\n",
       "        -1.10839844e-01, -6.78710938e-02, -1.25976562e-01, -3.73535156e-02,\n",
       "        -1.90429688e-01, -8.54492188e-02,  5.07812500e-01,  9.13085938e-02,\n",
       "         2.29492188e-01,  3.35937500e-01,  2.45117188e-01, -1.72119141e-02,\n",
       "        -5.73730469e-02,  2.38281250e-01, -1.39648438e-01,  2.03125000e-01,\n",
       "         2.77343750e-01,  1.15234375e-01, -2.89306641e-02, -5.97656250e-01,\n",
       "         4.98046875e-02,  5.90820312e-02, -5.93261719e-02, -2.75390625e-01,\n",
       "        -3.49121094e-02,  1.03515625e-01, -2.51953125e-01, -2.78320312e-02,\n",
       "         8.83789062e-02,  5.83496094e-02,  2.47802734e-02,  5.12695312e-02,\n",
       "        -1.54296875e-01, -2.02636719e-02, -3.06640625e-01,  2.61718750e-01,\n",
       "        -3.08593750e-01,  7.27539062e-02, -1.52343750e-01,  1.81640625e-01,\n",
       "        -1.64794922e-02,  2.03125000e-01, -3.08593750e-01, -1.12792969e-01,\n",
       "         1.78710938e-01,  1.79687500e-01, -2.47802734e-02, -1.03515625e-01,\n",
       "         3.04687500e-01, -8.83789062e-02,  3.20434570e-03, -6.78710938e-02,\n",
       "        -7.17773438e-02, -9.52148438e-02, -2.28515625e-01,  1.58203125e-01],\n",
       "       dtype=float32),\n",
       " array([-0.296875  , -0.13378906,  0.11621094, -0.03857422, -0.07763672,\n",
       "         0.12158203, -0.00242615,  0.10498047,  0.01672363, -0.2578125 ,\n",
       "        -0.15234375, -0.16210938,  0.10009766,  0.19628906, -0.06933594,\n",
       "        -0.11474609, -0.265625  ,  0.04174805, -0.23730469, -0.140625  ,\n",
       "         0.12792969, -0.02978516, -0.06103516,  0.1796875 ,  0.03149414,\n",
       "        -0.125     , -0.19042969,  0.23339844,  0.01782227, -0.11914062,\n",
       "        -0.05615234, -0.05200195, -0.26953125, -0.23339844, -0.18261719,\n",
       "        -0.3671875 , -0.26953125, -0.24414062,  0.11181641, -0.02111816,\n",
       "        -0.15332031,  0.16308594,  0.08398438, -0.08398438, -0.09667969,\n",
       "         0.05981445, -0.01953125, -0.15136719,  0.06640625, -0.359375  ,\n",
       "         0.00309753, -0.15820312,  0.06542969, -0.09716797, -0.1875    ,\n",
       "         0.08642578, -0.23828125, -0.32226562,  0.27539062, -0.02307129,\n",
       "        -0.24804688,  0.02856445, -0.14746094,  0.11816406,  0.28320312,\n",
       "         0.10400391, -0.01135254,  0.359375  , -0.05273438, -0.25585938,\n",
       "         0.27148438,  0.18261719,  0.31640625, -0.06738281, -0.11181641,\n",
       "        -0.328125  ,  0.19042969, -0.15039062,  0.09179688,  0.25195312,\n",
       "         0.12451172,  0.0300293 ,  0.02722168,  0.14648438,  0.06152344,\n",
       "         0.16796875, -0.07910156, -0.07470703, -0.04003906,  0.18066406,\n",
       "         0.19824219, -0.20214844, -0.03637695, -0.01257324, -0.06396484,\n",
       "         0.09863281,  0.15136719,  0.09814453,  0.37109375,  0.01794434,\n",
       "         0.28125   , -0.09277344,  0.20800781, -0.328125  ,  0.05761719,\n",
       "         0.05517578, -0.03515625, -0.01538086,  0.07763672, -0.05102539,\n",
       "         0.07226562, -0.15039062, -0.40429688, -0.33984375,  0.0390625 ,\n",
       "        -0.12597656, -0.05102539,  0.15722656, -0.14257812,  0.12792969,\n",
       "        -0.0267334 , -0.06884766, -0.18359375,  0.18457031,  0.09082031,\n",
       "        -0.02600098, -0.18652344, -0.22851562,  0.19921875,  0.16308594,\n",
       "         0.06201172,  0.17089844,  0.22167969,  0.20410156,  0.12597656,\n",
       "         0.02416992,  0.15527344,  0.40429688, -0.05615234, -0.15820312,\n",
       "         0.26171875,  0.01843262, -0.21972656,  0.16503906,  0.04467773,\n",
       "         0.0612793 ,  0.20605469, -0.05297852, -0.01416016,  0.20898438,\n",
       "        -0.04321289,  0.24121094, -0.16113281,  0.2734375 ,  0.07421875,\n",
       "         0.19335938,  0.04101562, -0.0234375 ,  0.00585938, -0.04003906,\n",
       "         0.24316406,  0.01647949, -0.02026367,  0.11083984,  0.22265625,\n",
       "         0.12109375,  0.03442383, -0.26171875,  0.30664062,  0.07421875,\n",
       "        -0.05200195,  0.15136719, -0.03466797,  0.25585938, -0.00479126,\n",
       "        -0.01965332,  0.40234375, -0.26171875, -0.18652344,  0.01623535,\n",
       "        -0.26171875, -0.01226807,  0.17480469, -0.19824219,  0.03491211,\n",
       "        -0.06835938, -0.28515625, -0.08837891, -0.18457031,  0.03930664,\n",
       "        -0.234375  ,  0.06982422, -0.08251953, -0.22851562, -0.24023438,\n",
       "         0.15820312,  0.16503906, -0.15722656, -0.02832031, -0.06445312,\n",
       "         0.11083984,  0.13671875, -0.0246582 , -0.07324219,  0.0016861 ,\n",
       "        -0.30078125, -0.01782227,  0.02478027,  0.21484375, -0.3203125 ,\n",
       "         0.18261719,  0.08007812, -0.32421875, -0.25976562, -0.24707031,\n",
       "        -0.11474609,  0.19824219, -0.17089844, -0.27734375, -0.27734375,\n",
       "         0.03979492,  0.06225586, -0.08935547, -0.01428223, -0.17871094,\n",
       "         0.03063965,  0.10644531,  0.10302734,  0.20019531, -0.32226562,\n",
       "         0.12890625, -0.17089844,  0.14160156, -0.18457031,  0.16503906,\n",
       "        -0.28710938, -0.08837891, -0.29492188,  0.10351562,  0.09423828,\n",
       "        -0.10302734, -0.05371094,  0.08105469,  0.08935547, -0.14355469,\n",
       "        -0.11425781, -0.1953125 ,  0.05004883,  0.03686523, -0.25585938,\n",
       "        -0.16503906,  0.11376953, -0.02868652, -0.07226562, -0.03088379,\n",
       "        -0.00294495,  0.22558594,  0.06542969,  0.07666016, -0.06884766,\n",
       "         0.04931641,  0.13085938, -0.00209045,  0.04882812,  0.359375  ,\n",
       "        -0.08544922, -0.15820312, -0.00534058, -0.11132812,  0.17578125,\n",
       "         0.24023438,  0.39453125,  0.07470703,  0.17480469,  0.0255127 ,\n",
       "        -0.46289062, -0.21777344, -0.21875   ,  0.13085938, -0.14257812,\n",
       "        -0.01977539,  0.15234375,  0.20410156,  0.18945312,  0.1328125 ,\n",
       "         0.02453613, -0.24511719,  0.19042969,  0.41796875, -0.14453125,\n",
       "        -0.01422119,  0.20605469,  0.37695312, -0.00430298, -0.10839844,\n",
       "        -0.09716797, -0.20117188, -0.03344727, -0.01062012, -0.16601562],\n",
       "       dtype=float32),\n",
       " array([ 0.08496094,  0.4140625 ,  0.06225586, -0.11181641, -0.14746094,\n",
       "         0.12109375,  0.0378418 , -0.12695312, -0.11914062, -0.07421875,\n",
       "        -0.00787354,  0.05322266,  0.09814453, -0.14355469, -0.00717163,\n",
       "         0.60546875,  0.0559082 ,  0.33007812,  0.01519775, -0.07373047,\n",
       "        -0.01226807, -0.34570312,  0.265625  , -0.35351562,  0.21972656,\n",
       "        -0.09570312, -0.01300049, -0.05761719,  0.078125  , -0.29882812,\n",
       "        -0.1484375 , -0.20605469, -0.26757812, -0.00482178, -0.39648438,\n",
       "         0.23339844,  0.04125977, -0.23242188,  0.09667969,  0.22070312,\n",
       "        -0.02746582,  0.01385498, -0.04736328,  0.42382812,  0.00285339,\n",
       "        -0.19335938,  0.27734375, -0.05297852,  0.1015625 , -0.10986328,\n",
       "        -0.32226562, -0.14257812,  0.21191406, -0.14355469, -0.14648438,\n",
       "        -0.23046875,  0.36132812,  0.00860596, -0.09912109, -0.03686523,\n",
       "        -0.38476562,  0.24902344,  0.234375  , -0.22851562, -0.3671875 ,\n",
       "         0.14257812, -0.17089844, -0.11962891, -0.05419922,  0.19335938,\n",
       "        -0.13476562, -0.19824219,  0.23242188, -0.19335938, -0.33007812,\n",
       "        -0.01190186,  0.06591797, -0.14453125, -0.21289062, -0.17773438,\n",
       "         0.24511719, -0.0072937 ,  0.14453125, -0.36328125, -0.10791016,\n",
       "        -0.01879883,  0.125     ,  0.10058594,  0.3125    ,  0.22265625,\n",
       "         0.02661133, -0.296875  , -0.20117188,  0.01794434, -0.20019531,\n",
       "         0.00628662,  0.14550781,  0.05981445,  0.15234375, -0.12695312,\n",
       "         0.203125  ,  0.24316406,  0.09960938, -0.10791016, -0.29296875,\n",
       "        -0.2109375 ,  0.19335938,  0.46484375,  0.07177734, -0.16308594,\n",
       "        -0.12451172,  0.07177734,  0.03588867, -0.0534668 ,  0.72265625,\n",
       "         0.38476562,  0.06884766, -0.06445312,  0.27929688, -0.28125   ,\n",
       "        -0.08251953, -0.02233887,  0.12158203, -0.30273438, -0.00204468,\n",
       "        -0.00314331, -0.38476562,  0.12792969, -0.2890625 , -0.15820312,\n",
       "         0.17285156, -0.01745605, -0.17089844,  0.21386719,  0.31835938,\n",
       "         0.10205078, -0.04052734,  0.07568359,  0.27148438,  0.49804688,\n",
       "         0.08886719, -0.21679688, -0.16210938,  0.38085938,  0.421875  ,\n",
       "         0.20703125,  0.1875    , -0.02331543,  0.06054688, -0.28710938,\n",
       "         0.07519531, -0.12060547, -0.37109375,  0.02368164,  0.40820312,\n",
       "        -0.08007812,  0.11914062, -0.36132812,  0.23632812, -0.13671875,\n",
       "        -0.02514648,  0.06494141,  0.31640625, -0.35742188,  0.19921875,\n",
       "        -0.04785156,  0.29296875,  0.18261719, -0.14453125,  0.4609375 ,\n",
       "         0.04418945, -0.171875  ,  0.33789062,  0.15429688,  0.10595703,\n",
       "        -0.51171875, -0.0859375 ,  0.10009766,  0.2578125 , -0.59375   ,\n",
       "        -0.04394531,  0.08154297, -0.12451172, -0.05517578,  0.07080078,\n",
       "        -0.01055908, -0.12890625,  0.11230469, -0.08203125, -0.27929688,\n",
       "         0.6484375 , -0.07666016, -0.0625    , -0.16210938, -0.1328125 ,\n",
       "         0.30664062,  0.08886719,  0.08349609,  0.19238281, -0.15527344,\n",
       "         0.41992188,  0.13574219, -0.15917969, -0.32226562,  0.07861328,\n",
       "        -0.24804688, -0.24609375, -0.19726562, -0.5546875 ,  0.19140625,\n",
       "        -0.2578125 ,  0.01531982,  0.10644531,  0.08203125, -0.046875  ,\n",
       "         0.53125   ,  0.17089844,  0.3984375 , -0.12695312,  0.08789062,\n",
       "         0.11035156, -0.26367188,  0.48242188, -0.04248047, -0.48632812,\n",
       "         0.07080078,  0.08886719,  0.00402832,  0.45117188, -0.03735352,\n",
       "         0.09082031, -0.17871094,  0.24316406,  0.06030273,  0.44335938,\n",
       "         0.15332031, -0.43359375, -0.38085938, -0.01190186, -0.12207031,\n",
       "         0.08837891, -0.32617188, -0.07714844, -0.375     ,  0.29101562,\n",
       "         0.10791016,  0.32226562,  0.1875    ,  0.33203125, -0.13769531,\n",
       "         0.06738281, -0.23242188,  0.14941406,  0.27734375, -0.01379395,\n",
       "        -0.39648438, -0.13183594, -0.1875    , -0.05029297, -0.51953125,\n",
       "         0.07421875, -0.3984375 , -0.28515625, -0.18554688, -0.01599121,\n",
       "         0.03198242, -0.01245117,  0.01477051, -0.06640625,  0.10888672,\n",
       "        -0.14746094, -0.41992188, -0.23828125, -0.04077148,  0.10595703,\n",
       "        -0.18359375,  0.0378418 , -0.11328125, -0.04833984,  0.06396484,\n",
       "        -0.08740234, -0.05981445,  0.06787109,  0.02954102,  0.15429688,\n",
       "        -0.07910156,  0.06494141, -0.0625    ,  0.26367188, -0.08349609,\n",
       "         0.01989746,  0.37695312,  0.00994873,  0.07861328, -0.08984375,\n",
       "        -0.11621094, -0.04663086,  0.02807617, -0.02636719,  0.04248047],\n",
       "       dtype=float32),\n",
       " array([ 1.56250000e-01, -2.18750000e-01, -2.81250000e-01, -2.26562500e-01,\n",
       "        -8.78906250e-02,  4.08203125e-01,  1.66992188e-01,  1.68457031e-02,\n",
       "         3.20312500e-01, -5.22460938e-02, -3.19824219e-02,  5.90820312e-02,\n",
       "         1.32812500e-01, -1.55273438e-01,  2.87109375e-01,  1.30859375e-01,\n",
       "         8.88671875e-02,  4.56542969e-02, -4.37011719e-02, -4.96093750e-01,\n",
       "         5.85937500e-02,  1.35742188e-01, -1.81884766e-02,  7.32421875e-02,\n",
       "        -2.16796875e-01,  5.66406250e-02, -1.66015625e-01,  4.66308594e-02,\n",
       "        -1.04492188e-01,  1.65039062e-01, -2.61718750e-01,  3.27148438e-02,\n",
       "        -2.12890625e-01,  3.63281250e-01, -2.80761719e-02, -2.40234375e-01,\n",
       "         1.21093750e-01,  2.75390625e-01, -4.49218750e-02, -1.44531250e-01,\n",
       "        -1.61132812e-01,  1.75781250e-01,  1.69921875e-01,  2.94921875e-01,\n",
       "         3.41796875e-01,  3.02124023e-03, -4.90722656e-02,  9.88769531e-03,\n",
       "         2.21679688e-01, -3.53515625e-01, -2.83203125e-01, -1.35742188e-01,\n",
       "        -2.53906250e-02, -2.14843750e-01,  1.51367188e-01,  3.73046875e-01,\n",
       "         4.68750000e-02,  2.40478516e-02, -1.77734375e-01,  2.49023438e-01,\n",
       "        -5.85937500e-02,  9.94873047e-03, -1.93359375e-01,  1.38671875e-01,\n",
       "        -1.30859375e-01, -4.34570312e-02, -5.54199219e-02,  2.50000000e-01,\n",
       "        -2.36328125e-01,  3.12500000e-01,  4.66796875e-01, -6.05468750e-02,\n",
       "         2.25585938e-01, -2.26562500e-01, -4.21875000e-01, -2.11914062e-01,\n",
       "        -1.37695312e-01, -1.56250000e-01,  2.39257812e-02, -3.55468750e-01,\n",
       "        -2.28515625e-01,  3.82812500e-01,  8.49609375e-02,  4.00390625e-01,\n",
       "        -4.19921875e-02,  9.91210938e-02,  6.74438477e-03,  3.59375000e-01,\n",
       "         9.42382812e-02,  6.93359375e-02, -2.16796875e-01, -2.34375000e-01,\n",
       "        -2.02148438e-01,  9.94873047e-03,  1.38671875e-01,  1.24511719e-01,\n",
       "         2.89062500e-01,  1.10839844e-01, -6.49414062e-02, -4.08203125e-01,\n",
       "        -4.37500000e-01,  2.33154297e-02,  1.02539062e-01,  2.19726562e-01,\n",
       "        -2.10937500e-01,  9.47265625e-02,  2.94921875e-01,  3.14941406e-02,\n",
       "         2.92968750e-01, -1.28906250e-01, -1.65039062e-01, -1.66992188e-01,\n",
       "         1.49414062e-01, -1.44531250e-01, -1.22558594e-01,  6.39648438e-02,\n",
       "        -2.48046875e-01, -3.30078125e-01,  3.93066406e-02, -1.69921875e-01,\n",
       "         4.80957031e-02, -2.01171875e-01, -4.10156250e-01,  1.65039062e-01,\n",
       "         2.29492188e-01, -1.45507812e-01, -2.53906250e-01, -2.27539062e-01,\n",
       "         1.33789062e-01,  6.83593750e-02, -8.69140625e-02,  4.15039062e-02,\n",
       "        -1.96289062e-01,  1.69921875e-01,  6.54296875e-02,  6.34765625e-02,\n",
       "         1.22070312e-01,  1.28906250e-01, -4.29687500e-02, -1.12792969e-01,\n",
       "         1.22070312e-01, -1.85546875e-01, -2.89062500e-01, -2.91015625e-01,\n",
       "        -1.98242188e-01,  2.50000000e-01,  2.46093750e-01,  2.14843750e-01,\n",
       "        -1.81640625e-01,  6.98852539e-03,  3.35937500e-01, -1.90429688e-01,\n",
       "        -1.95312500e-02,  4.23828125e-01, -1.04980469e-01, -7.81250000e-02,\n",
       "        -1.31835938e-01, -1.21582031e-01, -1.50756836e-02,  1.92382812e-01,\n",
       "         9.03320312e-03,  1.70898438e-01,  2.83203125e-01, -1.08398438e-01,\n",
       "        -5.07812500e-02, -4.58984375e-02, -1.44531250e-01, -1.38671875e-01,\n",
       "        -3.55468750e-01, -6.44531250e-02, -1.21582031e-01,  2.12402344e-02,\n",
       "        -4.68750000e-01,  2.34375000e-02, -1.48437500e-01, -1.45507812e-01,\n",
       "         6.98242188e-02, -4.23828125e-01, -3.73535156e-02,  1.45507812e-01,\n",
       "        -3.10546875e-01,  1.82617188e-01,  1.31835938e-01,  6.49414062e-02,\n",
       "         3.04687500e-01,  2.11914062e-01, -1.84570312e-01, -7.22656250e-02,\n",
       "         1.39648438e-01,  5.22460938e-02, -1.01562500e-01, -2.07031250e-01,\n",
       "        -3.98437500e-01, -2.91015625e-01, -1.37695312e-01,  3.76953125e-01,\n",
       "        -1.37695312e-01, -1.91406250e-01, -4.05273438e-02, -5.61523438e-02,\n",
       "         2.20947266e-02,  3.93066406e-02, -3.39843750e-01,  9.32617188e-02,\n",
       "         3.75000000e-01,  3.66210938e-02, -2.14843750e-02, -1.67968750e-01,\n",
       "        -3.12500000e-01,  1.81884766e-02,  1.75781250e-01, -2.79541016e-02,\n",
       "        -4.02343750e-01, -5.20019531e-02,  8.88671875e-02, -5.00000000e-01,\n",
       "        -1.25976562e-01, -9.37500000e-02, -2.85156250e-01, -1.66015625e-01,\n",
       "        -1.92382812e-01,  2.38281250e-01, -7.78198242e-03,  2.00195312e-01,\n",
       "        -1.07421875e-01,  2.71484375e-01, -1.25000000e-01, -1.30462646e-03,\n",
       "        -3.88183594e-02, -2.34375000e-01, -1.07910156e-01,  4.68750000e-02,\n",
       "         8.78906250e-03, -2.53906250e-01,  6.78710938e-02, -6.15234375e-02,\n",
       "        -5.20019531e-02, -9.96093750e-02,  2.59765625e-01, -4.07714844e-02,\n",
       "         1.03515625e-01,  1.22680664e-02, -1.94335938e-01, -3.65234375e-01,\n",
       "         2.57812500e-01, -4.19921875e-02,  6.73828125e-02,  1.73828125e-01,\n",
       "         3.29589844e-02, -2.13867188e-01,  4.83989716e-05,  7.86132812e-02,\n",
       "         7.86132812e-02,  1.38671875e-01,  1.07910156e-01, -4.10156250e-01,\n",
       "         1.72851562e-01, -1.78710938e-01,  6.56127930e-03,  1.19628906e-01,\n",
       "         2.55859375e-01, -4.76074219e-02,  5.32226562e-02, -3.20312500e-01,\n",
       "        -2.57812500e-01,  1.11816406e-01, -1.67968750e-01, -2.73437500e-01,\n",
       "        -4.19921875e-01,  2.07031250e-01,  8.10546875e-02, -1.47460938e-01,\n",
       "         6.28662109e-03, -5.61523438e-02, -6.25610352e-03,  1.25000000e-01,\n",
       "         3.10058594e-02,  2.83203125e-02, -3.90625000e-01, -1.04003906e-01,\n",
       "         1.82617188e-01,  4.61425781e-02, -1.11389160e-03,  2.50000000e-01,\n",
       "         1.77734375e-01, -1.07910156e-01, -3.97949219e-02, -1.62109375e-01,\n",
       "         1.44653320e-02,  4.49218750e-01, -1.12792969e-01,  1.76757812e-01,\n",
       "        -1.74804688e-01, -3.04687500e-01,  3.94531250e-01, -5.93261719e-02,\n",
       "         1.15234375e-01,  4.05883789e-03, -2.12890625e-01,  2.98828125e-01],\n",
       "       dtype=float32)]"
      ]
     },
     "execution_count": 72,
     "metadata": {},
     "output_type": "execute_result"
    }
   ],
   "source": [
    "vec"
   ]
  },
  {
   "cell_type": "code",
   "execution_count": 73,
   "id": "03507ee8-ea59-4dc1-9860-1c0b74462b1d",
   "metadata": {},
   "outputs": [],
   "source": []
  },
  {
   "cell_type": "code",
   "execution_count": 76,
   "id": "ce6af81d-0fba-433c-a9c3-9374e473e895",
   "metadata": {},
   "outputs": [],
   "source": [
    "df_vec_emb = pd.DataFrame(vec)"
   ]
  },
  {
   "cell_type": "code",
   "execution_count": 78,
   "id": "fcf2cbe5-1b31-485f-ab1e-b1f57e27e1e8",
   "metadata": {},
   "outputs": [],
   "source": [
    "pca = PCA(n_components=2)"
   ]
  },
  {
   "cell_type": "code",
   "execution_count": 90,
   "id": "adf8170c-4780-4b88-b405-897f25153ef4",
   "metadata": {},
   "outputs": [],
   "source": [
    "emb_dim_reduction_ = pca.fit_transform(df_vec_emb)"
   ]
  },
  {
   "cell_type": "code",
   "execution_count": 91,
   "id": "dacc2bbc-5f3e-458d-8758-5de580d6943f",
   "metadata": {},
   "outputs": [],
   "source": [
    "emb_dim_reduction = pd.DataFrame(emb_dim_reduction)"
   ]
  },
  {
   "cell_type": "code",
   "execution_count": 92,
   "id": "62af15a9-1b32-474a-bed5-d464afb3b70d",
   "metadata": {},
   "outputs": [],
   "source": [
    "emb_dim_reduction.index = words"
   ]
  },
  {
   "cell_type": "code",
   "execution_count": 93,
   "id": "54725a8d-6ff9-4e3f-b283-4f94e7fd92f2",
   "metadata": {},
   "outputs": [
    {
     "data": {
      "text/html": [
       "<div>\n",
       "<style scoped>\n",
       "    .dataframe tbody tr th:only-of-type {\n",
       "        vertical-align: middle;\n",
       "    }\n",
       "\n",
       "    .dataframe tbody tr th {\n",
       "        vertical-align: top;\n",
       "    }\n",
       "\n",
       "    .dataframe thead th {\n",
       "        text-align: right;\n",
       "    }\n",
       "</style>\n",
       "<table border=\"1\" class=\"dataframe\">\n",
       "  <thead>\n",
       "    <tr style=\"text-align: right;\">\n",
       "      <th></th>\n",
       "      <th>0</th>\n",
       "      <th>1</th>\n",
       "    </tr>\n",
       "  </thead>\n",
       "  <tbody>\n",
       "    <tr>\n",
       "      <th>microsoft</th>\n",
       "      <td>3.652415</td>\n",
       "      <td>-0.797847</td>\n",
       "    </tr>\n",
       "    <tr>\n",
       "      <th>google</th>\n",
       "      <td>-0.434816</td>\n",
       "      <td>0.167211</td>\n",
       "    </tr>\n",
       "    <tr>\n",
       "      <th>facebook</th>\n",
       "      <td>-1.016538</td>\n",
       "      <td>0.211523</td>\n",
       "    </tr>\n",
       "    <tr>\n",
       "      <th>adobe</th>\n",
       "      <td>2.874111</td>\n",
       "      <td>-0.747717</td>\n",
       "    </tr>\n",
       "    <tr>\n",
       "      <th>HP</th>\n",
       "      <td>-0.790611</td>\n",
       "      <td>-1.543166</td>\n",
       "    </tr>\n",
       "    <tr>\n",
       "      <th>DELL</th>\n",
       "      <td>-1.026680</td>\n",
       "      <td>-0.980261</td>\n",
       "    </tr>\n",
       "    <tr>\n",
       "      <th>paris</th>\n",
       "      <td>0.041068</td>\n",
       "      <td>1.504310</td>\n",
       "    </tr>\n",
       "    <tr>\n",
       "      <th>rome</th>\n",
       "      <td>-0.045088</td>\n",
       "      <td>0.811928</td>\n",
       "    </tr>\n",
       "    <tr>\n",
       "      <th>chennai</th>\n",
       "      <td>0.060839</td>\n",
       "      <td>1.141757</td>\n",
       "    </tr>\n",
       "    <tr>\n",
       "      <th>delhi</th>\n",
       "      <td>-0.090658</td>\n",
       "      <td>2.086254</td>\n",
       "    </tr>\n",
       "    <tr>\n",
       "      <th>dubai</th>\n",
       "      <td>-0.109835</td>\n",
       "      <td>1.600726</td>\n",
       "    </tr>\n",
       "    <tr>\n",
       "      <th>monitor</th>\n",
       "      <td>-1.014882</td>\n",
       "      <td>-0.952558</td>\n",
       "    </tr>\n",
       "    <tr>\n",
       "      <th>galaxy</th>\n",
       "      <td>-1.404319</td>\n",
       "      <td>-0.971252</td>\n",
       "    </tr>\n",
       "    <tr>\n",
       "      <th>keyboard</th>\n",
       "      <td>-0.695005</td>\n",
       "      <td>-1.530911</td>\n",
       "    </tr>\n",
       "  </tbody>\n",
       "</table>\n",
       "</div>"
      ],
      "text/plain": [
       "                  0         1\n",
       "microsoft  3.652415 -0.797847\n",
       "google    -0.434816  0.167211\n",
       "facebook  -1.016538  0.211523\n",
       "adobe      2.874111 -0.747717\n",
       "HP        -0.790611 -1.543166\n",
       "DELL      -1.026680 -0.980261\n",
       "paris      0.041068  1.504310\n",
       "rome      -0.045088  0.811928\n",
       "chennai    0.060839  1.141757\n",
       "delhi     -0.090658  2.086254\n",
       "dubai     -0.109835  1.600726\n",
       "monitor   -1.014882 -0.952558\n",
       "galaxy    -1.404319 -0.971252\n",
       "keyboard  -0.695005 -1.530911"
      ]
     },
     "execution_count": 93,
     "metadata": {},
     "output_type": "execute_result"
    }
   ],
   "source": [
    "emb_dim_reduction"
   ]
  },
  {
   "cell_type": "code",
   "execution_count": 100,
   "id": "c1f69b68-ee19-4a4e-b626-f8a53ace1557",
   "metadata": {
    "scrolled": true
   },
   "outputs": [
    {
     "data": {
      "image/png": "[encoded data removed]",
      "text/plain": [
       "<Figure size 1200x600 with 1 Axes>"
      ]
     },
     "metadata": {},
     "output_type": "display_data"
    }
   ],
   "source": [
    "plt.figure(figsize = (12,6))\n",
    "plt.scatter(emb_dim_reduction_[:,0], emb_dim_reduction_[:,1], c='orange', edgecolors='red')\n",
    "for label, x,y in zip(words, emb_dim_reduction_[:,0], emb_dim_reduction_[:,1]):\n",
    "    plt.annotate(label, xy =(x,y), xytext = (0,0),  textcoords = 'offset points')"
   ]
  },
  {
   "cell_type": "code",
   "execution_count": null,
   "id": "15c006c0-0beb-4174-a04e-9465dc9dc4c2",
   "metadata": {},
   "outputs": [],
   "source": []
  },
  {
   "cell_type": "code",
   "execution_count": null,
   "id": "7e702d36-26be-4bbb-9271-c71c42453e31",
   "metadata": {},
   "outputs": [],
   "source": [
    "the cat jumped the wall."
   ]
  },
  {
   "cell_type": "code",
   "execution_count": null,
   "id": "cae22ec3-9984-4b0a-a23f-f79194bea143",
   "metadata": {},
   "outputs": [],
   "source": [
    "window = 3"
   ]
  },
  {
   "cell_type": "code",
   "execution_count": null,
   "id": "62e8bfc8-1d48-4d29-8a00-df30786f9606",
   "metadata": {},
   "outputs": [],
   "source": [
    "Word2Vec\n",
    "CBOW\n",
    "\n",
    "input = the , jumped\n",
    "output = cat"
   ]
  },
  {
   "cell_type": "code",
   "execution_count": null,
   "id": "6fad6814-bb4b-46e5-9f7c-771e53d4f83b",
   "metadata": {},
   "outputs": [],
   "source": [
    "FastText\n",
    "\n",
    "<the cat jumped the wall.>\n",
    "\n",
    "n = 3\n",
    "\n",
    "<th,\n",
    "e c,\n",
    "at ,\n",
    "jum,\n",
    "ped,\n",
    " th,\n",
    "e w,\n",
    "all.\n",
    ">\n",
    "\n",
    "\n",
    "input = <th , at \n",
    "output = e c,"
   ]
  }
 ],
 "metadata": {
  "kernelspec": {
   "display_name": "Python 3 (ipykernel)",
   "language": "python",
   "name": "python3"
  },
  "language_info": {
   "codemirror_mode": {
    "name": "ipython",
    "version": 3
   },
   "file_extension": ".py",
   "mimetype": "text/x-python",
   "name": "python",
   "nbconvert_exporter": "python",
   "pygments_lexer": "ipython3",
   "version": "3.11.6"
  }
 },
 "nbformat": 4,
 "nbformat_minor": 5
}
