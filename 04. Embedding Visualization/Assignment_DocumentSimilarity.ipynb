{
 "cells": [
  {
   "cell_type": "code",
   "execution_count": null,
   "id": "084a865a-09d2-4c63-b2b5-902592d9a56f",
   "metadata": {},
   "outputs": [],
   "source": []
  },
  {
   "cell_type": "code",
   "execution_count": 97,
   "id": "643848bc-976a-45e1-9022-611b76e0fc18",
   "metadata": {},
   "outputs": [
    {
     "name": "stdout",
     "output_type": "stream",
     "text": [
      "--2024-03-16 11:27:04--  https://cs.nyu.edu/~roweis/data/nips12raw_str602.tgz\n",
      "Resolving cs.nyu.edu (cs.nyu.edu)... 216.165.22.203\n",
      "Connecting to cs.nyu.edu (cs.nyu.edu)|216.165.22.203|:443... connected.\n",
      "HTTP request sent, awaiting response... 200 OK\n",
      "Length: 12851423 (12M) [application/x-gzip]\n",
      "Saving to: ‘nips12raw_str602.tgz’\n",
      "\n",
      "nips12raw_str602.tg 100%[===================>]  12.26M  2.96MB/s    in 4.1s    \n",
      "\n",
      "2024-03-16 11:27:09 (2.96 MB/s) - ‘nips12raw_str602.tgz’ saved [12851423/12851423]\n",
      "\n"
     ]
    }
   ],
   "source": [
    "!wget https://cs.nyu.edu/~roweis/data/nips12raw_str602.tgz\n",
    "!tar -xzf nips12raw_str602.tgz"
   ]
  },
  {
   "cell_type": "code",
   "execution_count": 98,
   "id": "ffa4afe5-8aa0-479f-a5ab-b56b85849a89",
   "metadata": {},
   "outputs": [
    {
     "name": "stdout",
     "output_type": "stream",
     "text": [
      "['RAW_DATA_NOTES', 'idx', 'nips12', 'nips09', 'nips00', 'nips07', 'nips06', 'nips01', 'nips08', 'README_yann', 'MATLAB_NOTES', 'nips11', 'nips10', 'nips04', 'nips03', 'nips02', 'nips05', 'orig']\n"
     ]
    }
   ],
   "source": [
    "import os\n",
    "import numpy as np\n",
    "import pandas as pd\n",
    "\n",
    "DATA_PATH = 'nipstxt/'\n",
    "print(os.listdir(DATA_PATH))"
   ]
  },
  {
   "cell_type": "code",
   "execution_count": 99,
   "id": "30be472f-293d-40c0-81c2-137aa0725a83",
   "metadata": {},
   "outputs": [
    {
     "data": {
      "text/plain": [
       "1740"
      ]
     },
     "execution_count": 99,
     "metadata": {},
     "output_type": "execute_result"
    }
   ],
   "source": [
    "folders = [\"nips{0:02}\".format(i) for i in range(0,13)]\n",
    "# Read all texts into a list.\n",
    "papers = []\n",
    "for folder in folders:\n",
    "    file_names = os.listdir(DATA_PATH + folder)\n",
    "    for file_name in file_names:\n",
    "        with open(DATA_PATH + folder + '/' + file_name, encoding='utf-8', errors='ignore', mode='r+') as f:\n",
    "            data = f.read()\n",
    "        papers.append(data)\n",
    "len(papers)"
   ]
  },
  {
   "cell_type": "code",
   "execution_count": 107,
   "id": "533836fe-6850-4665-bba6-88e7ea0bcfc7",
   "metadata": {
    "scrolled": true
   },
   "outputs": [
    {
     "data": {
      "text/plain": [
       "'402 \\nHOW THE CATFISH TRACKS ITS PREY: AN INTERACTIVE \"PIPELINED\" \\nPROCESSING SYSTEM MAY DIRECT FORAGING VIA RETICULOSPINAL NEURONS. \\nJagmeet S. Kanwal \\nDept. of Cellular & Structural Biology, Univ. of Colorado, Sch. of \\nMedicine, 4200 East, Ninth Ave., Denver, CO 80262. \\nABSTRACT \\nIctalurid catfish use a highly developed gustatory system to \\nlocalize, track and acquire food from their aquatic environment. \\nThe neural organization of the gustatory system illustrates well \\nthe importance of the four fundamental ingredients \\n(representation, architecture, search and knowledge) of an \\n\"intelligent\" system. In addition, the \"pipelined\" design of \\narchitecture illustrates how a goal-directed system effectively \\nutilizes interactive feedback from its environment. Anatomical \\nanalysis of neural networks involved in target-tracking \\nindicated that reticular neurons within the medullary region of \\nthe brainstem, mediate connections between the gustatory \\n(sensory) inputs and the motor outputs of the spinal cord. \\nEle ctrophysiological analysis suggested that these neurons \\nintegrate selective spatic-temporal patterns of sensory input \\ntransduced through a rapidly adapting-type peripheral filter \\n(responding tonically only to a continuously increasing stimulus \\nconcentration ). The connectivity and response patterns of \\nreticular cells and the nature of the peripheral taste response \\nsuggest a unique \"gustation-seeking\" function of reticulospinal \\ncells, which may enable a catfish to continuously track a \\nstimulus source once its directionality has been computed. \\nINTRODUCTION \\nFood search is an example of a broad class of behaviors \\ngenerally classified as goal-directed behaviors. Goal-directed \\nbehavior is frequently exhibited by animals, humans and some \\nmachines. Although a preprogrammed, hard-wired machine may achieve \\na particular goal in a relatively short time, the general and \\nheuristic nature of complex goal-directed tasks, however, is best \\nexhibited by animals and best studied in some of the less advanced \\nanimal species, such as fishes, where anatomical, electro- \\nphysiological and behavioral analyses can be performed relatively \\naccurately and easily. \\nFood search, which may lead to food acquisition and ingestion, \\nis critical for the survival of an organism and, therefore, only \\nhighly successful systems are selected during the evolution of a \\nspecies. The act of food search may be classified into two distinct \\nphases, (i) orientation, and (ii) tracking (navigation and homing). \\nIn the channel catfish (the animal model utilized for this study), \\nlocomotion (swimming) is primarily controlled by the large forked \\ncaudal fin, which also mediates turning and directional swimming. \\nAmerican Institute of Physics 1988 \\n403 \\nBoth these forms of movement, which constitute the essential \\nmovements of target-tracking, involve control of the \\nhypaxial/epiaxial muscles of the flank. The alternate contraction \\nof these muscles causes caudal fin undulations. Each cycle of the \\ncaudal fin undulation provides either a symmetrical or an \\nasymmetrical bilateral thrust. The former provides a net thrust \\nforward, along the longitudinal axis of the fish causing it to move \\nahead, while the latter biases the direction of movement towards the \\nright or left side of the fish. \\n,,\\x7f \\x7f HRP injection site \\n\\x7f\\x7f \\x7f \\x7frecording site \\n..................................................................................... NEURODIOLOGY ...... I .................................... \\nFEEDING BEHAVIOR MUSCLE SET MOTOR POOLS PREMOTOR NEURONS I GUSTATORY INPUTS \\nFood Search Flank and Caudal Reticular I Facial Lobe \\nTail Fin Spinal Cord \\x7f. ............ tl\\x7f Formation \\x7f- ......................... \\nI Muscles i ..................................................................................................... \\nPick Up \\nSelective \\nIngestion \\nFlank \\nMusculature \\nJaw Muscles \\nOral \\x7f\\'nd \\nPharyngeal \\nMusculature \\n \\nRostral Rettcular Facial Lobe \\nSpinal Cord \\x7f. ........... 0 Formation \\x7f. .......................... 0 \\nFacial and/or \\x7f. ............................................................................ \\x7fl\\x7f \\nTrieminal \\nMotor Nucleus \\nYaal Motor \\nNuclei \\nVagal Lobe \\nI ntrt nsic \\nI nterneurons \\nVagal Lobe \\nFig. I. Schematic representation of possible pathways for the \\ngustatory modulation of foraging in the catfish. \\n4O4 \\nIctalurid catfishes possess a well developed gustatory system \\nand use it to locate and acquire food from their aquatic \\nenvironment l, 2,3. Behavioral evidence also indicates that ictalurid \\ncatfishes can detect small intensity (stimulus concentration) \\ndifferences across their barbels (interbarbel intensity \\ndifferences), and may use this or other extraoral taste information \\nto compute the directionality in space and track a gustatory \\nstimulus source 1. In other words, based upon the analysis of \\nlocomotion, it may be inferred that during food search, the \\ngustatory sense of the catfish influences the duration and degree of \\nasymmetrical or symmetrical undulations of the caudal fin, besides \\ncontrolling reflex turns of the head and flank. Since directional \\nswimming is ultimately dependent upon movement of the large caudal \\nfin it may be postulated that, if the gustatory system is to \\ncoordinate food tracking, gustato-spinal connections exist upto the \\nlevel of the caudal fin of the catfish (fig. 1). \\nThe objectives of this study were (i) to reconsider the \\nfunctional organization of the gustatory system within the \\ncostraints of the four fundamental ingredients (representation, \\narchitecture, search and knowledge) of a naturally or artificially \\n\"intelligent\" agent, (ii) to test the existence of the postulated \\ngustato-spinal connections, and (iii) to de lineate as far as \\npossible, using neuroanatomical and electrophysiological techniques, \\nthe neural mechanism/s involved in the control of goal-directed \\n(foraging) behavior. \\nORGANIZATIONAL CONSIDERATIONS \\nI. REPRESENTATION \\nRepresentation refers to the translation of a particular task \\ninto information structures and information processes and determines \\nto a great extent the efficiency and efficacy with which a solution \\nto the task can be generated4. The elaborate and highly sensitive \\ntaste system of an ictalurid catfish consists of an extensive array \\nof chemo- and mechanosensory receptors distributed over most of the \\nextraoral as well as oral regions of the epithelium2,5.. \\nPeripherally, branches of the facial nerve (which innervates all \\nextraoral taste buds\\x7f resoond to a wide range of stimulus (amino \\nacids) concentrationsO,7, \\x7f.e. from 10-9M to 10-3M. The taste \\nactivity however, adapts rapidly (phasic response) to ongoing \\nstimulation of the same concentration (Fig. 2) and responds \\ntonically only to continuously increasing concentrations of stimuli, \\nsuch as L-arginine and L-alanine. \\nrp ros \\nFig. :fl. Integrated, facial taste recordings to continuous appli- \\ncation of amine acids to the palate and nasal barbel showing the \\nphasic nature of the taste responses of the ramus palatinus (rp) \\nand ramus ephthalmicus superficialis (res), respectively. \\n.\\x7fL-ALA \\n1(\\x7f 4 \\n.\\x7fL-ARG \\n4O5 \\nGustatory information from the extraoral and oral epithelium is \\n\"pipelined\" into two separate subsystems, facial and \\nglossopharyngeal-vagal, respectively. Each subsystem processes a \\nsubset of the incoming information (extraoral or oral) and \\ncoordinates a different component of food acquisition. Food search \\nis accomplished by the extraoral subsystem, while selective \\ningestion is accomplished by the oral subsystem 2 (Fig. 3). The \\nextraoral gustatory information terminates in the facial lobe where \\nit is represented as a well-defined topographic map 9, l0 , while the \\noral information terminates in the adjacent vagal lobe where it is \\nrepresented as a relatively diffuse map ll. \\nII. ARCHITECTURE \\nThe information represented in an information structure \\neventually requires an operating frame (architecture) within which \\nto select and carry out the various processes. In ictalurid catfish, \\npartially processed information from the primary gustatory centers \\n(facial and vagal lobes) in the medullary region of the brainstem \\nconverges along ascending and descending pathways (Fig. 4). One of \\nthe centers in the ascending pathways is the secondary gustatory \\nnucleus in the isthmic region which is connected to the \\ncorresponding nucleus of the opposite side via a large \\ncommissurel2,13. Facial and vagal gustatory information crosses \\nover to the opposite side via this commissure thus making it \\npossible for neurons to extract information about interbarbel or \\ninterflank intensity differences. _\\x7flthough neurons in this region \\nare known to have large receptive fieldsl4, the exact function of \\nthis large commissural nucleus is not yet clearly established. \\nIt is quite clear, however, that gustatory information is at \\nfirst \"\\x7fipelined\" into separate regions where it is processed in \\nparallel 5 before converging onto neurons in the ascending (isthmic) \\nand descending (reticular) processors as well as other regions \\nwithin the medulla. The \"pipelined\" architecture underscores the \\nneed for differential processing of subsets of sensory inputs which \\nare consequently integrated to coordinate temporal transitions \\nbetween the various components of goal-directed behavior. \\nIII. SEARCH \\nAn important task underlying all \"intelligent\" goal directed \\nactivity is that of search. In artificial systems this involves \\napplication of several general problem-solving methods such as \\nmeans-end analysis, generate and test methods and heuristic search \\nmethods. No attempt, as yet, has been made to fit any of these \\nmodels to the food-tracking behavior of the catfish. However, \\nbehavioral observations suggest that the catfish uses a \\ncombinatorial approach resulting in a different yet optimal foraging \\nstrategy each time 3. \\nWhat is interesting about biological models is that the \\nintrinsic search strategy is expressed extrinsically by the behavior \\nof the animal which, with a few precautions, can be observed quite \\neasily. In addition, simple manipulations of either the animal \\x7f or \\nits environment can provide interesting data about the search \\n4O6 \\nFig. 3. \\nSENSORY \\nFISH BEHAVIORAL \\nINPUT BRAI N OUT PUT \\n__ arp ix \\nb \\nora U \\nd X \\noChre I t food search \\nand \\npmck uP \\nvaal I \\nlobe \\x7f ..... select,ve \\n\\x7fnest\\x7fon \\ni ? \\nL._ \\nVII \\nIX \\nx \\nFig. 4. \\n4O7 \\nstrategy/ies being used by the animal, which in turn can highlight \\nsome of the computational (neuronal) search strategies adopted by \\nthe brain e.g. the catfish seems to minimize the probability of \\nfailure by continuously interacting with the environment so as to be \\nable to correct any computational or knowledge-based errors. \\nIV. KNOWLEDGE \\nIf an \"intelligent\" goal-directed system resets to zero \\nknowledge before each search trial, its success would depend \\nentirely upon the information obtained over the time period of a \\nsearch. Such a system would also require a labile architecture to \\nprocess the varying sets of information generated during each \\nsearch. For such a system, the solution space can become very large \\nand given the constraints of time (generally an important criterion \\nin biological systems) this can lead to continuous failure. For \\nthese reasons, knowledge becomes an important ingredient of an \\n\"intelligent\" agent since it can keep the search under control. \\nFor the gustatory system of the catfish too, randomly \\naccessable knowledge, in combination with the immediately available \\ninformation about the target, may play a critical role in the \\nadoption of a successful search strategy. Although a significant \\nportion of this knowledge is probably learned, it is not yet clear \\nwhere and how this knowledge is stored in the catfish brain. The \\nreduction in the solution space for a catfish which has gradually \\nlearned to find food in its environment may be attributed to the \\nincrease in the amount of knowledge, which to some extent may \\ninvolve a restructuring of the neural networks during development. \\nEXPERIMENTAL METHODS \\nThe methods employed for the present study are only briefly \\nintroduced here. Neuroanatomical tracing techniques exploit the \\nphenomenon of axonal transport. Crystals of the enzyme, horseradish \\nperoxidase (HRP) or some other substance, when injected at a small \\nlocus in the brain, are taken up by the damaged neurons and \\ntransported anterogradely and retrogradely from cell bodies and/or \\naxons at the injection site. In the present study, small \\nsuperficial injections of HRP (Sigma, Type VI) were made at various \\nloci in the facial lobe (FL) in separate animals. After a survival \\nperiod of 3 to 5 days, the animals were sacrificed and the brains \\nsectioned and reacted for visualization of the neuronal tracer. In \\nthis manner, complex neural circuits can be gradually delineated. \\nElectrophysiological recordings from neurons in the central \\nnervous system were obtained using heat-pulled glass micropipettes. \\nThese glass electrodes had a tip diameter of approximately 1 \\x7fm and \\nan impedance of less than 1 megohm when filled with an electrolyte \\n(SM KC1 or 5M Nacl). \\nChemical stimulation of the receptive fields was accomplished \\nby injection of stimuli (amino acids, amino acid mixtures and liver \\nor bait-extract solutions) into a continuous flow of well-water over \\nthe receptive epithelium. Tactile stimulation was performed by \\ngentle strokes of a sable hair brush or a glass probe. \\n4O8 \\nEXPERIMENTAL OBSERVATIONS \\nInjections of HRP into the spinal cord labelled two relevant \\npopulations of cells, (i) in the ipsilateral reticular formation at \\nthe level of the facial lobe (FL), and (ii) a few large scattered \\ncells within the ipsilateral, rostral portion of the lateral lobule \\nof the FL (Fig. 5). Injection of HRP at several sites within the FL \\nresulted in the identification of a small region in the FL from \\nwhere anterogradely filled fibers project to the reticular formation \\n(Fig. 5). Superimposition of these injection sites onto the \\nanatomical map of the extraoral surface of the catfish indicated \\nthat this small region, within the facial lobe, corresponds to the \\nsnout region of the extraoral surface. \\nFACIO-RETICULAR PROJECTIONS \\nFACIO- & RETICULO -SPINAL PROJECTIONS \\n1 \\ninjection site \\nI SpC \\n,-, \\n .\\'\"-_\\';\\'i \\' \\n2 \\ninjection site \\n3 \\nCB =cerebellum \\nLL =lateral line lobe \\nFig. 5. Schematic chartings showing \\nlabelled-cell bodies(squares) and fibers \\ntransverse sections through the medulla. \\n(dots) in \\n4O9 \\nFL = facial lobe \\n\\x7f RF = reticular formation \\n\\x7f ! \\x7f SpC = spinal cord \\nFLANK SNOUT \\nFig. 6A. \\nWATER SQUIRT -HEAD \\nGLIDING TOUCH -FLANK \\nII! !111 I I I III \\x7f111111 ! IJ. iLl.\\x7f _1. It I I!_ III \\nill II!i \\x7f Jill ill dl \\x7f11 \\nLIVER E\\x7fRA\\x7f -SND\\x7f \\nAHINO ACID HI\\x7fURE \\x7f \\n(Receptive (Sample unit responses) \\n\\' CONTROL \\'\\x7f \\n,,I.,,h,l],il.l,ll,,[,l\\x7fllJ,llll[,. !,I]!:, I lil. I, i\\x7fI...l,.l I....I,..._L, .]]l \\nAlIINO ACID I11XTURE \\x7f -SNOrt1\" \\nFig. 6B. \\n410 \\nMultiunit electrophysiological recordings from various \\nanteroposterior levels of the reticular formation indicated that the \\nsnout region (upper lip and proximal portion of the maxillary \\nbarbels) of the catfish project to a disproportionately large region \\nof the reticular formation along with a mixed representation of the \\nflank (Fig. 6A). \\nSingle unit recordings indicated that some neurons have \\nreceptive fields restricted to a bilateral portion of the snout \\nregion, while others had large receptive fields extending over the \\nwhole flank or over an anteroposterior half of the body (Fig. 6B). \\nDISCUSSION \\nThe experimental results obtained here suggest that facial lobe \\nprojections to the reticular formation form a functional connection. \\nThe reticular neurons project to the spinal cord and, most likely, \\ninfluence the general cycle of swimming-related activity of \\nmotoneurons within the spinal cord 16. \\nThe disproportionately large representation of the snout region \\nwithin the medullary reticular formation, as determined \\nelectrophysiologically, is consistent with the anatomical data \\nindicating that most of the fibers projecting to the reticular \\nformation originate from cells in that portion of the facial lobe \\nwhere the snout region is mapped. The lateral lobule of the spinal \\ncord has a second pathway which projects directly into the spinal \\ncord upto the level of the anterior end of the caudal fin and may \\ncoordinate reflexive turning. \\nThe significance of the present results is best understood when \\nconsidered together with previously known information about the \\nanatomy and electrophysiology of the gustatory system. The \\ninformation presented above is used to propose a model (Fig. 7) for \\na mechanism that may be involved during the homing phase of target \\ntracking by the catfish. During homing, which refers to the last \\nphase of target-tracking during food search, it may be assumed that \\nthe fish is rapidly approaching its target or moving through a steep \\nsignal intensity (stimulus concentration) gradient. The data \\npresented above suggest that a neuronal mechanism exists which helps \\nthe catfish to lock on to the target during homing. This proposal \\nis based upon the following considerations: \\nI. Owing to the rapidly adapting response of the peripheral filter, \\na tonic level of activity in the facial lobe input can occur only \\nwhen the animal is moving through an increasing concentration \\ngradient of the gustatory stimulus. \\n2. Facial lobe neurons, which receive inputs from the snout region, \\nproject to a group of cells in the reticular formation. Activity in \\nthe facio-reticular pathway causes a suppression in the spontaneous \\nactivity of the reticular neurons. \\n3. Direct and/or indirect spinal projections from the reticular \\nneurons are involved in the modulation of activity of those spinal \\nmotoneurons which coordinate swimming. Thus, it may be hypothesized \\nthat during complete suppression of activity in a specific reticulo- \\nspinal pathway, the fish swims straight ahead, but during excitation \\n411 \\nof certain reticulospinal neurons the fish changes its direction as \\ndictated bY the pattern f activatin\\' i \\nFig. 7. The snout region of \\nthe catfish has s\\x7fecial si-\\x7fificance \\nbecause of its extensive \\nrepresetto the \\nformation. In same the fish makes a i ..\\',:\\x7f]\\x7f \\' \\x7f\\' \\x7f .\\x7f\",,\". \\nrandom or computational error, while .-\\'/ \\x7f\\':\\'ff I \\x7f:\\x7f \\'\"\\x7f\\'. \\napproaching its target, the snout is -\"/ /\\x7f \\x7f ..\"N\\x7f \\'\"\\': \\nthe first region to move out of the /: \\nThus, the spinal moroneurons, teleologically speaking, \"seek\" a \\n\\x7fstatory stimulus in order to suppress activity of certain \\nreticulospinal neurons, which in turn reduce variations in the \\npattem of activity of s\\x7fimming-related spinal moroneurons. \\ntccordingly, in a situation where the fish is rapidly approaching a \\ntarget, ie. under the specific conditions of a continuously rising \\nstimulus concentration at the snout region and an absence of a \\nstimulus intensity difference across the barbels, there is a locking \\nof the movement of the body (of the fish) towards the stationary or \\nmoving target (food or prey). \\nIt should be pointed out, however, that the empirical data \\navailable so far, only offers clues to the target-tracking mechanism \\nproposed here. Clearly, more research is needed to validate this \\nproposal and to identify other mechanisms of target-tracking \\nutilized by this biological system. \\nThis research was supported in part by NIH Grant NS15258 to \\nT.E. Finger. \\nREFERENCES \\n1. P. B. Johnsen and J. H. Teeter, J. Comp. Physiol. 140, 95 (\\x7f98\\x7f). \\n2. J. Atema, Brain Behav. and Evol. 4, 273-294, (197J). \\n3. J. E. Bardash, et al., Science, 155, 1276-1278, (1967). \\n4- A. Newell, Mc-Graw Hill Encyclopedia of Electronics and \\nComputers, (1984), p.71-74. \\n5. C. J. Herrick, Bull. US. Fish. Comm. 22, 237-272, (1904). \\n6. J. Caprio, Comp. Bioshem. Physiol. 52A, 247-251, (1975). \\n7. C. J. Davenport and J. Caprio, J. Comp. Physiol. 147, 217 (1982). \\n8. J. S. Kanwal and J. Caprio, Brain Res. 406, 105-\\x7f12, (1987). \\n9. T. E. Finger, J. Comp. Neurol. 165, 513-526 (1976). \\n10. T. Marui and J. Caprio, Brain Res. 23\\x7f, 185-190 (J982). \\n11. J. S. Kanwal and J. Caprio, J. Neurobiol. in press, (\\x7f988). \\n12. C. J. Herrick, J. Comp. Neurol. 15, 375-456 (1905). \\n\\x7f3. C. J. Herrick, J. Comp. Neurol. 16, 403-440 (1906). \\n14. C. F. Lamb and J. Caprio, ISOT, #P70, (J986). \\n15. T. E. Finger and Y. Motits, Science, 227, 776-778 (1985). \\n16. P.S. G. Stein, Handbook of the Spinal Cord, (Marcel Dekker \\nInc., N.Y., 1984), p. 647. \\n'"
      ]
     },
     "execution_count": 107,
     "metadata": {},
     "output_type": "execute_result"
    }
   ],
   "source": [
    "papers[3]"
   ]
  },
  {
   "cell_type": "code",
   "execution_count": null,
   "id": "6c69ea96-9062-4606-bc99-efb7fa0258bd",
   "metadata": {},
   "outputs": [],
   "source": []
  }
 ],
 "metadata": {
  "kernelspec": {
   "display_name": "Python 3 (ipykernel)",
   "language": "python",
   "name": "python3"
  },
  "language_info": {
   "codemirror_mode": {
    "name": "ipython",
    "version": 3
   },
   "file_extension": ".py",
   "mimetype": "text/x-python",
   "name": "python",
   "nbconvert_exporter": "python",
   "pygments_lexer": "ipython3",
   "version": "3.11.6"
  }
 },
 "nbformat": 4,
 "nbformat_minor": 5
}
