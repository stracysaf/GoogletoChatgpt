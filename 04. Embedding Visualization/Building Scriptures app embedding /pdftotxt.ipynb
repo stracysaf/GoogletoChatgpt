{
 "cells": [
  {
   "cell_type": "code",
   "execution_count": 2,
   "id": "0b3865fb-8524-46dc-8dc2-057b4872d4a4",
   "metadata": {},
   "outputs": [],
   "source": [
    "import fitz  # Import the PyMuPDF library\n",
    "\n",
    "def pdf_to_text(pdf_path, txt_path):\n",
    "    # Open the PDF file\n",
    "    with fitz.open(pdf_path) as doc:\n",
    "        text = \"\"\n",
    "        # Iterate over each page\n",
    "        for page in doc:\n",
    "            # Extract text from the page\n",
    "            text += page.get_text()\n",
    "\n",
    "        # Save the extracted text to a .txt file\n",
    "        with open(txt_path, \"w\") as txt_file:\n",
    "            txt_file.write(text)\n",
    "\n",
    "# Example usage\n",
    "pdf_path = \"Sri Aurobindo - The Bhagavat Gita.pdf\"  # Path to your PDF file\n",
    "txt_path = \"The_Bhagavat_Gita.txt\"  # Desired path for the .txt output\n",
    "pdf_to_text(pdf_path, txt_path)"
   ]
  },
  {
   "cell_type": "code",
   "execution_count": null,
   "id": "ca928ab1-c45b-453d-bdbd-652e0e42f383",
   "metadata": {},
   "outputs": [],
   "source": []
  }
 ],
 "metadata": {
  "kernelspec": {
   "display_name": "Python 3 (ipykernel)",
   "language": "python",
   "name": "python3"
  },
  "language_info": {
   "codemirror_mode": {
    "name": "ipython",
    "version": 3
   },
   "file_extension": ".py",
   "mimetype": "text/x-python",
   "name": "python",
   "nbconvert_exporter": "python",
   "pygments_lexer": "ipython3",
   "version": "3.11.6"
  }
 },
 "nbformat": 4,
 "nbformat_minor": 5
}
