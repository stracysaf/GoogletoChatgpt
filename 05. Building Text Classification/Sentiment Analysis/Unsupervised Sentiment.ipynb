{
 "cells": [
  {
   "cell_type": "code",
   "execution_count": null,
   "id": "8c13e08b-6e1f-43d7-8299-e644028199ae",
   "metadata": {},
   "outputs": [],
   "source": [
    "Sentiment\n",
    "\n",
    "1. Unsupervised - No Target - No Training - Rule based - find the label\n",
    "2. Supervised - Target - Training - Manually Label the target - Text Classification"
   ]
  },
  {
   "cell_type": "code",
   "execution_count": null,
   "id": "53c00547-172d-44b4-8c97-3c7edfae8bbb",
   "metadata": {},
   "outputs": [],
   "source": [
    "1. Unsupervised - Rule Based "
   ]
  },
  {
   "cell_type": "code",
   "execution_count": null,
   "id": "167e4eef-15c4-4237-a6c1-5602e8ab4b12",
   "metadata": {},
   "outputs": [],
   "source": [
    "Lexicon-based sentiment analysis\n",
    "1. TextBlob\n",
    "2. Afinn\n",
    "3. Vader\n",
    "\n",
    "Readymade Solution"
   ]
  },
  {
   "cell_type": "code",
   "execution_count": 3,
   "id": "873a18d9-39bc-4767-994d-608fd14286de",
   "metadata": {},
   "outputs": [],
   "source": [
    "import textblob"
   ]
  },
  {
   "cell_type": "code",
   "execution_count": null,
   "id": "d44525ce-57fb-4f7a-84b4-3402407c377a",
   "metadata": {},
   "outputs": [],
   "source": [
    "#https://github.com/sloria/TextBlob/blob/dev/src/textblob/en/en-sentiment.xml"
   ]
  },
  {
   "cell_type": "code",
   "execution_count": 5,
   "id": "d0955344-25f2-446f-a5e6-371bb10fec30",
   "metadata": {},
   "outputs": [
    {
     "data": {
      "text/plain": [
       "-1.0"
      ]
     },
     "execution_count": 5,
     "metadata": {},
     "output_type": "execute_result"
    }
   ],
   "source": [
    "textblob.TextBlob('The product is worst').sentiment.polarity"
   ]
  },
  {
   "cell_type": "code",
   "execution_count": 19,
   "id": "edaed4a2-4cb3-44cf-96a8-e7c76cc18b0f",
   "metadata": {},
   "outputs": [],
   "source": [
    "import pandas as pd\n",
    "import numpy as np\n",
    "\n",
    "from sklearn.metrics import confusion_matrix, accuracy_score"
   ]
  },
  {
   "cell_type": "code",
   "execution_count": null,
   "id": "baf727f9-2620-4a24-96ab-81c167ac80ca",
   "metadata": {},
   "outputs": [],
   "source": [
    "~2900 words"
   ]
  },
  {
   "cell_type": "code",
   "execution_count": 7,
   "id": "ac09fa60-2126-4e45-a033-cba148b59941",
   "metadata": {},
   "outputs": [],
   "source": [
    "reviews = pd.read_csv('movie_reviews.csv')"
   ]
  },
  {
   "cell_type": "code",
   "execution_count": 22,
   "id": "ecf2b287-3f20-4595-a34e-816620139ef5",
   "metadata": {},
   "outputs": [],
   "source": [
    "reviews['textblob_score'] = reviews['review'].apply(lambda x: textblob.TextBlob(x).sentiment.polarity)"
   ]
  },
  {
   "cell_type": "code",
   "execution_count": 23,
   "id": "b7b1e9d3-434d-4e34-909a-61677e0ea432",
   "metadata": {},
   "outputs": [
    {
     "data": {
      "text/html": [
       "<div>\n",
       "<style scoped>\n",
       "    .dataframe tbody tr th:only-of-type {\n",
       "        vertical-align: middle;\n",
       "    }\n",
       "\n",
       "    .dataframe tbody tr th {\n",
       "        vertical-align: top;\n",
       "    }\n",
       "\n",
       "    .dataframe thead th {\n",
       "        text-align: right;\n",
       "    }\n",
       "</style>\n",
       "<table border=\"1\" class=\"dataframe\">\n",
       "  <thead>\n",
       "    <tr style=\"text-align: right;\">\n",
       "      <th></th>\n",
       "      <th>review</th>\n",
       "      <th>sentiment</th>\n",
       "      <th>textblob_score</th>\n",
       "      <th>textblob_sentiment</th>\n",
       "    </tr>\n",
       "  </thead>\n",
       "  <tbody>\n",
       "    <tr>\n",
       "      <th>0</th>\n",
       "      <td>One of the other reviewers has mentioned that ...</td>\n",
       "      <td>positive</td>\n",
       "      <td>0.023433</td>\n",
       "      <td>positive</td>\n",
       "    </tr>\n",
       "    <tr>\n",
       "      <th>1</th>\n",
       "      <td>A wonderful little production. &lt;br /&gt;&lt;br /&gt;The...</td>\n",
       "      <td>positive</td>\n",
       "      <td>0.109722</td>\n",
       "      <td>positive</td>\n",
       "    </tr>\n",
       "    <tr>\n",
       "      <th>2</th>\n",
       "      <td>I thought this was a wonderful way to spend ti...</td>\n",
       "      <td>positive</td>\n",
       "      <td>0.354008</td>\n",
       "      <td>positive</td>\n",
       "    </tr>\n",
       "    <tr>\n",
       "      <th>3</th>\n",
       "      <td>Basically there's a family where a little boy ...</td>\n",
       "      <td>negative</td>\n",
       "      <td>-0.057813</td>\n",
       "      <td>negative</td>\n",
       "    </tr>\n",
       "    <tr>\n",
       "      <th>4</th>\n",
       "      <td>Petter Mattei's \"Love in the Time of Money\" is...</td>\n",
       "      <td>positive</td>\n",
       "      <td>0.217952</td>\n",
       "      <td>positive</td>\n",
       "    </tr>\n",
       "    <tr>\n",
       "      <th>...</th>\n",
       "      <td>...</td>\n",
       "      <td>...</td>\n",
       "      <td>...</td>\n",
       "      <td>...</td>\n",
       "    </tr>\n",
       "    <tr>\n",
       "      <th>49995</th>\n",
       "      <td>I thought this movie did a down right good job...</td>\n",
       "      <td>positive</td>\n",
       "      <td>0.394425</td>\n",
       "      <td>positive</td>\n",
       "    </tr>\n",
       "    <tr>\n",
       "      <th>49996</th>\n",
       "      <td>Bad plot, bad dialogue, bad acting, idiotic di...</td>\n",
       "      <td>negative</td>\n",
       "      <td>-0.276190</td>\n",
       "      <td>negative</td>\n",
       "    </tr>\n",
       "    <tr>\n",
       "      <th>49997</th>\n",
       "      <td>I am a Catholic taught in parochial elementary...</td>\n",
       "      <td>negative</td>\n",
       "      <td>0.056984</td>\n",
       "      <td>negative</td>\n",
       "    </tr>\n",
       "    <tr>\n",
       "      <th>49998</th>\n",
       "      <td>I'm going to have to disagree with the previou...</td>\n",
       "      <td>negative</td>\n",
       "      <td>-0.048663</td>\n",
       "      <td>negative</td>\n",
       "    </tr>\n",
       "    <tr>\n",
       "      <th>49999</th>\n",
       "      <td>No one expects the Star Trek movies to be high...</td>\n",
       "      <td>negative</td>\n",
       "      <td>0.120000</td>\n",
       "      <td>negative</td>\n",
       "    </tr>\n",
       "  </tbody>\n",
       "</table>\n",
       "<p>50000 rows × 4 columns</p>\n",
       "</div>"
      ],
      "text/plain": [
       "                                                  review sentiment  \\\n",
       "0      One of the other reviewers has mentioned that ...  positive   \n",
       "1      A wonderful little production. <br /><br />The...  positive   \n",
       "2      I thought this was a wonderful way to spend ti...  positive   \n",
       "3      Basically there's a family where a little boy ...  negative   \n",
       "4      Petter Mattei's \"Love in the Time of Money\" is...  positive   \n",
       "...                                                  ...       ...   \n",
       "49995  I thought this movie did a down right good job...  positive   \n",
       "49996  Bad plot, bad dialogue, bad acting, idiotic di...  negative   \n",
       "49997  I am a Catholic taught in parochial elementary...  negative   \n",
       "49998  I'm going to have to disagree with the previou...  negative   \n",
       "49999  No one expects the Star Trek movies to be high...  negative   \n",
       "\n",
       "       textblob_score textblob_sentiment  \n",
       "0            0.023433           positive  \n",
       "1            0.109722           positive  \n",
       "2            0.354008           positive  \n",
       "3           -0.057813           negative  \n",
       "4            0.217952           positive  \n",
       "...               ...                ...  \n",
       "49995        0.394425           positive  \n",
       "49996       -0.276190           negative  \n",
       "49997        0.056984           negative  \n",
       "49998       -0.048663           negative  \n",
       "49999        0.120000           negative  \n",
       "\n",
       "[50000 rows x 4 columns]"
      ]
     },
     "execution_count": 23,
     "metadata": {},
     "output_type": "execute_result"
    }
   ],
   "source": [
    "reviews"
   ]
  },
  {
   "cell_type": "code",
   "execution_count": 24,
   "id": "68a5f061-d1e5-4fa6-9be2-b54245fa2136",
   "metadata": {},
   "outputs": [],
   "source": [
    "reviews['textblob_sentiment'] = np.where(reviews['textblob_score']<0, 'negative', 'positive')"
   ]
  },
  {
   "cell_type": "code",
   "execution_count": 39,
   "id": "b1c38d7b-880a-4556-8cea-20e6ca85fd15",
   "metadata": {},
   "outputs": [
    {
     "data": {
      "text/plain": [
       "\"One of the other reviewers has mentioned that after watching just 1 Oz episode you'll be hooked. They are right, as this is exactly what happened with me.<br /><br />The first thing that struck me about Oz was its brutality and unflinching scenes of violence, which set in right from the word GO. Trust me, this is not a show for the faint hearted or timid. This show pulls no punches with regards to drugs, sex or violence. Its is hardcore, in the classic use of the word.<br /><br />It is called OZ as that is the nickname given to the Oswald Maximum Security State Penitentary. It focuses mainly on Emerald City, an experimental section of the prison where all the cells have glass fronts and face inwards, so privacy is not high on the agenda. Em City is home to many..Aryans, Muslims, gangstas, Latinos, Christians, Italians, Irish and more....so scuffles, death stares, dodgy dealings and shady agreements are never far away.<br /><br />I would say the main appeal of the show is due to the fact that it goes where other shows wouldn't dare. Forget pretty pictures painted for mainstream audiences, forget charm, forget romance...OZ doesn't mess around. The first episode I ever saw struck me as so nasty it was surreal, I couldn't say I was ready for it, but as I watched more, I developed a taste for Oz, and got accustomed to the high levels of graphic violence. Not just violence, but injustice (crooked guards who'll be sold out for a nickel, inmates who'll kill on order and get away with it, well mannered, middle class inmates being turned into prison bitches due to their lack of street skills or prison experience) Watching Oz, you may become comfortable with what is uncomfortable viewing....thats if you can get in touch with your darker side.\""
      ]
     },
     "execution_count": 39,
     "metadata": {},
     "output_type": "execute_result"
    }
   ],
   "source": [
    "reviews['review'].values[0]"
   ]
  },
  {
   "cell_type": "code",
   "execution_count": 26,
   "id": "f6d7cfae-b65e-41c0-8ed3-d4d485c401df",
   "metadata": {},
   "outputs": [
    {
     "data": {
      "text/plain": [
       "array([[10725, 14275],\n",
       "       [ 1311, 23689]])"
      ]
     },
     "execution_count": 26,
     "metadata": {},
     "output_type": "execute_result"
    }
   ],
   "source": [
    "confusion_matrix(reviews['sentiment']  ,reviews['textblob_sentiment'])"
   ]
  },
  {
   "cell_type": "code",
   "execution_count": 28,
   "id": "9b619ead-814a-40f9-b996-2a622fb1840c",
   "metadata": {},
   "outputs": [
    {
     "name": "stdout",
     "output_type": "stream",
     "text": [
      "Text Blob Sentiment Accuracy :  0.68828\n"
     ]
    }
   ],
   "source": [
    "print(\"Text Blob Sentiment Accuracy : \",accuracy_score(reviews['sentiment']  ,reviews['textblob_sentiment']))"
   ]
  },
  {
   "cell_type": "code",
   "execution_count": null,
   "id": "636abd2f-9901-497c-9ddc-9e061d4d0b82",
   "metadata": {},
   "outputs": [],
   "source": []
  },
  {
   "cell_type": "code",
   "execution_count": 31,
   "id": "00c622bf-ea81-4b6e-a07e-4585971a2b02",
   "metadata": {},
   "outputs": [],
   "source": [
    "from afinn import Afinn"
   ]
  },
  {
   "cell_type": "code",
   "execution_count": null,
   "id": "3c8dcb89-51f0-4b84-9bc3-553fd7bc1eeb",
   "metadata": {},
   "outputs": [],
   "source": [
    "#https://github.com/fnielsen/afinn/blob/master/afinn/data/AFINN-en-165.txt"
   ]
  },
  {
   "cell_type": "code",
   "execution_count": null,
   "id": "4d250e61-1030-473d-a5c8-93ace45c2a79",
   "metadata": {},
   "outputs": [],
   "source": [
    "1. ~3200\n",
    "2. More language\n",
    "3. Emoticon support\n",
    "4. Polarity score from -5 to +5"
   ]
  },
  {
   "cell_type": "code",
   "execution_count": 32,
   "id": "db945f87-04fd-401b-96f1-a73f5c80ebb9",
   "metadata": {},
   "outputs": [],
   "source": [
    "afinn = Afinn(emoticons=True)"
   ]
  },
  {
   "cell_type": "code",
   "execution_count": 40,
   "id": "f86446d7-69ef-48f6-bc5e-d7af6fb45072",
   "metadata": {},
   "outputs": [
    {
     "data": {
      "text/plain": [
       "-40.0"
      ]
     },
     "execution_count": 40,
     "metadata": {},
     "output_type": "execute_result"
    }
   ],
   "source": [
    "afinn.score(\"\"\"One of the other reviewers has mentioned that after watching just 1 Oz episode you'll be hooked. They are right, as this is exactly what happened with me.<br /><br />The first thing that struck me about Oz was its brutality and unflinching scenes of violence, which set in right from the word GO. Trust me, this is not a show for the faint hearted or timid. This show pulls no punches with regards to drugs, sex or violence. Its is hardcore, in the classic use of the word.<br /><br />It is called OZ as that is the nickname given to the Oswald Maximum Security State Penitentary. It focuses mainly on Emerald City, an experimental section of the prison where all the cells have glass fronts and face inwards, so privacy is not high on the agenda. Em City is home to many..Aryans, Muslims, gangstas, Latinos, Christians, Italians, Irish and more....so scuffles, death stares, dodgy dealings and shady agreements are never far away.<br /><br />I would say the main appeal of the show is due to the fact that it goes where other shows wouldn't dare. Forget pretty pictures painted for mainstream audiences, forget charm, forget romance...OZ doesn't mess around. The first episode I ever saw struck me as so nasty it was surreal, I couldn't say I was ready for it, but as I watched more, I developed a taste for Oz, and got accustomed to the high levels of graphic violence. Not just violence, but injustice (crooked guards who'll be sold out for a nickel, inmates who'll kill on order and get away with it, well mannered, middle class inmates being turned into prison bitches due to their lack of street skills or prison experience) Watching Oz, you may become comfortable with what is uncomfortable viewing....thats if you can get in touch with your darker side. \"\"\")\n"
   ]
  },
  {
   "cell_type": "code",
   "execution_count": 45,
   "id": "455bb7f0-3c86-48ab-9977-659f4fbbd01a",
   "metadata": {},
   "outputs": [
    {
     "data": {
      "text/plain": [
       "1761"
      ]
     },
     "execution_count": 45,
     "metadata": {},
     "output_type": "execute_result"
    }
   ],
   "source": [
    "len(\"One of the other reviewers has mentioned that after watching just 1 Oz episode you'll be hooked. They are right, as this is exactly what happened with me.<br /><br />The first thing that struck me about Oz was its brutality and unflinching scenes of violence, which set in right from the word GO. Trust me, this is not a show for the faint hearted or timid. This show pulls no punches with regards to drugs, sex or violence. Its is hardcore, in the classic use of the word.<br /><br />It is called OZ as that is the nickname given to the Oswald Maximum Security State Penitentary. It focuses mainly on Emerald City, an experimental section of the prison where all the cells have glass fronts and face inwards, so privacy is not high on the agenda. Em City is home to many..Aryans, Muslims, gangstas, Latinos, Christians, Italians, Irish and more....so scuffles, death stares, dodgy dealings and shady agreements are never far away.<br /><br />I would say the main appeal of the show is due to the fact that it goes where other shows wouldn't dare. Forget pretty pictures painted for mainstream audiences, forget charm, forget romance...OZ doesn't mess around. The first episode I ever saw struck me as so nasty it was surreal, I couldn't say I was ready for it, but as I watched more, I developed a taste for Oz, and got accustomed to the high levels of graphic violence. Not just violence, but injustice (crooked guards who'll be sold out for a nickel, inmates who'll kill on order and get away with it, well mannered, middle class inmates being turned into prison bitches due to their lack of street skills or prison experience) Watching Oz, you may become comfortable with what is uncomfortable viewing....thats if you can get in touch with your darker side.\")\n"
   ]
  },
  {
   "cell_type": "code",
   "execution_count": 42,
   "id": "caad39c0-abcc-4c6f-b0ac-c0402f165624",
   "metadata": {},
   "outputs": [
    {
     "data": {
      "text/plain": [
       "6.0"
      ]
     },
     "execution_count": 42,
     "metadata": {},
     "output_type": "execute_result"
    }
   ],
   "source": [
    "afinn.score(\"Excellent Excellent\")"
   ]
  },
  {
   "cell_type": "code",
   "execution_count": 34,
   "id": "fc8d0604-9e08-442a-9cd1-99495ec7c69a",
   "metadata": {},
   "outputs": [],
   "source": [
    "reviews['afinn_score'] = reviews['review'].apply(lambda x: afinn.score(x))"
   ]
  },
  {
   "cell_type": "code",
   "execution_count": 36,
   "id": "475fc1cf-f5f2-4905-8c03-e8110b30f1ad",
   "metadata": {},
   "outputs": [
    {
     "data": {
      "text/plain": [
       "0       -40.0\n",
       "1        13.0\n",
       "2        21.0\n",
       "3        -8.0\n",
       "4        28.0\n",
       "         ... \n",
       "49995    27.0\n",
       "49996   -12.0\n",
       "49997    -7.0\n",
       "49998    -6.0\n",
       "49999    12.0\n",
       "Name: afinn_score, Length: 50000, dtype: float64"
      ]
     },
     "execution_count": 36,
     "metadata": {},
     "output_type": "execute_result"
    }
   ],
   "source": [
    "reviews['afinn_score']"
   ]
  },
  {
   "cell_type": "code",
   "execution_count": 43,
   "id": "ff937689-2718-48da-84bd-e37f6eab2b92",
   "metadata": {},
   "outputs": [],
   "source": [
    "reviews['#words'] = reviews['review'].apply(lambda x: len(x.split(' ')))"
   ]
  },
  {
   "cell_type": "code",
   "execution_count": 44,
   "id": "e260a47e-a997-4463-a84d-689bcc28d997",
   "metadata": {},
   "outputs": [
    {
     "data": {
      "text/html": [
       "<div>\n",
       "<style scoped>\n",
       "    .dataframe tbody tr th:only-of-type {\n",
       "        vertical-align: middle;\n",
       "    }\n",
       "\n",
       "    .dataframe tbody tr th {\n",
       "        vertical-align: top;\n",
       "    }\n",
       "\n",
       "    .dataframe thead th {\n",
       "        text-align: right;\n",
       "    }\n",
       "</style>\n",
       "<table border=\"1\" class=\"dataframe\">\n",
       "  <thead>\n",
       "    <tr style=\"text-align: right;\">\n",
       "      <th></th>\n",
       "      <th>review</th>\n",
       "      <th>sentiment</th>\n",
       "      <th>textblob_score</th>\n",
       "      <th>textblob_sentiment</th>\n",
       "      <th>afinn_score</th>\n",
       "      <th>#words</th>\n",
       "    </tr>\n",
       "  </thead>\n",
       "  <tbody>\n",
       "    <tr>\n",
       "      <th>0</th>\n",
       "      <td>One of the other reviewers has mentioned that ...</td>\n",
       "      <td>positive</td>\n",
       "      <td>0.023433</td>\n",
       "      <td>positive</td>\n",
       "      <td>-40.0</td>\n",
       "      <td>307</td>\n",
       "    </tr>\n",
       "    <tr>\n",
       "      <th>1</th>\n",
       "      <td>A wonderful little production. &lt;br /&gt;&lt;br /&gt;The...</td>\n",
       "      <td>positive</td>\n",
       "      <td>0.109722</td>\n",
       "      <td>positive</td>\n",
       "      <td>13.0</td>\n",
       "      <td>162</td>\n",
       "    </tr>\n",
       "    <tr>\n",
       "      <th>2</th>\n",
       "      <td>I thought this was a wonderful way to spend ti...</td>\n",
       "      <td>positive</td>\n",
       "      <td>0.354008</td>\n",
       "      <td>positive</td>\n",
       "      <td>21.0</td>\n",
       "      <td>166</td>\n",
       "    </tr>\n",
       "    <tr>\n",
       "      <th>3</th>\n",
       "      <td>Basically there's a family where a little boy ...</td>\n",
       "      <td>negative</td>\n",
       "      <td>-0.057813</td>\n",
       "      <td>negative</td>\n",
       "      <td>-8.0</td>\n",
       "      <td>138</td>\n",
       "    </tr>\n",
       "    <tr>\n",
       "      <th>4</th>\n",
       "      <td>Petter Mattei's \"Love in the Time of Money\" is...</td>\n",
       "      <td>positive</td>\n",
       "      <td>0.217952</td>\n",
       "      <td>positive</td>\n",
       "      <td>28.0</td>\n",
       "      <td>230</td>\n",
       "    </tr>\n",
       "    <tr>\n",
       "      <th>...</th>\n",
       "      <td>...</td>\n",
       "      <td>...</td>\n",
       "      <td>...</td>\n",
       "      <td>...</td>\n",
       "      <td>...</td>\n",
       "      <td>...</td>\n",
       "    </tr>\n",
       "    <tr>\n",
       "      <th>49995</th>\n",
       "      <td>I thought this movie did a down right good job...</td>\n",
       "      <td>positive</td>\n",
       "      <td>0.394425</td>\n",
       "      <td>positive</td>\n",
       "      <td>27.0</td>\n",
       "      <td>194</td>\n",
       "    </tr>\n",
       "    <tr>\n",
       "      <th>49996</th>\n",
       "      <td>Bad plot, bad dialogue, bad acting, idiotic di...</td>\n",
       "      <td>negative</td>\n",
       "      <td>-0.276190</td>\n",
       "      <td>negative</td>\n",
       "      <td>-12.0</td>\n",
       "      <td>112</td>\n",
       "    </tr>\n",
       "    <tr>\n",
       "      <th>49997</th>\n",
       "      <td>I am a Catholic taught in parochial elementary...</td>\n",
       "      <td>negative</td>\n",
       "      <td>0.056984</td>\n",
       "      <td>positive</td>\n",
       "      <td>-7.0</td>\n",
       "      <td>230</td>\n",
       "    </tr>\n",
       "    <tr>\n",
       "      <th>49998</th>\n",
       "      <td>I'm going to have to disagree with the previou...</td>\n",
       "      <td>negative</td>\n",
       "      <td>-0.048663</td>\n",
       "      <td>negative</td>\n",
       "      <td>-6.0</td>\n",
       "      <td>212</td>\n",
       "    </tr>\n",
       "    <tr>\n",
       "      <th>49999</th>\n",
       "      <td>No one expects the Star Trek movies to be high...</td>\n",
       "      <td>negative</td>\n",
       "      <td>0.120000</td>\n",
       "      <td>positive</td>\n",
       "      <td>12.0</td>\n",
       "      <td>129</td>\n",
       "    </tr>\n",
       "  </tbody>\n",
       "</table>\n",
       "<p>50000 rows × 6 columns</p>\n",
       "</div>"
      ],
      "text/plain": [
       "                                                  review sentiment  \\\n",
       "0      One of the other reviewers has mentioned that ...  positive   \n",
       "1      A wonderful little production. <br /><br />The...  positive   \n",
       "2      I thought this was a wonderful way to spend ti...  positive   \n",
       "3      Basically there's a family where a little boy ...  negative   \n",
       "4      Petter Mattei's \"Love in the Time of Money\" is...  positive   \n",
       "...                                                  ...       ...   \n",
       "49995  I thought this movie did a down right good job...  positive   \n",
       "49996  Bad plot, bad dialogue, bad acting, idiotic di...  negative   \n",
       "49997  I am a Catholic taught in parochial elementary...  negative   \n",
       "49998  I'm going to have to disagree with the previou...  negative   \n",
       "49999  No one expects the Star Trek movies to be high...  negative   \n",
       "\n",
       "       textblob_score textblob_sentiment  afinn_score  #words  \n",
       "0            0.023433           positive        -40.0     307  \n",
       "1            0.109722           positive         13.0     162  \n",
       "2            0.354008           positive         21.0     166  \n",
       "3           -0.057813           negative         -8.0     138  \n",
       "4            0.217952           positive         28.0     230  \n",
       "...               ...                ...          ...     ...  \n",
       "49995        0.394425           positive         27.0     194  \n",
       "49996       -0.276190           negative        -12.0     112  \n",
       "49997        0.056984           positive         -7.0     230  \n",
       "49998       -0.048663           negative         -6.0     212  \n",
       "49999        0.120000           positive         12.0     129  \n",
       "\n",
       "[50000 rows x 6 columns]"
      ]
     },
     "execution_count": 44,
     "metadata": {},
     "output_type": "execute_result"
    }
   ],
   "source": [
    "reviews"
   ]
  },
  {
   "cell_type": "code",
   "execution_count": 47,
   "id": "cd519108-e4e0-43aa-a9a0-7428924a7ff7",
   "metadata": {},
   "outputs": [],
   "source": [
    "reviews['afinn_score'] = reviews['afinn_score']/reviews['#words']"
   ]
  },
  {
   "cell_type": "code",
   "execution_count": 48,
   "id": "2d6e4f0d-5752-422b-96ff-e8c068e73d7e",
   "metadata": {},
   "outputs": [
    {
     "data": {
      "text/html": [
       "<div>\n",
       "<style scoped>\n",
       "    .dataframe tbody tr th:only-of-type {\n",
       "        vertical-align: middle;\n",
       "    }\n",
       "\n",
       "    .dataframe tbody tr th {\n",
       "        vertical-align: top;\n",
       "    }\n",
       "\n",
       "    .dataframe thead th {\n",
       "        text-align: right;\n",
       "    }\n",
       "</style>\n",
       "<table border=\"1\" class=\"dataframe\">\n",
       "  <thead>\n",
       "    <tr style=\"text-align: right;\">\n",
       "      <th></th>\n",
       "      <th>review</th>\n",
       "      <th>sentiment</th>\n",
       "      <th>textblob_score</th>\n",
       "      <th>textblob_sentiment</th>\n",
       "      <th>afinn_score</th>\n",
       "      <th>#words</th>\n",
       "    </tr>\n",
       "  </thead>\n",
       "  <tbody>\n",
       "    <tr>\n",
       "      <th>0</th>\n",
       "      <td>One of the other reviewers has mentioned that ...</td>\n",
       "      <td>positive</td>\n",
       "      <td>0.023433</td>\n",
       "      <td>positive</td>\n",
       "      <td>-0.130293</td>\n",
       "      <td>307</td>\n",
       "    </tr>\n",
       "    <tr>\n",
       "      <th>1</th>\n",
       "      <td>A wonderful little production. &lt;br /&gt;&lt;br /&gt;The...</td>\n",
       "      <td>positive</td>\n",
       "      <td>0.109722</td>\n",
       "      <td>positive</td>\n",
       "      <td>0.080247</td>\n",
       "      <td>162</td>\n",
       "    </tr>\n",
       "    <tr>\n",
       "      <th>2</th>\n",
       "      <td>I thought this was a wonderful way to spend ti...</td>\n",
       "      <td>positive</td>\n",
       "      <td>0.354008</td>\n",
       "      <td>positive</td>\n",
       "      <td>0.126506</td>\n",
       "      <td>166</td>\n",
       "    </tr>\n",
       "    <tr>\n",
       "      <th>3</th>\n",
       "      <td>Basically there's a family where a little boy ...</td>\n",
       "      <td>negative</td>\n",
       "      <td>-0.057813</td>\n",
       "      <td>negative</td>\n",
       "      <td>-0.057971</td>\n",
       "      <td>138</td>\n",
       "    </tr>\n",
       "    <tr>\n",
       "      <th>4</th>\n",
       "      <td>Petter Mattei's \"Love in the Time of Money\" is...</td>\n",
       "      <td>positive</td>\n",
       "      <td>0.217952</td>\n",
       "      <td>positive</td>\n",
       "      <td>0.121739</td>\n",
       "      <td>230</td>\n",
       "    </tr>\n",
       "    <tr>\n",
       "      <th>...</th>\n",
       "      <td>...</td>\n",
       "      <td>...</td>\n",
       "      <td>...</td>\n",
       "      <td>...</td>\n",
       "      <td>...</td>\n",
       "      <td>...</td>\n",
       "    </tr>\n",
       "    <tr>\n",
       "      <th>49995</th>\n",
       "      <td>I thought this movie did a down right good job...</td>\n",
       "      <td>positive</td>\n",
       "      <td>0.394425</td>\n",
       "      <td>positive</td>\n",
       "      <td>0.139175</td>\n",
       "      <td>194</td>\n",
       "    </tr>\n",
       "    <tr>\n",
       "      <th>49996</th>\n",
       "      <td>Bad plot, bad dialogue, bad acting, idiotic di...</td>\n",
       "      <td>negative</td>\n",
       "      <td>-0.276190</td>\n",
       "      <td>negative</td>\n",
       "      <td>-0.107143</td>\n",
       "      <td>112</td>\n",
       "    </tr>\n",
       "    <tr>\n",
       "      <th>49997</th>\n",
       "      <td>I am a Catholic taught in parochial elementary...</td>\n",
       "      <td>negative</td>\n",
       "      <td>0.056984</td>\n",
       "      <td>positive</td>\n",
       "      <td>-0.030435</td>\n",
       "      <td>230</td>\n",
       "    </tr>\n",
       "    <tr>\n",
       "      <th>49998</th>\n",
       "      <td>I'm going to have to disagree with the previou...</td>\n",
       "      <td>negative</td>\n",
       "      <td>-0.048663</td>\n",
       "      <td>negative</td>\n",
       "      <td>-0.028302</td>\n",
       "      <td>212</td>\n",
       "    </tr>\n",
       "    <tr>\n",
       "      <th>49999</th>\n",
       "      <td>No one expects the Star Trek movies to be high...</td>\n",
       "      <td>negative</td>\n",
       "      <td>0.120000</td>\n",
       "      <td>positive</td>\n",
       "      <td>0.093023</td>\n",
       "      <td>129</td>\n",
       "    </tr>\n",
       "  </tbody>\n",
       "</table>\n",
       "<p>50000 rows × 6 columns</p>\n",
       "</div>"
      ],
      "text/plain": [
       "                                                  review sentiment  \\\n",
       "0      One of the other reviewers has mentioned that ...  positive   \n",
       "1      A wonderful little production. <br /><br />The...  positive   \n",
       "2      I thought this was a wonderful way to spend ti...  positive   \n",
       "3      Basically there's a family where a little boy ...  negative   \n",
       "4      Petter Mattei's \"Love in the Time of Money\" is...  positive   \n",
       "...                                                  ...       ...   \n",
       "49995  I thought this movie did a down right good job...  positive   \n",
       "49996  Bad plot, bad dialogue, bad acting, idiotic di...  negative   \n",
       "49997  I am a Catholic taught in parochial elementary...  negative   \n",
       "49998  I'm going to have to disagree with the previou...  negative   \n",
       "49999  No one expects the Star Trek movies to be high...  negative   \n",
       "\n",
       "       textblob_score textblob_sentiment  afinn_score  #words  \n",
       "0            0.023433           positive    -0.130293     307  \n",
       "1            0.109722           positive     0.080247     162  \n",
       "2            0.354008           positive     0.126506     166  \n",
       "3           -0.057813           negative    -0.057971     138  \n",
       "4            0.217952           positive     0.121739     230  \n",
       "...               ...                ...          ...     ...  \n",
       "49995        0.394425           positive     0.139175     194  \n",
       "49996       -0.276190           negative    -0.107143     112  \n",
       "49997        0.056984           positive    -0.030435     230  \n",
       "49998       -0.048663           negative    -0.028302     212  \n",
       "49999        0.120000           positive     0.093023     129  \n",
       "\n",
       "[50000 rows x 6 columns]"
      ]
     },
     "execution_count": 48,
     "metadata": {},
     "output_type": "execute_result"
    }
   ],
   "source": [
    "reviews"
   ]
  },
  {
   "cell_type": "code",
   "execution_count": 49,
   "id": "48fd4f1e-6b80-4dad-9399-1244d05d950d",
   "metadata": {},
   "outputs": [],
   "source": [
    "reviews['afinn_sentiment'] = np.where(reviews['afinn_score']<0, 'negative', 'positive')"
   ]
  },
  {
   "cell_type": "code",
   "execution_count": 50,
   "id": "7477bd2c-9964-46c4-92e0-944bf012dec6",
   "metadata": {},
   "outputs": [
    {
     "data": {
      "text/plain": [
       "array([[13583, 11417],\n",
       "       [ 3444, 21556]])"
      ]
     },
     "execution_count": 50,
     "metadata": {},
     "output_type": "execute_result"
    }
   ],
   "source": [
    "confusion_matrix(reviews['sentiment']  ,reviews['afinn_sentiment'])"
   ]
  },
  {
   "cell_type": "code",
   "execution_count": 51,
   "id": "3d9336be-47bd-4087-8704-a1d15e09efa7",
   "metadata": {},
   "outputs": [
    {
     "name": "stdout",
     "output_type": "stream",
     "text": [
      "Afinn Sentiment Accuracy :  0.70278\n"
     ]
    }
   ],
   "source": [
    "print(\"Afinn Sentiment Accuracy : \",accuracy_score(reviews['sentiment']  ,reviews['afinn_sentiment']))"
   ]
  },
  {
   "cell_type": "code",
   "execution_count": null,
   "id": "c8cbcc5a-049a-4103-abb1-c56fa5575eb1",
   "metadata": {},
   "outputs": [],
   "source": []
  },
  {
   "cell_type": "code",
   "execution_count": null,
   "id": "47271d9a-b8ef-4ff8-ac88-65a59e722244",
   "metadata": {},
   "outputs": [],
   "source": [
    "!pip install vaderSentiment"
   ]
  },
  {
   "cell_type": "code",
   "execution_count": 53,
   "id": "649763e2-2727-4cf0-8fe4-a47411c769a9",
   "metadata": {},
   "outputs": [],
   "source": [
    "from vaderSentiment.vaderSentiment import SentimentIntensityAnalyzer"
   ]
  },
  {
   "cell_type": "markdown",
   "id": "ce663ae7-4395-4f45-b0a2-cfeeb1d01a8f",
   "metadata": {},
   "source": [
    "Total words and emoticons - ~ 7500\n",
    "Polarity - -1 to +4\n",
    "Sentiment score  - averaged on 10 sources"
   ]
  },
  {
   "cell_type": "code",
   "execution_count": null,
   "id": "73f4c3e0-a714-4440-a15c-7632f218e369",
   "metadata": {},
   "outputs": [],
   "source": [
    "#https://github.com/cjhutto/vaderSentiment/blob/master/vaderSentiment/vader_lexicon.txt"
   ]
  },
  {
   "cell_type": "code",
   "execution_count": 54,
   "id": "82e508e8-2bee-48ef-9115-f5930c50de9a",
   "metadata": {},
   "outputs": [
    {
     "name": "stdout",
     "output_type": "stream",
     "text": [
      "The product is excellent----------------------------------------- {'neg': 0.0, 'neu': 0.448, 'pos': 0.552, 'compound': 0.5719}\n"
     ]
    }
   ],
   "source": [
    "analyzer = SentimentIntensityAnalyzer()\n",
    "vs = analyzer.polarity_scores(\"The product is excellent\")\n",
    "print(\"{:-<65} {}\".format(\"The product is excellent\", str(vs)))"
   ]
  },
  {
   "cell_type": "code",
   "execution_count": 56,
   "id": "5686c3da-33f1-458c-a603-4fe7bbce2615",
   "metadata": {},
   "outputs": [],
   "source": [
    "reviews['vader_score'] = reviews['review'].apply(lambda x: analyzer.polarity_scores(x)['compound'])"
   ]
  },
  {
   "cell_type": "code",
   "execution_count": 57,
   "id": "f5c4c437-4092-4a65-a797-2eeb5cd1c8d7",
   "metadata": {},
   "outputs": [
    {
     "data": {
      "text/plain": [
       "0       -0.9916\n",
       "1        0.9670\n",
       "2        0.9519\n",
       "3       -0.9213\n",
       "4        0.9744\n",
       "          ...  \n",
       "49995    0.9886\n",
       "49996   -0.6837\n",
       "49997   -0.9734\n",
       "49998   -0.8657\n",
       "49999    0.6975\n",
       "Name: vader_score, Length: 50000, dtype: float64"
      ]
     },
     "execution_count": 57,
     "metadata": {},
     "output_type": "execute_result"
    }
   ],
   "source": [
    "reviews['vader_score']"
   ]
  },
  {
   "cell_type": "code",
   "execution_count": 58,
   "id": "316572d1-0996-434b-8f4f-64d4a1411ddf",
   "metadata": {},
   "outputs": [],
   "source": [
    "reviews['vader_sentiment'] = np.where(reviews['vader_score']<0, 'negative', 'positive')"
   ]
  },
  {
   "cell_type": "code",
   "execution_count": 61,
   "id": "c7412f91-ea29-43db-a2b3-5322af6fdcc7",
   "metadata": {},
   "outputs": [
    {
     "data": {
      "text/plain": [
       "array([[13253, 11747],\n",
       "       [ 3468, 21532]])"
      ]
     },
     "execution_count": 61,
     "metadata": {},
     "output_type": "execute_result"
    }
   ],
   "source": [
    "confusion_matrix(reviews['sentiment']  ,reviews['vader_sentiment'])"
   ]
  },
  {
   "cell_type": "code",
   "execution_count": 62,
   "id": "4df85d03-23ee-48f1-9b11-b782e52d1298",
   "metadata": {},
   "outputs": [
    {
     "name": "stdout",
     "output_type": "stream",
     "text": [
      "Vader Sentiment Accuracy :  0.6957\n"
     ]
    }
   ],
   "source": [
    "print(\"Vader Sentiment Accuracy : \",accuracy_score(reviews['sentiment']  ,reviews['vader_sentiment']))"
   ]
  },
  {
   "cell_type": "code",
   "execution_count": null,
   "id": "a3ac0507-e4ae-48c6-9d94-07d706e43b29",
   "metadata": {},
   "outputs": [],
   "source": []
  }
 ],
 "metadata": {
  "kernelspec": {
   "display_name": "Python 3 (ipykernel)",
   "language": "python",
   "name": "python3"
  },
  "language_info": {
   "codemirror_mode": {
    "name": "ipython",
    "version": 3
   },
   "file_extension": ".py",
   "mimetype": "text/x-python",
   "name": "python",
   "nbconvert_exporter": "python",
   "pygments_lexer": "ipython3",
   "version": "3.11.6"
  }
 },
 "nbformat": 4,
 "nbformat_minor": 5
}
