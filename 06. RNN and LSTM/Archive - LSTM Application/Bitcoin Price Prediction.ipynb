{
 "cells": [
  {
   "cell_type": "markdown",
   "metadata": {
    "collapsed": true
   },
   "source": [
    "Link to medium post: https://medium.com/@zhiwei_zhang/bitcoin-time-series-prediction-with-lstm-d3f49b1b4d00"
   ]
  },
  {
   "cell_type": "code",
   "execution_count": 1,
   "metadata": {},
   "outputs": [
    {
     "name": "stderr",
     "output_type": "stream",
     "text": [
      "Using TensorFlow backend.\n"
     ]
    }
   ],
   "source": [
    "import datetime\n",
    "import time\n",
    "import pandas as pd\n",
    "import numpy as np\n",
    "import matplotlib.pyplot as plt\n",
    "%matplotlib inline\n",
    "from sklearn.metrics import mean_squared_error\n",
    "from math import sqrt\n",
    "\n",
    "import keras\n",
    "from keras.models import Sequential\n",
    "from keras.layers import Activation, Dense\n",
    "from keras.layers import LSTM\n",
    "from keras.layers import Dropout"
   ]
  },
  {
   "cell_type": "markdown",
   "metadata": {},
   "source": [
    "###  Load data by reading table from html"
   ]
  },
  {
   "cell_type": "code",
   "execution_count": 2,
   "metadata": {},
   "outputs": [
    {
     "data": {
      "text/html": [
       "<div>\n",
       "<style scoped>\n",
       "    .dataframe tbody tr th:only-of-type {\n",
       "        vertical-align: middle;\n",
       "    }\n",
       "\n",
       "    .dataframe tbody tr th {\n",
       "        vertical-align: top;\n",
       "    }\n",
       "\n",
       "    .dataframe thead th {\n",
       "        text-align: right;\n",
       "    }\n",
       "</style>\n",
       "<table border=\"1\" class=\"dataframe\">\n",
       "  <thead>\n",
       "    <tr style=\"text-align: right;\">\n",
       "      <th></th>\n",
       "      <th>Date</th>\n",
       "      <th>Open*</th>\n",
       "      <th>High</th>\n",
       "      <th>Low</th>\n",
       "      <th>Close**</th>\n",
       "      <th>Volume</th>\n",
       "      <th>Market Cap</th>\n",
       "    </tr>\n",
       "  </thead>\n",
       "  <tbody>\n",
       "    <tr>\n",
       "      <th>0</th>\n",
       "      <td>2019-09-01</td>\n",
       "      <td>9630.59</td>\n",
       "      <td>9796.76</td>\n",
       "      <td>9582.94</td>\n",
       "      <td>9757.97</td>\n",
       "      <td>1.144536e+10</td>\n",
       "      <td>174768292883</td>\n",
       "    </tr>\n",
       "    <tr>\n",
       "      <th>1</th>\n",
       "      <td>2019-08-31</td>\n",
       "      <td>9597.54</td>\n",
       "      <td>9673.22</td>\n",
       "      <td>9531.80</td>\n",
       "      <td>9630.66</td>\n",
       "      <td>1.145481e+10</td>\n",
       "      <td>172470743516</td>\n",
       "    </tr>\n",
       "    <tr>\n",
       "      <th>2</th>\n",
       "      <td>2019-08-30</td>\n",
       "      <td>9514.84</td>\n",
       "      <td>9656.12</td>\n",
       "      <td>9428.30</td>\n",
       "      <td>9598.17</td>\n",
       "      <td>1.359526e+10</td>\n",
       "      <td>171869216524</td>\n",
       "    </tr>\n",
       "    <tr>\n",
       "      <th>3</th>\n",
       "      <td>2019-08-29</td>\n",
       "      <td>9756.79</td>\n",
       "      <td>9756.79</td>\n",
       "      <td>9421.63</td>\n",
       "      <td>9510.20</td>\n",
       "      <td>1.704588e+10</td>\n",
       "      <td>170274910132</td>\n",
       "    </tr>\n",
       "    <tr>\n",
       "      <th>4</th>\n",
       "      <td>2019-08-28</td>\n",
       "      <td>10203.43</td>\n",
       "      <td>10279.37</td>\n",
       "      <td>9716.66</td>\n",
       "      <td>9754.42</td>\n",
       "      <td>1.760379e+10</td>\n",
       "      <td>174627460400</td>\n",
       "    </tr>\n",
       "    <tr>\n",
       "      <th>5</th>\n",
       "      <td>2019-08-27</td>\n",
       "      <td>10372.83</td>\n",
       "      <td>10381.33</td>\n",
       "      <td>10087.30</td>\n",
       "      <td>10185.50</td>\n",
       "      <td>1.476261e+10</td>\n",
       "      <td>182325540955</td>\n",
       "    </tr>\n",
       "    <tr>\n",
       "      <th>6</th>\n",
       "      <td>2019-08-26</td>\n",
       "      <td>10126.30</td>\n",
       "      <td>10512.33</td>\n",
       "      <td>10126.30</td>\n",
       "      <td>10370.82</td>\n",
       "      <td>1.843865e+10</td>\n",
       "      <td>185625235889</td>\n",
       "    </tr>\n",
       "    <tr>\n",
       "      <th>7</th>\n",
       "      <td>2019-08-25</td>\n",
       "      <td>10160.74</td>\n",
       "      <td>10304.62</td>\n",
       "      <td>10008.79</td>\n",
       "      <td>10138.52</td>\n",
       "      <td>1.415386e+10</td>\n",
       "      <td>181450186164</td>\n",
       "    </tr>\n",
       "    <tr>\n",
       "      <th>8</th>\n",
       "      <td>2019-08-24</td>\n",
       "      <td>10407.64</td>\n",
       "      <td>10418.02</td>\n",
       "      <td>9982.30</td>\n",
       "      <td>10159.96</td>\n",
       "      <td>1.545103e+10</td>\n",
       "      <td>181813631752</td>\n",
       "    </tr>\n",
       "    <tr>\n",
       "      <th>9</th>\n",
       "      <td>2019-08-23</td>\n",
       "      <td>10136.31</td>\n",
       "      <td>10442.44</td>\n",
       "      <td>10078.19</td>\n",
       "      <td>10407.97</td>\n",
       "      <td>1.562702e+10</td>\n",
       "      <td>186231409722</td>\n",
       "    </tr>\n",
       "  </tbody>\n",
       "</table>\n",
       "</div>"
      ],
      "text/plain": [
       "        Date     Open*      High       Low   Close**        Volume  \\\n",
       "0 2019-09-01   9630.59   9796.76   9582.94   9757.97  1.144536e+10   \n",
       "1 2019-08-31   9597.54   9673.22   9531.80   9630.66  1.145481e+10   \n",
       "2 2019-08-30   9514.84   9656.12   9428.30   9598.17  1.359526e+10   \n",
       "3 2019-08-29   9756.79   9756.79   9421.63   9510.20  1.704588e+10   \n",
       "4 2019-08-28  10203.43  10279.37   9716.66   9754.42  1.760379e+10   \n",
       "5 2019-08-27  10372.83  10381.33  10087.30  10185.50  1.476261e+10   \n",
       "6 2019-08-26  10126.30  10512.33  10126.30  10370.82  1.843865e+10   \n",
       "7 2019-08-25  10160.74  10304.62  10008.79  10138.52  1.415386e+10   \n",
       "8 2019-08-24  10407.64  10418.02   9982.30  10159.96  1.545103e+10   \n",
       "9 2019-08-23  10136.31  10442.44  10078.19  10407.97  1.562702e+10   \n",
       "\n",
       "     Market Cap  \n",
       "0  174768292883  \n",
       "1  172470743516  \n",
       "2  171869216524  \n",
       "3  170274910132  \n",
       "4  174627460400  \n",
       "5  182325540955  \n",
       "6  185625235889  \n",
       "7  181450186164  \n",
       "8  181813631752  \n",
       "9  186231409722  "
      ]
     },
     "execution_count": 2,
     "metadata": {},
     "output_type": "execute_result"
    }
   ],
   "source": [
    "def get_market_data(market, tag=True):\n",
    "    market_data = pd.read_html(\"https://coinmarketcap.com/currencies/\" + market + \n",
    "                             \"/historical-data/?start=20130428&end=\"+time.strftime(\"%Y%m%d\"), flavor='html5lib')[0]\n",
    "    \n",
    "    market_data = market_data.assign(Date=pd.to_datetime(market_data['Date']))  \n",
    "    market_data['Volume'] = (pd.to_numeric(market_data['Volume'], errors='coerce').fillna(0))\n",
    "    return market_data\n",
    "\n",
    "btc_data = get_market_data(\"bitcoin\", tag='BTC')\n",
    "btc_data.head(10)"
   ]
  },
  {
   "cell_type": "code",
   "execution_count": 3,
   "metadata": {
    "scrolled": true
   },
   "outputs": [
    {
     "data": {
      "text/html": [
       "<div>\n",
       "<style scoped>\n",
       "    .dataframe tbody tr th:only-of-type {\n",
       "        vertical-align: middle;\n",
       "    }\n",
       "\n",
       "    .dataframe tbody tr th {\n",
       "        vertical-align: top;\n",
       "    }\n",
       "\n",
       "    .dataframe thead th {\n",
       "        text-align: right;\n",
       "    }\n",
       "</style>\n",
       "<table border=\"1\" class=\"dataframe\">\n",
       "  <thead>\n",
       "    <tr style=\"text-align: right;\">\n",
       "      <th></th>\n",
       "      <th>Date</th>\n",
       "      <th>Close**</th>\n",
       "    </tr>\n",
       "  </thead>\n",
       "  <tbody>\n",
       "    <tr>\n",
       "      <th>2317</th>\n",
       "      <td>2013-04-28</td>\n",
       "      <td>134.21</td>\n",
       "    </tr>\n",
       "    <tr>\n",
       "      <th>2316</th>\n",
       "      <td>2013-04-29</td>\n",
       "      <td>144.54</td>\n",
       "    </tr>\n",
       "    <tr>\n",
       "      <th>2315</th>\n",
       "      <td>2013-04-30</td>\n",
       "      <td>139.00</td>\n",
       "    </tr>\n",
       "    <tr>\n",
       "      <th>2314</th>\n",
       "      <td>2013-05-01</td>\n",
       "      <td>116.99</td>\n",
       "    </tr>\n",
       "    <tr>\n",
       "      <th>2313</th>\n",
       "      <td>2013-05-02</td>\n",
       "      <td>105.21</td>\n",
       "    </tr>\n",
       "  </tbody>\n",
       "</table>\n",
       "</div>"
      ],
      "text/plain": [
       "           Date  Close**\n",
       "2317 2013-04-28   134.21\n",
       "2316 2013-04-29   144.54\n",
       "2315 2013-04-30   139.00\n",
       "2314 2013-05-01   116.99\n",
       "2313 2013-05-02   105.21"
      ]
     },
     "execution_count": 3,
     "metadata": {},
     "output_type": "execute_result"
    }
   ],
   "source": [
    "# only keeps date and close price\n",
    "data = btc_data[['Date']+['Close**']]\n",
    "data = data.sort_values(by='Date')\n",
    "data.head()"
   ]
  },
  {
   "cell_type": "code",
   "execution_count": 4,
   "metadata": {},
   "outputs": [
    {
     "data": {
      "image/png": "[encoded data removed]",
      "text/plain": [
       "<Figure size 432x288 with 1 Axes>"
      ]
     },
     "metadata": {},
     "output_type": "display_data"
    }
   ],
   "source": [
    "plt.plot(range(len(data['Close**'])), data['Close**'])\n",
    "plt.title('Close Price vs Time')\n",
    "plt.show()"
   ]
  },
  {
   "cell_type": "code",
   "execution_count": 5,
   "metadata": {},
   "outputs": [
    {
     "data": {
      "image/png": "[encoded data removed]",
      "text/plain": [
       "<Figure size 432x288 with 1 Axes>"
      ]
     },
     "metadata": {},
     "output_type": "display_data"
    }
   ],
   "source": [
    "plt.plot(range(len(data['Close**'])), data['Close**'])\n",
    "plt.title('Close Price vs Time')\n",
    "plt.show()"
   ]
  },
  {
   "cell_type": "code",
   "execution_count": 6,
   "metadata": {},
   "outputs": [
    {
     "data": {
      "text/plain": [
       "array([[0.00338567],\n",
       "       [0.00391735],\n",
       "       [0.0036322 ],\n",
       "       ...,\n",
       "       [0.49049124],\n",
       "       [0.4921635 ],\n",
       "       [0.4987161 ]], dtype=float32)"
      ]
     },
     "execution_count": 6,
     "metadata": {},
     "output_type": "execute_result"
    }
   ],
   "source": [
    "# Normalize close price\n",
    "from sklearn.preprocessing import MinMaxScaler\n",
    "values = data['Close**'].values.reshape(-1,1)\n",
    "values = values.astype('float32')\n",
    "scaler = MinMaxScaler(feature_range=(0, 1))\n",
    "scaled_price = scaler.fit_transform(values)\n",
    "scaled_price"
   ]
  },
  {
   "cell_type": "code",
   "execution_count": 7,
   "metadata": {},
   "outputs": [
    {
     "name": "stdout",
     "output_type": "stream",
     "text": [
      "1622 696\n"
     ]
    }
   ],
   "source": [
    "# split data for training, testing\n",
    "train_size = int(len(scaled_price) * 0.7)\n",
    "test_size = len(scaled_price) - train_size\n",
    "\n",
    "train, test = scaled_price[0:train_size,:], scaled_price[train_size:len(scaled_price),:]\n",
    "print(len(train), len(test))"
   ]
  },
  {
   "cell_type": "code",
   "execution_count": 8,
   "metadata": {},
   "outputs": [
    {
     "name": "stdout",
     "output_type": "stream",
     "text": [
      "x_train shape (1617, 5)\n",
      "x_test shape (691, 5)\n",
      "y_train shape (1617,)\n",
      "y_test shape (691,)\n"
     ]
    }
   ],
   "source": [
    "def create_input(data,lookback):\n",
    "    inputs = []\n",
    "    for i in range(len(data) - lookback):\n",
    "        temp_set = data[i:(i + lookback),0].copy()\n",
    "        inputs.append(temp_set)\n",
    "    return np.array(inputs)\n",
    "\n",
    "def create_output(data,lookback):\n",
    "    output = []\n",
    "    for i in range(len(data)-lookback):\n",
    "        output.append(data[i + lookback, 0])\n",
    "    return np.array(output)\n",
    "\n",
    "# use lookback = 5\n",
    "x_train = create_input(train,5)\n",
    "x_test = create_input(test,5)\n",
    "\n",
    "y_train = create_output(train,5)\n",
    "y_test = create_output(test,5)\n",
    "\n",
    "print('x_train shape', x_train.shape)\n",
    "print('x_test shape', x_test.shape)\n",
    "\n",
    "print('y_train shape', y_train.shape)\n",
    "print('y_test shape', y_test.shape)\n"
   ]
  },
  {
   "cell_type": "code",
   "execution_count": 9,
   "metadata": {},
   "outputs": [
    {
     "data": {
      "text/plain": [
       "array([[0.00338567, 0.00391735, 0.0036322 , 0.00249936, 0.00189305],\n",
       "       [0.00391735, 0.0036322 , 0.00249936, 0.00189305, 0.00150909],\n",
       "       [0.0036322 , 0.00249936, 0.00189305, 0.00150909, 0.00226826],\n",
       "       ...,\n",
       "       [0.21134934, 0.2107492 , 0.21978931, 0.2231364 , 0.22342357],\n",
       "       [0.2107492 , 0.21978931, 0.2231364 , 0.22342357, 0.21869662],\n",
       "       [0.21978931, 0.2231364 , 0.22342357, 0.21869662, 0.21416111]],\n",
       "      dtype=float32)"
      ]
     },
     "execution_count": 9,
     "metadata": {},
     "output_type": "execute_result"
    }
   ],
   "source": [
    "x_train"
   ]
  },
  {
   "cell_type": "code",
   "execution_count": 10,
   "metadata": {},
   "outputs": [
    {
     "data": {
      "text/plain": [
       "array([0.00150909, 0.00226826, 0.00244377, ..., 0.21869662, 0.21416111,\n",
       "       0.21925919], dtype=float32)"
      ]
     },
     "execution_count": 10,
     "metadata": {},
     "output_type": "execute_result"
    }
   ],
   "source": [
    "y_train"
   ]
  },
  {
   "cell_type": "code",
   "execution_count": 11,
   "metadata": {},
   "outputs": [
    {
     "name": "stdout",
     "output_type": "stream",
     "text": [
      "x_input: [[0.00338567 0.00391735 0.0036322  0.00249936 0.00189305]\n",
      " [0.00391735 0.0036322  0.00249936 0.00189305 0.00150909]\n",
      " [0.0036322  0.00249936 0.00189305 0.00150909 0.00226826]\n",
      " [0.00249936 0.00189305 0.00150909 0.00226826 0.00244377]]\n",
      "y: [0.00150909 0.00226826 0.00244377]\n"
     ]
    }
   ],
   "source": [
    "print(\"x_input:\",x_train[0:4])\n",
    "print(\"y:\",y_train[0:3])"
   ]
  },
  {
   "cell_type": "code",
   "execution_count": 12,
   "metadata": {},
   "outputs": [
    {
     "name": "stdout",
     "output_type": "stream",
     "text": [
      "x_train shape (1617, 1, 5)\n",
      "x_test shape (691, 1, 5)\n"
     ]
    }
   ],
   "source": [
    "x_train = np.reshape(x_train,(x_train.shape[0],1,x_train.shape[1]))\n",
    "x_test = np.reshape(x_test,(x_test.shape[0],1,x_test.shape[1]))\n",
    "print('x_train shape', x_train.shape)\n",
    "print('x_test shape', x_test.shape)"
   ]
  },
  {
   "cell_type": "markdown",
   "metadata": {},
   "source": [
    "# Build Model"
   ]
  },
  {
   "cell_type": "code",
   "execution_count": 13,
   "metadata": {},
   "outputs": [
    {
     "name": "stdout",
     "output_type": "stream",
     "text": [
      "Model: \"sequential_1\"\n",
      "_________________________________________________________________\n",
      "Layer (type)                 Output Shape              Param #   \n",
      "=================================================================\n",
      "lstm_1 (LSTM)                (None, 100)               42400     \n",
      "_________________________________________________________________\n",
      "dense_1 (Dense)              (None, 1)                 101       \n",
      "=================================================================\n",
      "Total params: 42,501\n",
      "Trainable params: 42,501\n",
      "Non-trainable params: 0\n",
      "_________________________________________________________________\n"
     ]
    }
   ],
   "source": [
    "from keras.models import Sequential\n",
    "from keras.layers import Dense,LSTM,Dropout, Flatten,Conv2D, MaxPooling2D, Activation\n",
    "from keras.layers.normalization import BatchNormalization\n",
    "from keras import optimizers\n",
    "import keras\n",
    "\n",
    "model_1 = Sequential()\n",
    "model_1.add(LSTM(100, input_shape=(1,x_train.shape[2])))\n",
    "model_1.add(Dense(1))\n",
    "model_1.compile(loss='mae', optimizer='adam')\n",
    "model_1.summary()"
   ]
  },
  {
   "cell_type": "code",
   "execution_count": 14,
   "metadata": {},
   "outputs": [
    {
     "name": "stdout",
     "output_type": "stream",
     "text": [
      "Train on 1617 samples, validate on 691 samples\n",
      "Epoch 1/100\n",
      "1617/1617 [==============================] - 1s 612us/step - loss: 0.0228 - val_loss: 0.3423\n",
      "Epoch 2/100\n",
      "1617/1617 [==============================] - 0s 34us/step - loss: 0.0222 - val_loss: 0.3064\n",
      "Epoch 3/100\n",
      "1617/1617 [==============================] - 0s 34us/step - loss: 0.0193 - val_loss: 0.2720\n",
      "Epoch 4/100\n",
      "1617/1617 [==============================] - 0s 31us/step - loss: 0.0161 - val_loss: 0.2286\n",
      "Epoch 5/100\n",
      "1617/1617 [==============================] - 0s 29us/step - loss: 0.0140 - val_loss: 0.1860\n",
      "Epoch 6/100\n",
      "1617/1617 [==============================] - 0s 31us/step - loss: 0.0110 - val_loss: 0.1369\n",
      "Epoch 7/100\n",
      "1617/1617 [==============================] - 0s 31us/step - loss: 0.0084 - val_loss: 0.0843\n",
      "Epoch 8/100\n",
      "1617/1617 [==============================] - 0s 31us/step - loss: 0.0053 - val_loss: 0.0328\n",
      "Epoch 9/100\n",
      "1617/1617 [==============================] - 0s 30us/step - loss: 0.0036 - val_loss: 0.0322\n",
      "Epoch 10/100\n",
      "1617/1617 [==============================] - 0s 31us/step - loss: 0.0026 - val_loss: 0.0437\n",
      "Epoch 11/100\n",
      "1617/1617 [==============================] - 0s 31us/step - loss: 0.0019 - val_loss: 0.0258\n",
      "Epoch 12/100\n",
      "1617/1617 [==============================] - 0s 31us/step - loss: 0.0017 - val_loss: 0.0261\n",
      "Epoch 13/100\n",
      "1617/1617 [==============================] - 0s 32us/step - loss: 0.0022 - val_loss: 0.0263\n",
      "Epoch 14/100\n",
      "1617/1617 [==============================] - 0s 32us/step - loss: 0.0021 - val_loss: 0.0251\n",
      "Epoch 15/100\n",
      "1617/1617 [==============================] - 0s 31us/step - loss: 0.0018 - val_loss: 0.0287\n",
      "Epoch 16/100\n",
      "1617/1617 [==============================] - 0s 31us/step - loss: 0.0019 - val_loss: 0.0297\n",
      "Epoch 17/100\n",
      "1617/1617 [==============================] - 0s 31us/step - loss: 0.0020 - val_loss: 0.0295\n",
      "Epoch 18/100\n",
      "1617/1617 [==============================] - 0s 31us/step - loss: 0.0021 - val_loss: 0.0244\n",
      "Epoch 19/100\n",
      "1617/1617 [==============================] - 0s 31us/step - loss: 0.0018 - val_loss: 0.0273\n",
      "Epoch 20/100\n",
      "1617/1617 [==============================] - 0s 32us/step - loss: 0.0020 - val_loss: 0.0279\n",
      "Epoch 21/100\n",
      "1617/1617 [==============================] - 0s 35us/step - loss: 0.0019 - val_loss: 0.0262\n",
      "Epoch 22/100\n",
      "1617/1617 [==============================] - 0s 31us/step - loss: 0.0020 - val_loss: 0.0252\n",
      "Epoch 23/100\n",
      "1617/1617 [==============================] - 0s 31us/step - loss: 0.0017 - val_loss: 0.0248\n",
      "Epoch 24/100\n",
      "1617/1617 [==============================] - 0s 31us/step - loss: 0.0017 - val_loss: 0.0297\n",
      "Epoch 25/100\n",
      "1617/1617 [==============================] - 0s 30us/step - loss: 0.0019 - val_loss: 0.0255\n",
      "Epoch 26/100\n",
      "1617/1617 [==============================] - 0s 30us/step - loss: 0.0017 - val_loss: 0.0267\n",
      "Epoch 27/100\n",
      "1617/1617 [==============================] - 0s 30us/step - loss: 0.0018 - val_loss: 0.0282\n",
      "Epoch 28/100\n",
      "1617/1617 [==============================] - 0s 29us/step - loss: 0.0019 - val_loss: 0.0255\n",
      "Epoch 29/100\n",
      "1617/1617 [==============================] - 0s 30us/step - loss: 0.0017 - val_loss: 0.0285\n",
      "Epoch 30/100\n",
      "1617/1617 [==============================] - 0s 30us/step - loss: 0.0018 - val_loss: 0.0267\n",
      "Epoch 31/100\n",
      "1617/1617 [==============================] - 0s 29us/step - loss: 0.0019 - val_loss: 0.0251\n",
      "Epoch 32/100\n",
      "1617/1617 [==============================] - 0s 32us/step - loss: 0.0018 - val_loss: 0.0281\n",
      "Epoch 33/100\n",
      "1617/1617 [==============================] - 0s 31us/step - loss: 0.0019 - val_loss: 0.0243\n",
      "Epoch 34/100\n",
      "1617/1617 [==============================] - 0s 32us/step - loss: 0.0018 - val_loss: 0.0224\n",
      "Epoch 35/100\n",
      "1617/1617 [==============================] - 0s 30us/step - loss: 0.0018 - val_loss: 0.0281\n",
      "Epoch 36/100\n",
      "1617/1617 [==============================] - 0s 29us/step - loss: 0.0019 - val_loss: 0.0229\n",
      "Epoch 37/100\n",
      "1617/1617 [==============================] - 0s 30us/step - loss: 0.0018 - val_loss: 0.0259\n",
      "Epoch 38/100\n",
      "1617/1617 [==============================] - 0s 31us/step - loss: 0.0020 - val_loss: 0.0250\n",
      "Epoch 39/100\n",
      "1617/1617 [==============================] - 0s 30us/step - loss: 0.0018 - val_loss: 0.0234\n",
      "Epoch 40/100\n",
      "1617/1617 [==============================] - 0s 34us/step - loss: 0.0018 - val_loss: 0.0273\n",
      "Epoch 41/100\n",
      "1617/1617 [==============================] - 0s 29us/step - loss: 0.0019 - val_loss: 0.0239\n",
      "Epoch 42/100\n",
      "1617/1617 [==============================] - 0s 30us/step - loss: 0.0019 - val_loss: 0.0239\n",
      "Epoch 43/100\n",
      "1617/1617 [==============================] - 0s 31us/step - loss: 0.0019 - val_loss: 0.0232\n",
      "Epoch 44/100\n",
      "1617/1617 [==============================] - 0s 30us/step - loss: 0.0017 - val_loss: 0.0258\n",
      "Epoch 45/100\n",
      "1617/1617 [==============================] - 0s 31us/step - loss: 0.0019 - val_loss: 0.0243\n",
      "Epoch 46/100\n",
      "1617/1617 [==============================] - 0s 31us/step - loss: 0.0023 - val_loss: 0.0269\n",
      "Epoch 47/100\n",
      "1617/1617 [==============================] - 0s 34us/step - loss: 0.0017 - val_loss: 0.0218\n",
      "Epoch 48/100\n",
      "1617/1617 [==============================] - 0s 30us/step - loss: 0.0018 - val_loss: 0.0220\n",
      "Epoch 49/100\n",
      "1617/1617 [==============================] - 0s 31us/step - loss: 0.0018 - val_loss: 0.0210\n",
      "Epoch 50/100\n",
      "1617/1617 [==============================] - 0s 30us/step - loss: 0.0016 - val_loss: 0.0249\n",
      "Epoch 51/100\n",
      "1617/1617 [==============================] - 0s 30us/step - loss: 0.0019 - val_loss: 0.0226\n",
      "Epoch 52/100\n",
      "1617/1617 [==============================] - 0s 31us/step - loss: 0.0016 - val_loss: 0.0248\n",
      "Epoch 53/100\n",
      "1617/1617 [==============================] - 0s 30us/step - loss: 0.0018 - val_loss: 0.0234\n",
      "Epoch 54/100\n",
      "1617/1617 [==============================] - 0s 32us/step - loss: 0.0018 - val_loss: 0.0224\n",
      "Epoch 55/100\n",
      "1617/1617 [==============================] - 0s 29us/step - loss: 0.0016 - val_loss: 0.0241\n",
      "Epoch 56/100\n",
      "1617/1617 [==============================] - 0s 27us/step - loss: 0.0018 - val_loss: 0.0199\n",
      "Epoch 57/100\n",
      "1617/1617 [==============================] - 0s 26us/step - loss: 0.0016 - val_loss: 0.0262\n",
      "Epoch 58/100\n",
      "1617/1617 [==============================] - 0s 27us/step - loss: 0.0018 - val_loss: 0.0200\n",
      "Epoch 59/100\n",
      "1617/1617 [==============================] - 0s 25us/step - loss: 0.0019 - val_loss: 0.0214\n",
      "Epoch 60/100\n",
      "1617/1617 [==============================] - 0s 28us/step - loss: 0.0018 - val_loss: 0.0218\n",
      "Epoch 61/100\n",
      "1617/1617 [==============================] - 0s 28us/step - loss: 0.0015 - val_loss: 0.0231\n",
      "Epoch 62/100\n",
      "1617/1617 [==============================] - 0s 27us/step - loss: 0.0018 - val_loss: 0.0225\n",
      "Epoch 63/100\n",
      "1617/1617 [==============================] - 0s 29us/step - loss: 0.0021 - val_loss: 0.0240\n",
      "Epoch 64/100\n",
      "1617/1617 [==============================] - 0s 28us/step - loss: 0.0016 - val_loss: 0.0192\n",
      "Epoch 65/100\n",
      "1617/1617 [==============================] - 0s 29us/step - loss: 0.0024 - val_loss: 0.0198\n",
      "Epoch 66/100\n",
      "1617/1617 [==============================] - 0s 29us/step - loss: 0.0018 - val_loss: 0.0208\n",
      "Epoch 67/100\n",
      "1617/1617 [==============================] - 0s 30us/step - loss: 0.0022 - val_loss: 0.0206\n",
      "Epoch 68/100\n",
      "1617/1617 [==============================] - 0s 28us/step - loss: 0.0021 - val_loss: 0.0190\n",
      "Epoch 69/100\n",
      "1617/1617 [==============================] - 0s 28us/step - loss: 0.0040 - val_loss: 0.0262\n",
      "Epoch 70/100\n",
      "1617/1617 [==============================] - 0s 28us/step - loss: 0.0021 - val_loss: 0.0192\n",
      "Epoch 71/100\n",
      "1617/1617 [==============================] - 0s 28us/step - loss: 0.0017 - val_loss: 0.0184\n",
      "Epoch 72/100\n",
      "1617/1617 [==============================] - 0s 29us/step - loss: 0.0019 - val_loss: 0.0207\n",
      "Epoch 73/100\n",
      "1617/1617 [==============================] - 0s 28us/step - loss: 0.0020 - val_loss: 0.0216\n",
      "Epoch 74/100\n",
      "1617/1617 [==============================] - 0s 29us/step - loss: 0.0019 - val_loss: 0.0183\n",
      "Epoch 75/100\n",
      "1617/1617 [==============================] - 0s 32us/step - loss: 0.0016 - val_loss: 0.0229\n",
      "Epoch 76/100\n",
      "1617/1617 [==============================] - 0s 30us/step - loss: 0.0018 - val_loss: 0.0181\n",
      "Epoch 77/100\n",
      "1617/1617 [==============================] - 0s 29us/step - loss: 0.0019 - val_loss: 0.0187\n",
      "Epoch 78/100\n"
     ]
    },
    {
     "name": "stdout",
     "output_type": "stream",
     "text": [
      "1617/1617 [==============================] - 0s 31us/step - loss: 0.0017 - val_loss: 0.0183\n",
      "Epoch 79/100\n",
      "1617/1617 [==============================] - 0s 29us/step - loss: 0.0018 - val_loss: 0.0203\n",
      "Epoch 80/100\n",
      "1617/1617 [==============================] - 0s 29us/step - loss: 0.0021 - val_loss: 0.0231\n",
      "Epoch 81/100\n",
      "1617/1617 [==============================] - 0s 27us/step - loss: 0.0018 - val_loss: 0.0183\n",
      "Epoch 82/100\n",
      "1617/1617 [==============================] - 0s 29us/step - loss: 0.0022 - val_loss: 0.0190\n",
      "Epoch 83/100\n",
      "1617/1617 [==============================] - 0s 27us/step - loss: 0.0016 - val_loss: 0.0188\n",
      "Epoch 84/100\n",
      "1617/1617 [==============================] - 0s 27us/step - loss: 0.0024 - val_loss: 0.0192\n",
      "Epoch 85/100\n",
      "1617/1617 [==============================] - 0s 28us/step - loss: 0.0017 - val_loss: 0.0184\n",
      "Epoch 86/100\n",
      "1617/1617 [==============================] - 0s 28us/step - loss: 0.0024 - val_loss: 0.0198\n",
      "Epoch 87/100\n",
      "1617/1617 [==============================] - 0s 28us/step - loss: 0.0017 - val_loss: 0.0176\n",
      "Epoch 88/100\n",
      "1617/1617 [==============================] - 0s 28us/step - loss: 0.0038 - val_loss: 0.0226\n",
      "Epoch 89/100\n",
      "1617/1617 [==============================] - 0s 29us/step - loss: 0.0020 - val_loss: 0.0180\n",
      "Epoch 90/100\n",
      "1617/1617 [==============================] - 0s 30us/step - loss: 0.0016 - val_loss: 0.0177\n",
      "Epoch 91/100\n",
      "1617/1617 [==============================] - 0s 30us/step - loss: 0.0018 - val_loss: 0.0187\n",
      "Epoch 92/100\n",
      "1617/1617 [==============================] - 0s 30us/step - loss: 0.0019 - val_loss: 0.0192\n",
      "Epoch 93/100\n",
      "1617/1617 [==============================] - 0s 31us/step - loss: 0.0021 - val_loss: 0.0176\n",
      "Epoch 94/100\n",
      "1617/1617 [==============================] - 0s 30us/step - loss: 0.0017 - val_loss: 0.0179\n",
      "Epoch 95/100\n",
      "1617/1617 [==============================] - 0s 30us/step - loss: 0.0018 - val_loss: 0.0188\n",
      "Epoch 96/100\n",
      "1617/1617 [==============================] - 0s 31us/step - loss: 0.0027 - val_loss: 0.0174\n",
      "Epoch 97/100\n",
      "1617/1617 [==============================] - 0s 30us/step - loss: 0.0018 - val_loss: 0.0194\n",
      "Epoch 98/100\n",
      "1617/1617 [==============================] - 0s 29us/step - loss: 0.0019 - val_loss: 0.0173\n",
      "Epoch 99/100\n",
      "1617/1617 [==============================] - 0s 29us/step - loss: 0.0035 - val_loss: 0.0225\n",
      "Epoch 100/100\n",
      "1617/1617 [==============================] - 0s 30us/step - loss: 0.0019 - val_loss: 0.0172\n"
     ]
    }
   ],
   "source": [
    "history = model_1.fit(x_train, y_train, epochs=100, batch_size=128, \n",
    "                    validation_data=(x_test, y_test), verbose=1, shuffle=False)"
   ]
  },
  {
   "cell_type": "code",
   "execution_count": 17,
   "metadata": {},
   "outputs": [
    {
     "data": {
      "image/png": "[encoded data removed]",
      "text/plain": [
       "<Figure size 432x288 with 1 Axes>"
      ]
     },
     "metadata": {},
     "output_type": "display_data"
    }
   ],
   "source": [
    "loss = history.history['loss']\n",
    "val_loss = history.history['val_loss']\n",
    "\n",
    "epochs = range(len(loss))\n",
    "\n",
    "plt.figure()\n",
    "\n",
    "plt.plot(epochs, loss, 'bo', label='Training loss')\n",
    "plt.plot(epochs, val_loss, 'b', label='Validation loss')\n",
    "plt.title('Training and validation loss')\n",
    "plt.legend()\n",
    "\n",
    "plt.show()"
   ]
  },
  {
   "cell_type": "code",
   "execution_count": 18,
   "metadata": {},
   "outputs": [
    {
     "data": {
      "image/png": "[encoded data removed]",
      "text/plain": [
       "<Figure size 432x288 with 1 Axes>"
      ]
     },
     "metadata": {},
     "output_type": "display_data"
    }
   ],
   "source": [
    "yhat = model_1.predict(x_test)\n",
    "plt.plot(yhat, label='predict')\n",
    "plt.plot(y_test, label='true')\n",
    "plt.legend()\n",
    "plt.show()"
   ]
  },
  {
   "cell_type": "code",
   "execution_count": 19,
   "metadata": {},
   "outputs": [
    {
     "name": "stdout",
     "output_type": "stream",
     "text": [
      "Test RMSE: 522.289\n"
     ]
    }
   ],
   "source": [
    "yhat_inverse = scaler.inverse_transform(yhat.reshape(-1, 1))\n",
    "testY_inverse = scaler.inverse_transform(y_test.reshape(-1, 1))\n",
    "rmse = sqrt(mean_squared_error(testY_inverse, yhat_inverse))\n",
    "print('Test RMSE: %.3f' % rmse)"
   ]
  },
  {
   "cell_type": "markdown",
   "metadata": {},
   "source": [
    "### Add a dropout layer"
   ]
  },
  {
   "cell_type": "code",
   "execution_count": 20,
   "metadata": {},
   "outputs": [],
   "source": [
    "from keras import backend as K\n",
    "K.clear_session()"
   ]
  },
  {
   "cell_type": "code",
   "execution_count": 21,
   "metadata": {},
   "outputs": [
    {
     "name": "stdout",
     "output_type": "stream",
     "text": [
      "Model: \"sequential_1\"\n",
      "_________________________________________________________________\n",
      "Layer (type)                 Output Shape              Param #   \n",
      "=================================================================\n",
      "lstm_1 (LSTM)                (None, 100)               42400     \n",
      "_________________________________________________________________\n",
      "dropout_1 (Dropout)          (None, 100)               0         \n",
      "_________________________________________________________________\n",
      "dense_1 (Dense)              (None, 1)                 101       \n",
      "=================================================================\n",
      "Total params: 42,501\n",
      "Trainable params: 42,501\n",
      "Non-trainable params: 0\n",
      "_________________________________________________________________\n"
     ]
    }
   ],
   "source": [
    "model_2 = Sequential()\n",
    "model_2.add(LSTM(100, input_shape=(1, x_train.shape[2])))\n",
    "model_2.add(Dropout(0.2))\n",
    "model_2.add(Dense(1))\n",
    "model_2.compile(loss='mae', optimizer='adam')\n",
    "model_2.summary()"
   ]
  },
  {
   "cell_type": "code",
   "execution_count": 22,
   "metadata": {},
   "outputs": [
    {
     "name": "stdout",
     "output_type": "stream",
     "text": [
      "Train on 1617 samples, validate on 691 samples\n",
      "Epoch 1/100\n",
      "1617/1617 [==============================] - 1s 558us/step - loss: 0.0195 - val_loss: 0.2814\n",
      "Epoch 2/100\n",
      "1617/1617 [==============================] - 0s 31us/step - loss: 0.0180 - val_loss: 0.2411\n",
      "Epoch 3/100\n",
      "1617/1617 [==============================] - 0s 31us/step - loss: 0.0145 - val_loss: 0.1945\n",
      "Epoch 4/100\n",
      "1617/1617 [==============================] - 0s 30us/step - loss: 0.0116 - val_loss: 0.1450\n",
      "Epoch 5/100\n",
      "1617/1617 [==============================] - 0s 30us/step - loss: 0.0088 - val_loss: 0.0919\n",
      "Epoch 6/100\n",
      "1617/1617 [==============================] - 0s 29us/step - loss: 0.0056 - val_loss: 0.0395\n",
      "Epoch 7/100\n",
      "1617/1617 [==============================] - 0s 30us/step - loss: 0.0037 - val_loss: 0.0264\n",
      "Epoch 8/100\n",
      "1617/1617 [==============================] - 0s 30us/step - loss: 0.0030 - val_loss: 0.0371\n",
      "Epoch 9/100\n",
      "1617/1617 [==============================] - 0s 30us/step - loss: 0.0026 - val_loss: 0.0272\n",
      "Epoch 10/100\n",
      "1617/1617 [==============================] - 0s 31us/step - loss: 0.0024 - val_loss: 0.0243\n",
      "Epoch 11/100\n",
      "1617/1617 [==============================] - 0s 29us/step - loss: 0.0027 - val_loss: 0.0239\n",
      "Epoch 12/100\n",
      "1617/1617 [==============================] - 0s 32us/step - loss: 0.0026 - val_loss: 0.0256\n",
      "Epoch 13/100\n",
      "1617/1617 [==============================] - 0s 30us/step - loss: 0.0025 - val_loss: 0.0236\n",
      "Epoch 14/100\n",
      "1617/1617 [==============================] - 0s 31us/step - loss: 0.0030 - val_loss: 0.0241\n",
      "Epoch 15/100\n",
      "1617/1617 [==============================] - 0s 31us/step - loss: 0.0029 - val_loss: 0.0228\n",
      "Epoch 16/100\n",
      "1617/1617 [==============================] - 0s 32us/step - loss: 0.0029 - val_loss: 0.0225\n",
      "Epoch 17/100\n",
      "1617/1617 [==============================] - 0s 30us/step - loss: 0.0028 - val_loss: 0.0223\n",
      "Epoch 18/100\n",
      "1617/1617 [==============================] - 0s 29us/step - loss: 0.0030 - val_loss: 0.0228\n",
      "Epoch 19/100\n",
      "1617/1617 [==============================] - 0s 35us/step - loss: 0.0035 - val_loss: 0.0243\n",
      "Epoch 20/100\n",
      "1617/1617 [==============================] - 0s 30us/step - loss: 0.0049 - val_loss: 0.0263\n",
      "Epoch 21/100\n",
      "1617/1617 [==============================] - 0s 30us/step - loss: 0.0032 - val_loss: 0.0334\n",
      "Epoch 22/100\n",
      "1617/1617 [==============================] - 0s 31us/step - loss: 0.0025 - val_loss: 0.0223\n",
      "Epoch 23/100\n",
      "1617/1617 [==============================] - 0s 29us/step - loss: 0.0024 - val_loss: 0.0242\n",
      "Epoch 24/100\n",
      "1617/1617 [==============================] - 0s 29us/step - loss: 0.0025 - val_loss: 0.0243\n",
      "Epoch 25/100\n",
      "1617/1617 [==============================] - 0s 29us/step - loss: 0.0024 - val_loss: 0.0230\n",
      "Epoch 26/100\n",
      "1617/1617 [==============================] - 0s 29us/step - loss: 0.0027 - val_loss: 0.0239\n",
      "Epoch 27/100\n",
      "1617/1617 [==============================] - 0s 32us/step - loss: 0.0025 - val_loss: 0.0238\n",
      "Epoch 28/100\n",
      "1617/1617 [==============================] - 0s 28us/step - loss: 0.0024 - val_loss: 0.0261\n",
      "Epoch 29/100\n",
      "1617/1617 [==============================] - 0s 28us/step - loss: 0.0024 - val_loss: 0.0236\n",
      "Epoch 30/100\n",
      "1617/1617 [==============================] - 0s 30us/step - loss: 0.0027 - val_loss: 0.0226\n",
      "Epoch 31/100\n",
      "1617/1617 [==============================] - 0s 28us/step - loss: 0.0025 - val_loss: 0.0237\n",
      "Epoch 32/100\n",
      "1617/1617 [==============================] - 0s 29us/step - loss: 0.0022 - val_loss: 0.0235\n",
      "Epoch 33/100\n",
      "1617/1617 [==============================] - 0s 28us/step - loss: 0.0031 - val_loss: 0.0263\n",
      "Epoch 34/100\n",
      "1617/1617 [==============================] - 0s 30us/step - loss: 0.0027 - val_loss: 0.0218\n",
      "Epoch 35/100\n",
      "1617/1617 [==============================] - 0s 29us/step - loss: 0.0026 - val_loss: 0.0256\n",
      "Epoch 36/100\n",
      "1617/1617 [==============================] - 0s 30us/step - loss: 0.0023 - val_loss: 0.0238\n",
      "Epoch 37/100\n",
      "1617/1617 [==============================] - 0s 32us/step - loss: 0.0022 - val_loss: 0.0242\n",
      "Epoch 38/100\n",
      "1617/1617 [==============================] - 0s 31us/step - loss: 0.0025 - val_loss: 0.0227\n",
      "Epoch 39/100\n",
      "1617/1617 [==============================] - 0s 33us/step - loss: 0.0022 - val_loss: 0.0235\n",
      "Epoch 40/100\n",
      "1617/1617 [==============================] - 0s 31us/step - loss: 0.0022 - val_loss: 0.0246\n",
      "Epoch 41/100\n",
      "1617/1617 [==============================] - 0s 31us/step - loss: 0.0023 - val_loss: 0.0249\n",
      "Epoch 42/100\n",
      "1617/1617 [==============================] - 0s 31us/step - loss: 0.0022 - val_loss: 0.0214\n",
      "Epoch 43/100\n",
      "1617/1617 [==============================] - 0s 29us/step - loss: 0.0026 - val_loss: 0.0218\n",
      "Epoch 44/100\n",
      "1617/1617 [==============================] - 0s 31us/step - loss: 0.0025 - val_loss: 0.0224\n",
      "Epoch 45/100\n",
      "1617/1617 [==============================] - 0s 32us/step - loss: 0.0021 - val_loss: 0.0242\n",
      "Epoch 46/100\n",
      "1617/1617 [==============================] - 0s 31us/step - loss: 0.0023 - val_loss: 0.0248\n",
      "Epoch 47/100\n",
      "1617/1617 [==============================] - 0s 31us/step - loss: 0.0023 - val_loss: 0.0217\n",
      "Epoch 48/100\n",
      "1617/1617 [==============================] - 0s 31us/step - loss: 0.0025 - val_loss: 0.0213\n",
      "Epoch 49/100\n",
      "1617/1617 [==============================] - 0s 31us/step - loss: 0.0024 - val_loss: 0.0245\n",
      "Epoch 50/100\n",
      "1617/1617 [==============================] - 0s 31us/step - loss: 0.0026 - val_loss: 0.0245\n",
      "Epoch 51/100\n",
      "1617/1617 [==============================] - 0s 33us/step - loss: 0.0031 - val_loss: 0.0237\n",
      "Epoch 52/100\n",
      "1617/1617 [==============================] - 0s 31us/step - loss: 0.0026 - val_loss: 0.0210\n",
      "Epoch 53/100\n",
      "1617/1617 [==============================] - 0s 31us/step - loss: 0.0027 - val_loss: 0.0213\n",
      "Epoch 54/100\n",
      "1617/1617 [==============================] - 0s 30us/step - loss: 0.0023 - val_loss: 0.0212\n",
      "Epoch 55/100\n",
      "1617/1617 [==============================] - 0s 32us/step - loss: 0.0022 - val_loss: 0.0246\n",
      "Epoch 56/100\n",
      "1617/1617 [==============================] - 0s 27us/step - loss: 0.0022 - val_loss: 0.0221\n",
      "Epoch 57/100\n",
      "1617/1617 [==============================] - 0s 30us/step - loss: 0.0024 - val_loss: 0.0217\n",
      "Epoch 58/100\n",
      "1617/1617 [==============================] - 0s 29us/step - loss: 0.0020 - val_loss: 0.0265\n",
      "Epoch 59/100\n",
      "1617/1617 [==============================] - 0s 27us/step - loss: 0.0022 - val_loss: 0.0229\n",
      "Epoch 60/100\n",
      "1617/1617 [==============================] - 0s 28us/step - loss: 0.0021 - val_loss: 0.0239\n",
      "Epoch 61/100\n",
      "1617/1617 [==============================] - 0s 30us/step - loss: 0.0024 - val_loss: 0.0237\n",
      "Epoch 62/100\n",
      "1617/1617 [==============================] - 0s 26us/step - loss: 0.0028 - val_loss: 0.0221\n",
      "Epoch 63/100\n",
      "1617/1617 [==============================] - 0s 27us/step - loss: 0.0026 - val_loss: 0.0238\n",
      "Epoch 64/100\n",
      "1617/1617 [==============================] - 0s 28us/step - loss: 0.0021 - val_loss: 0.0206\n",
      "Epoch 65/100\n",
      "1617/1617 [==============================] - 0s 27us/step - loss: 0.0028 - val_loss: 0.0218\n",
      "Epoch 66/100\n",
      "1617/1617 [==============================] - 0s 27us/step - loss: 0.0026 - val_loss: 0.0202\n",
      "Epoch 67/100\n",
      "1617/1617 [==============================] - 0s 27us/step - loss: 0.0023 - val_loss: 0.0214\n",
      "Epoch 68/100\n",
      "1617/1617 [==============================] - 0s 27us/step - loss: 0.0020 - val_loss: 0.0230\n",
      "Epoch 69/100\n",
      "1617/1617 [==============================] - 0s 26us/step - loss: 0.0027 - val_loss: 0.0235\n",
      "Epoch 70/100\n",
      "1617/1617 [==============================] - 0s 27us/step - loss: 0.0022 - val_loss: 0.0209\n",
      "Epoch 71/100\n",
      "1617/1617 [==============================] - 0s 27us/step - loss: 0.0029 - val_loss: 0.0231\n",
      "Epoch 72/100\n",
      "1617/1617 [==============================] - 0s 27us/step - loss: 0.0025 - val_loss: 0.0207\n",
      "Epoch 73/100\n",
      "1617/1617 [==============================] - 0s 28us/step - loss: 0.0033 - val_loss: 0.0262\n",
      "Epoch 74/100\n",
      "1617/1617 [==============================] - 0s 28us/step - loss: 0.0031 - val_loss: 0.0198\n",
      "Epoch 75/100\n",
      "1617/1617 [==============================] - 0s 27us/step - loss: 0.0053 - val_loss: 0.0204\n",
      "Epoch 76/100\n",
      "1617/1617 [==============================] - 0s 31us/step - loss: 0.0031 - val_loss: 0.0336\n",
      "Epoch 77/100\n",
      "1617/1617 [==============================] - 0s 32us/step - loss: 0.0022 - val_loss: 0.0203\n",
      "Epoch 78/100\n"
     ]
    },
    {
     "name": "stdout",
     "output_type": "stream",
     "text": [
      "1617/1617 [==============================] - 0s 30us/step - loss: 0.0047 - val_loss: 0.0247\n",
      "Epoch 79/100\n",
      "1617/1617 [==============================] - 0s 31us/step - loss: 0.0030 - val_loss: 0.0309\n",
      "Epoch 80/100\n",
      "1617/1617 [==============================] - 0s 31us/step - loss: 0.0028 - val_loss: 0.0196\n",
      "Epoch 81/100\n",
      "1617/1617 [==============================] - 0s 30us/step - loss: 0.0028 - val_loss: 0.0254\n",
      "Epoch 82/100\n",
      "1617/1617 [==============================] - 0s 28us/step - loss: 0.0024 - val_loss: 0.0193\n",
      "Epoch 83/100\n",
      "1617/1617 [==============================] - 0s 29us/step - loss: 0.0023 - val_loss: 0.0204\n",
      "Epoch 84/100\n",
      "1617/1617 [==============================] - 0s 31us/step - loss: 0.0020 - val_loss: 0.0209\n",
      "Epoch 85/100\n",
      "1617/1617 [==============================] - 0s 28us/step - loss: 0.0020 - val_loss: 0.0210\n",
      "Epoch 86/100\n",
      "1617/1617 [==============================] - 0s 26us/step - loss: 0.0020 - val_loss: 0.0214\n",
      "Epoch 87/100\n",
      "1617/1617 [==============================] - 0s 27us/step - loss: 0.0020 - val_loss: 0.0205\n",
      "Epoch 88/100\n",
      "1617/1617 [==============================] - 0s 28us/step - loss: 0.0021 - val_loss: 0.0197\n",
      "Epoch 89/100\n",
      "1617/1617 [==============================] - 0s 28us/step - loss: 0.0022 - val_loss: 0.0214\n",
      "Epoch 90/100\n",
      "1617/1617 [==============================] - 0s 27us/step - loss: 0.0023 - val_loss: 0.0199\n",
      "Epoch 91/100\n",
      "1617/1617 [==============================] - 0s 27us/step - loss: 0.0029 - val_loss: 0.0199\n",
      "Epoch 92/100\n",
      "1617/1617 [==============================] - 0s 28us/step - loss: 0.0036 - val_loss: 0.0187\n",
      "Epoch 93/100\n",
      "1617/1617 [==============================] - 0s 30us/step - loss: 0.0051 - val_loss: 0.0235\n",
      "Epoch 94/100\n",
      "1617/1617 [==============================] - 0s 31us/step - loss: 0.0026 - val_loss: 0.0277\n",
      "Epoch 95/100\n",
      "1617/1617 [==============================] - 0s 30us/step - loss: 0.0021 - val_loss: 0.0187\n",
      "Epoch 96/100\n",
      "1617/1617 [==============================] - 0s 30us/step - loss: 0.0029 - val_loss: 0.0215\n",
      "Epoch 97/100\n",
      "1617/1617 [==============================] - 0s 30us/step - loss: 0.0032 - val_loss: 0.0186\n",
      "Epoch 98/100\n",
      "1617/1617 [==============================] - 0s 30us/step - loss: 0.0045 - val_loss: 0.0195\n",
      "Epoch 99/100\n",
      "1617/1617 [==============================] - 0s 30us/step - loss: 0.0026 - val_loss: 0.0242\n",
      "Epoch 100/100\n",
      "1617/1617 [==============================] - 0s 30us/step - loss: 0.0020 - val_loss: 0.0189\n"
     ]
    }
   ],
   "source": [
    "model_2.compile(loss='mae', optimizer='adam')\n",
    "history = model_2.fit(x_train, y_train, epochs=100, batch_size=128, \n",
    "                    validation_data=(x_test, y_test), verbose=1, shuffle=False)"
   ]
  },
  {
   "cell_type": "code",
   "execution_count": 23,
   "metadata": {},
   "outputs": [
    {
     "data": {
      "image/png": "[encoded data removed]",
      "text/plain": [
       "<Figure size 432x288 with 1 Axes>"
      ]
     },
     "metadata": {},
     "output_type": "display_data"
    }
   ],
   "source": [
    "loss = history.history['loss']\n",
    "val_loss = history.history['val_loss']\n",
    "\n",
    "epochs = range(len(loss))\n",
    "\n",
    "plt.figure()\n",
    "\n",
    "plt.plot(epochs, loss, 'bo', label='Training loss')\n",
    "plt.plot(epochs, val_loss, 'b', label='Validation loss')\n",
    "plt.title('Training and validation loss')\n",
    "plt.legend()\n",
    "\n",
    "plt.show()"
   ]
  },
  {
   "cell_type": "code",
   "execution_count": 24,
   "metadata": {},
   "outputs": [
    {
     "data": {
      "image/png": "[encoded data removed]",
      "text/plain": [
       "<Figure size 432x288 with 1 Axes>"
      ]
     },
     "metadata": {},
     "output_type": "display_data"
    }
   ],
   "source": [
    "yhat = model_2.predict(x_test)\n",
    "plt.plot(yhat, label='predict')\n",
    "plt.plot(y_test, label='true')\n",
    "plt.legend()\n",
    "plt.show()"
   ]
  },
  {
   "cell_type": "code",
   "execution_count": 25,
   "metadata": {},
   "outputs": [
    {
     "name": "stdout",
     "output_type": "stream",
     "text": [
      "Test RMSE: 595.991\n"
     ]
    }
   ],
   "source": [
    "yhat_inverse = scaler.inverse_transform(yhat.reshape(-1, 1))\n",
    "testY_inverse = scaler.inverse_transform(y_test.reshape(-1, 1))\n",
    "rmse = sqrt(mean_squared_error(testY_inverse, yhat_inverse))\n",
    "print('Test RMSE: %.3f' % rmse)"
   ]
  },
  {
   "cell_type": "code",
   "execution_count": null,
   "metadata": {},
   "outputs": [],
   "source": []
  }
 ],
 "metadata": {
  "kernelspec": {
   "display_name": "Python 3",
   "language": "python",
   "name": "python3"
  },
  "language_info": {
   "codemirror_mode": {
    "name": "ipython",
    "version": 3
   },
   "file_extension": ".py",
   "mimetype": "text/x-python",
   "name": "python",
   "nbconvert_exporter": "python",
   "pygments_lexer": "ipython3",
   "version": "3.6.4"
  }
 },
 "nbformat": 4,
 "nbformat_minor": 2
}
