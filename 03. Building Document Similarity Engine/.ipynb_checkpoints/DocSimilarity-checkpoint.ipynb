{
 "cells": [
  {
   "cell_type": "code",
   "execution_count": 6,
   "id": "2d631b2b-1088-4a3c-9651-3446afbbb44a",
   "metadata": {},
   "outputs": [],
   "source": [
    "import pandas as pd\n",
    "import numpy as np\n",
    "from SimpleSearchEngine.utility import preprocess_text"
   ]
  },
  {
   "cell_type": "code",
   "execution_count": 16,
   "id": "80524f8a-f702-4302-8212-d92022468713",
   "metadata": {},
   "outputs": [],
   "source": [
    "document = ['The session started yesterday',\n",
    "           'It was a NLP Session in Inceptez',\n",
    "           'In the Session, the mentees are very very curious to learn',\n",
    "           'The weather is hot',\n",
    "           'It will rain tommorow after the hot week ',\n",
    "           'The food is delicious',\n",
    "           'Do have good food to be healthy',\n",
    "           'India is entering election on this year',\n",
    "           'Mentor is connecting from outside to join the session',\n",
    "           'Russia is in war with ukraine',\n",
    "           'Dubai is hottest of hottest country ',\n",
    "           'Sri Lanka is in economic crisis']\n",
    "label = ['learn', 'learn', 'learn', 'weather', 'weather', 'food', 'food', 'politics',\n",
    "        'learn', 'politics', 'weather', 'politics']\n",
    "\n",
    "# document = ['I like cats do you like it',\n",
    "#             'I like dogs too']\n",
    "# label = ['animal', 'animal']"
   ]
  },
  {
   "cell_type": "code",
   "execution_count": 17,
   "id": "35990bcd-00fd-4859-a525-2f9fb89a3a17",
   "metadata": {},
   "outputs": [],
   "source": [
    "data = pd.DataFrame([document, label]).T"
   ]
  },
  {
   "cell_type": "code",
   "execution_count": null,
   "id": "00e55ba3-540a-4cc5-a14f-f682b7b45a1a",
   "metadata": {},
   "outputs": [],
   "source": []
  },
  {
   "cell_type": "code",
   "execution_count": 18,
   "id": "f287e8b9-d6d9-4857-8180-cf09addc9f66",
   "metadata": {},
   "outputs": [],
   "source": [
    "data.columns = ['document', 'label']"
   ]
  },
  {
   "cell_type": "code",
   "execution_count": 19,
   "id": "9ba0bc80-c9e6-441e-accd-453d6553afd2",
   "metadata": {},
   "outputs": [
    {
     "data": {
      "text/html": [
       "<div>\n",
       "<style scoped>\n",
       "    .dataframe tbody tr th:only-of-type {\n",
       "        vertical-align: middle;\n",
       "    }\n",
       "\n",
       "    .dataframe tbody tr th {\n",
       "        vertical-align: top;\n",
       "    }\n",
       "\n",
       "    .dataframe thead th {\n",
       "        text-align: right;\n",
       "    }\n",
       "</style>\n",
       "<table border=\"1\" class=\"dataframe\">\n",
       "  <thead>\n",
       "    <tr style=\"text-align: right;\">\n",
       "      <th></th>\n",
       "      <th>document</th>\n",
       "      <th>label</th>\n",
       "    </tr>\n",
       "  </thead>\n",
       "  <tbody>\n",
       "    <tr>\n",
       "      <th>0</th>\n",
       "      <td>The session started yesterday</td>\n",
       "      <td>learn</td>\n",
       "    </tr>\n",
       "    <tr>\n",
       "      <th>1</th>\n",
       "      <td>It was a NLP Session in Inceptez</td>\n",
       "      <td>learn</td>\n",
       "    </tr>\n",
       "    <tr>\n",
       "      <th>2</th>\n",
       "      <td>In the Session, the mentees are very very curi...</td>\n",
       "      <td>learn</td>\n",
       "    </tr>\n",
       "    <tr>\n",
       "      <th>3</th>\n",
       "      <td>The weather is hot</td>\n",
       "      <td>weather</td>\n",
       "    </tr>\n",
       "    <tr>\n",
       "      <th>4</th>\n",
       "      <td>It will rain tommorow after the hot week</td>\n",
       "      <td>weather</td>\n",
       "    </tr>\n",
       "    <tr>\n",
       "      <th>5</th>\n",
       "      <td>The food is delicious</td>\n",
       "      <td>food</td>\n",
       "    </tr>\n",
       "    <tr>\n",
       "      <th>6</th>\n",
       "      <td>Do have good food to be healthy</td>\n",
       "      <td>food</td>\n",
       "    </tr>\n",
       "    <tr>\n",
       "      <th>7</th>\n",
       "      <td>India is entering election on this year</td>\n",
       "      <td>politics</td>\n",
       "    </tr>\n",
       "    <tr>\n",
       "      <th>8</th>\n",
       "      <td>Mentor is connecting from outside to join the ...</td>\n",
       "      <td>learn</td>\n",
       "    </tr>\n",
       "    <tr>\n",
       "      <th>9</th>\n",
       "      <td>Russia is in war with ukraine</td>\n",
       "      <td>politics</td>\n",
       "    </tr>\n",
       "    <tr>\n",
       "      <th>10</th>\n",
       "      <td>Dubai is hottest of hottest country</td>\n",
       "      <td>weather</td>\n",
       "    </tr>\n",
       "    <tr>\n",
       "      <th>11</th>\n",
       "      <td>Sri Lanka is in economic crisis</td>\n",
       "      <td>politics</td>\n",
       "    </tr>\n",
       "  </tbody>\n",
       "</table>\n",
       "</div>"
      ],
      "text/plain": [
       "                                             document     label\n",
       "0                       The session started yesterday     learn\n",
       "1                    It was a NLP Session in Inceptez     learn\n",
       "2   In the Session, the mentees are very very curi...     learn\n",
       "3                                  The weather is hot   weather\n",
       "4           It will rain tommorow after the hot week    weather\n",
       "5                               The food is delicious      food\n",
       "6                     Do have good food to be healthy      food\n",
       "7             India is entering election on this year  politics\n",
       "8   Mentor is connecting from outside to join the ...     learn\n",
       "9                       Russia is in war with ukraine  politics\n",
       "10               Dubai is hottest of hottest country    weather\n",
       "11                    Sri Lanka is in economic crisis  politics"
      ]
     },
     "execution_count": 19,
     "metadata": {},
     "output_type": "execute_result"
    }
   ],
   "source": [
    "data"
   ]
  },
  {
   "cell_type": "code",
   "execution_count": 217,
   "id": "48e0f1dd-7391-4051-8114-16654309ce7d",
   "metadata": {},
   "outputs": [],
   "source": [
    "data['document'] = data['document'].apply(preprocess_text)"
   ]
  },
  {
   "cell_type": "code",
   "execution_count": 218,
   "id": "810c9dac-672a-4b6a-a308-26c7e77c4a86",
   "metadata": {},
   "outputs": [
    {
     "data": {
      "text/html": [
       "<div>\n",
       "<style scoped>\n",
       "    .dataframe tbody tr th:only-of-type {\n",
       "        vertical-align: middle;\n",
       "    }\n",
       "\n",
       "    .dataframe tbody tr th {\n",
       "        vertical-align: top;\n",
       "    }\n",
       "\n",
       "    .dataframe thead th {\n",
       "        text-align: right;\n",
       "    }\n",
       "</style>\n",
       "<table border=\"1\" class=\"dataframe\">\n",
       "  <thead>\n",
       "    <tr style=\"text-align: right;\">\n",
       "      <th></th>\n",
       "      <th>document</th>\n",
       "      <th>label</th>\n",
       "    </tr>\n",
       "  </thead>\n",
       "  <tbody>\n",
       "    <tr>\n",
       "      <th>0</th>\n",
       "      <td>like cat like</td>\n",
       "      <td>animal</td>\n",
       "    </tr>\n",
       "    <tr>\n",
       "      <th>1</th>\n",
       "      <td>like dog</td>\n",
       "      <td>animal</td>\n",
       "    </tr>\n",
       "  </tbody>\n",
       "</table>\n",
       "</div>"
      ],
      "text/plain": [
       "        document   label\n",
       "0  like cat like  animal\n",
       "1       like dog  animal"
      ]
     },
     "execution_count": 218,
     "metadata": {},
     "output_type": "execute_result"
    }
   ],
   "source": [
    "data"
   ]
  },
  {
   "cell_type": "markdown",
   "id": "1ef5b191-37d5-4bf0-8482-06dbd62262d6",
   "metadata": {},
   "source": [
    "# Count Vectorizer -  One Hot"
   ]
  },
  {
   "cell_type": "code",
   "execution_count": 219,
   "id": "a313ed52-5d33-471d-861a-4d512562584a",
   "metadata": {},
   "outputs": [],
   "source": [
    "from sklearn.feature_extraction.text import CountVectorizer"
   ]
  },
  {
   "cell_type": "code",
   "execution_count": 220,
   "id": "301bbcba-afc5-4419-920f-16ba1b194769",
   "metadata": {},
   "outputs": [],
   "source": [
    "cv = CountVectorizer(binary=True)"
   ]
  },
  {
   "cell_type": "code",
   "execution_count": null,
   "id": "1fce6623-1019-4afc-9959-3345c0fbce74",
   "metadata": {},
   "outputs": [],
   "source": []
  },
  {
   "cell_type": "code",
   "execution_count": 221,
   "id": "c84157a4-c40e-48bd-ae4e-67df76b78f4d",
   "metadata": {},
   "outputs": [],
   "source": [
    "cv_matrix = cv.fit_transform(data['document']).toarray()"
   ]
  },
  {
   "cell_type": "code",
   "execution_count": 222,
   "id": "e5cd1eaa-6287-457d-9693-2e783db596f5",
   "metadata": {},
   "outputs": [
    {
     "data": {
      "text/plain": [
       "array(['cat', 'dog', 'like'], dtype=object)"
      ]
     },
     "execution_count": 222,
     "metadata": {},
     "output_type": "execute_result"
    }
   ],
   "source": [
    "cv.get_feature_names_out()"
   ]
  },
  {
   "cell_type": "code",
   "execution_count": 223,
   "id": "5b7123ba-3cf2-4d34-9288-2605ca7c1fd6",
   "metadata": {},
   "outputs": [
    {
     "data": {
      "text/html": [
       "<div>\n",
       "<style scoped>\n",
       "    .dataframe tbody tr th:only-of-type {\n",
       "        vertical-align: middle;\n",
       "    }\n",
       "\n",
       "    .dataframe tbody tr th {\n",
       "        vertical-align: top;\n",
       "    }\n",
       "\n",
       "    .dataframe thead th {\n",
       "        text-align: right;\n",
       "    }\n",
       "</style>\n",
       "<table border=\"1\" class=\"dataframe\">\n",
       "  <thead>\n",
       "    <tr style=\"text-align: right;\">\n",
       "      <th></th>\n",
       "      <th>cat</th>\n",
       "      <th>dog</th>\n",
       "      <th>like</th>\n",
       "    </tr>\n",
       "  </thead>\n",
       "  <tbody>\n",
       "    <tr>\n",
       "      <th>0</th>\n",
       "      <td>1</td>\n",
       "      <td>0</td>\n",
       "      <td>1</td>\n",
       "    </tr>\n",
       "    <tr>\n",
       "      <th>1</th>\n",
       "      <td>0</td>\n",
       "      <td>1</td>\n",
       "      <td>1</td>\n",
       "    </tr>\n",
       "  </tbody>\n",
       "</table>\n",
       "</div>"
      ],
      "text/plain": [
       "   cat  dog  like\n",
       "0    1    0     1\n",
       "1    0    1     1"
      ]
     },
     "execution_count": 223,
     "metadata": {},
     "output_type": "execute_result"
    }
   ],
   "source": [
    "pd.DataFrame(cv_matrix, columns = cv.get_feature_names_out())"
   ]
  },
  {
   "cell_type": "code",
   "execution_count": 225,
   "id": "e54163a9-aa71-443c-af04-b078fab15917",
   "metadata": {
    "scrolled": true
   },
   "outputs": [
    {
     "data": {
      "text/html": [
       "<div>\n",
       "<style scoped>\n",
       "    .dataframe tbody tr th:only-of-type {\n",
       "        vertical-align: middle;\n",
       "    }\n",
       "\n",
       "    .dataframe tbody tr th {\n",
       "        vertical-align: top;\n",
       "    }\n",
       "\n",
       "    .dataframe thead th {\n",
       "        text-align: right;\n",
       "    }\n",
       "</style>\n",
       "<table border=\"1\" class=\"dataframe\">\n",
       "  <thead>\n",
       "    <tr style=\"text-align: right;\">\n",
       "      <th></th>\n",
       "      <th>cat</th>\n",
       "      <th>dog</th>\n",
       "      <th>like</th>\n",
       "    </tr>\n",
       "  </thead>\n",
       "  <tbody>\n",
       "    <tr>\n",
       "      <th>0</th>\n",
       "      <td>1</td>\n",
       "      <td>0</td>\n",
       "      <td>1</td>\n",
       "    </tr>\n",
       "    <tr>\n",
       "      <th>1</th>\n",
       "      <td>0</td>\n",
       "      <td>1</td>\n",
       "      <td>1</td>\n",
       "    </tr>\n",
       "  </tbody>\n",
       "</table>\n",
       "</div>"
      ],
      "text/plain": [
       "   cat  dog  like\n",
       "0    1    0     1\n",
       "1    0    1     1"
      ]
     },
     "execution_count": 225,
     "metadata": {},
     "output_type": "execute_result"
    }
   ],
   "source": [
    "pd.DataFrame(cv_matrix, columns = cv.get_feature_names_out())"
   ]
  },
  {
   "cell_type": "code",
   "execution_count": null,
   "id": "4dee186b-0376-49fe-90c5-abfc9e7b2410",
   "metadata": {},
   "outputs": [],
   "source": []
  },
  {
   "cell_type": "markdown",
   "id": "e7a6cf53-ba27-4f54-92fb-35115e3a204a",
   "metadata": {},
   "source": [
    "# Bag of Words"
   ]
  },
  {
   "cell_type": "code",
   "execution_count": null,
   "id": "ee81fb92-4de3-45ab-9b1f-84b8247d74d0",
   "metadata": {},
   "outputs": [],
   "source": []
  },
  {
   "cell_type": "code",
   "execution_count": 226,
   "id": "8e66ae71-5766-4e5c-ba70-6dc381d9cfbb",
   "metadata": {},
   "outputs": [],
   "source": [
    "from sklearn.feature_extraction.text import CountVectorizer"
   ]
  },
  {
   "cell_type": "code",
   "execution_count": 227,
   "id": "51de6abe-4abe-406b-961f-b02eb5091b52",
   "metadata": {},
   "outputs": [
    {
     "data": {
      "text/plain": [
       "array(['connecting', 'connecting outside', 'country', 'crisis', 'curious',\n",
       "       'curious learn', 'delicious', 'dubai', 'dubai hottest',\n",
       "       'dubai hottest hottest', 'economic', 'economic crisis', 'election',\n",
       "       'election year', 'entering', 'entering election',\n",
       "       'entering election year', 'food', 'food delicious', 'food healthy',\n",
       "       'good', 'good food', 'good food healthy', 'healthy', 'hot',\n",
       "       'hottest', 'hottest country', 'hottest hottest',\n",
       "       'hottest hottest country', 'inceptez', 'india', 'india entering',\n",
       "       'india entering election', 'lanka', 'lanka economic',\n",
       "       'lanka economic crisis', 'learn', 'mentees', 'mentees curious',\n",
       "       'mentees curious learn', 'mentor', 'mentor connecting',\n",
       "       'mentor connecting outside', 'nlp', 'nlp session',\n",
       "       'nlp session inceptez', 'outside', 'rain', 'rain tommorow',\n",
       "       'russia', 'russia war', 'russia war ukraine', 'session',\n",
       "       'session inceptez', 'session started', 'session started yesterday',\n",
       "       'sri', 'sri lanka', 'sri lanka economic', 'started',\n",
       "       'started yesterday', 'tommorow', 'ukraine', 'war', 'war ukraine',\n",
       "       'weather', 'weather hot', 'year', 'yesterday'], dtype=object)"
      ]
     },
     "execution_count": 227,
     "metadata": {},
     "output_type": "execute_result"
    }
   ],
   "source": [
    "columns_act"
   ]
  },
  {
   "cell_type": "code",
   "execution_count": 228,
   "id": "ccdd465d-076b-4584-954e-77e74c561843",
   "metadata": {},
   "outputs": [],
   "source": [
    "cv = CountVectorizer(ngram_range=(1, 3), min_df= 2, binary=False)"
   ]
  },
  {
   "cell_type": "code",
   "execution_count": null,
   "id": "249a3ca6-b04d-40e3-b0f2-77f2cfef9efe",
   "metadata": {},
   "outputs": [],
   "source": []
  },
  {
   "cell_type": "code",
   "execution_count": 229,
   "id": "52a505df-a551-4355-b935-490de76d4679",
   "metadata": {},
   "outputs": [],
   "source": [
    "cv_matrix = cv.fit_transform(data['document']).toarray()"
   ]
  },
  {
   "cell_type": "code",
   "execution_count": null,
   "id": "3af8bd33-b0e3-4e80-8c13-d8200bac2f7b",
   "metadata": {},
   "outputs": [],
   "source": []
  },
  {
   "cell_type": "code",
   "execution_count": 230,
   "id": "95669231-4c1e-4332-964f-ebf01fd94990",
   "metadata": {},
   "outputs": [],
   "source": [
    "actual_columns = cv.get_feature_names_out()"
   ]
  },
  {
   "cell_type": "code",
   "execution_count": 231,
   "id": "27a98dd2-ea9b-45c3-9d6a-61bd5d709d93",
   "metadata": {},
   "outputs": [],
   "source": [
    "modified_columns = pd.DataFrame(cv_matrix, columns = cv.get_feature_names_out()).columns"
   ]
  },
  {
   "cell_type": "code",
   "execution_count": 232,
   "id": "a28c4ce0-1730-4127-a484-bcdcc153e78d",
   "metadata": {},
   "outputs": [
    {
     "data": {
      "text/plain": [
       "{'connecting',\n",
       " 'connecting outside',\n",
       " 'country',\n",
       " 'crisis',\n",
       " 'curious',\n",
       " 'curious learn',\n",
       " 'delicious',\n",
       " 'dubai',\n",
       " 'dubai hottest',\n",
       " 'dubai hottest hottest',\n",
       " 'economic',\n",
       " 'economic crisis',\n",
       " 'election',\n",
       " 'election year',\n",
       " 'entering',\n",
       " 'entering election',\n",
       " 'entering election year',\n",
       " 'food',\n",
       " 'food delicious',\n",
       " 'food healthy',\n",
       " 'good',\n",
       " 'good food',\n",
       " 'good food healthy',\n",
       " 'healthy',\n",
       " 'hot',\n",
       " 'hottest',\n",
       " 'hottest country',\n",
       " 'hottest hottest',\n",
       " 'hottest hottest country',\n",
       " 'inceptez',\n",
       " 'india',\n",
       " 'india entering',\n",
       " 'india entering election',\n",
       " 'lanka',\n",
       " 'lanka economic',\n",
       " 'lanka economic crisis',\n",
       " 'learn',\n",
       " 'mentees',\n",
       " 'mentees curious',\n",
       " 'mentees curious learn',\n",
       " 'mentor',\n",
       " 'mentor connecting',\n",
       " 'mentor connecting outside',\n",
       " 'nlp',\n",
       " 'nlp session',\n",
       " 'nlp session inceptez',\n",
       " 'outside',\n",
       " 'rain',\n",
       " 'rain tommorow',\n",
       " 'russia',\n",
       " 'russia war',\n",
       " 'russia war ukraine',\n",
       " 'session',\n",
       " 'session inceptez',\n",
       " 'session started',\n",
       " 'session started yesterday',\n",
       " 'sri',\n",
       " 'sri lanka',\n",
       " 'sri lanka economic',\n",
       " 'started',\n",
       " 'started yesterday',\n",
       " 'tommorow',\n",
       " 'ukraine',\n",
       " 'war',\n",
       " 'war ukraine',\n",
       " 'weather',\n",
       " 'weather hot',\n",
       " 'year',\n",
       " 'yesterday'}"
      ]
     },
     "execution_count": 232,
     "metadata": {},
     "output_type": "execute_result"
    }
   ],
   "source": [
    "set(columns_act) - set(modified_columns)\n"
   ]
  },
  {
   "cell_type": "code",
   "execution_count": 233,
   "id": "c6b6ffaf-f8bd-4cf7-ab08-933bd276351b",
   "metadata": {},
   "outputs": [
    {
     "data": {
      "text/plain": [
       "69"
      ]
     },
     "execution_count": 233,
     "metadata": {},
     "output_type": "execute_result"
    }
   ],
   "source": [
    "len(columns_act)"
   ]
  },
  {
   "cell_type": "code",
   "execution_count": 234,
   "id": "cccf025e-f765-4ae2-a5e8-68fb9c2a2850",
   "metadata": {},
   "outputs": [
    {
     "data": {
      "text/plain": [
       "1"
      ]
     },
     "execution_count": 234,
     "metadata": {},
     "output_type": "execute_result"
    }
   ],
   "source": [
    "len(modified_columns)"
   ]
  },
  {
   "cell_type": "code",
   "execution_count": 235,
   "id": "9ce0fa5d-e4d0-4ccb-8b51-a1bcb13b2103",
   "metadata": {
    "scrolled": true
   },
   "outputs": [
    {
     "data": {
      "text/html": [
       "<div>\n",
       "<style scoped>\n",
       "    .dataframe tbody tr th:only-of-type {\n",
       "        vertical-align: middle;\n",
       "    }\n",
       "\n",
       "    .dataframe tbody tr th {\n",
       "        vertical-align: top;\n",
       "    }\n",
       "\n",
       "    .dataframe thead th {\n",
       "        text-align: right;\n",
       "    }\n",
       "</style>\n",
       "<table border=\"1\" class=\"dataframe\">\n",
       "  <thead>\n",
       "    <tr style=\"text-align: right;\">\n",
       "      <th></th>\n",
       "      <th>like</th>\n",
       "    </tr>\n",
       "  </thead>\n",
       "  <tbody>\n",
       "    <tr>\n",
       "      <th>0</th>\n",
       "      <td>2</td>\n",
       "    </tr>\n",
       "    <tr>\n",
       "      <th>1</th>\n",
       "      <td>1</td>\n",
       "    </tr>\n",
       "  </tbody>\n",
       "</table>\n",
       "</div>"
      ],
      "text/plain": [
       "   like\n",
       "0     2\n",
       "1     1"
      ]
     },
     "execution_count": 235,
     "metadata": {},
     "output_type": "execute_result"
    }
   ],
   "source": [
    "pd.DataFrame(cv_matrix, columns = cv.get_feature_names_out())"
   ]
  },
  {
   "cell_type": "code",
   "execution_count": 236,
   "id": "26358d2b-0f3f-4197-96bb-3c48067586fe",
   "metadata": {},
   "outputs": [],
   "source": [
    "#n-grams, min_df, max_df, Binary"
   ]
  },
  {
   "cell_type": "code",
   "execution_count": null,
   "id": "42b34e40-322f-4ea3-b262-8169a8f9d985",
   "metadata": {},
   "outputs": [],
   "source": []
  },
  {
   "cell_type": "markdown",
   "id": "5946600e-b4d6-46f2-8fc1-863a26048d6a",
   "metadata": {},
   "source": [
    "# TF-IDF"
   ]
  },
  {
   "cell_type": "code",
   "execution_count": 237,
   "id": "e2cc65ea-6e7c-4927-bbd7-ef036505b2a3",
   "metadata": {},
   "outputs": [],
   "source": [
    "from sklearn.feature_extraction.text import TfidfVectorizer"
   ]
  },
  {
   "cell_type": "code",
   "execution_count": 277,
   "id": "d5e07080-d360-482b-aea9-dfcdbbb664db",
   "metadata": {},
   "outputs": [],
   "source": [
    "tf = TfidfVectorizer()"
   ]
  },
  {
   "cell_type": "code",
   "execution_count": 278,
   "id": "c513e6c0-5eb1-4807-a919-9607a7db51eb",
   "metadata": {},
   "outputs": [],
   "source": [
    "tf_matrix = tf.fit_transform(data['document']).toarray()"
   ]
  },
  {
   "cell_type": "code",
   "execution_count": 279,
   "id": "19799ac6-6aa5-437f-8e40-a1e7b7f9e752",
   "metadata": {},
   "outputs": [],
   "source": [
    "actual_columns = tf.get_feature_names_out()"
   ]
  },
  {
   "cell_type": "code",
   "execution_count": 280,
   "id": "53aead7d-4215-4a7d-bd05-e6344eeab155",
   "metadata": {},
   "outputs": [],
   "source": [
    "modified_columns = pd.DataFrame(tf_matrix, columns = tf.get_feature_names_out()).columns"
   ]
  },
  {
   "cell_type": "code",
   "execution_count": 281,
   "id": "b2d90371-7c6d-4c59-b1b2-0bb0ff4b67d3",
   "metadata": {
    "scrolled": true
   },
   "outputs": [
    {
     "data": {
      "text/html": [
       "<div>\n",
       "<style scoped>\n",
       "    .dataframe tbody tr th:only-of-type {\n",
       "        vertical-align: middle;\n",
       "    }\n",
       "\n",
       "    .dataframe tbody tr th {\n",
       "        vertical-align: top;\n",
       "    }\n",
       "\n",
       "    .dataframe thead th {\n",
       "        text-align: right;\n",
       "    }\n",
       "</style>\n",
       "<table border=\"1\" class=\"dataframe\">\n",
       "  <thead>\n",
       "    <tr style=\"text-align: right;\">\n",
       "      <th></th>\n",
       "      <th>cat</th>\n",
       "      <th>dog</th>\n",
       "      <th>like</th>\n",
       "    </tr>\n",
       "  </thead>\n",
       "  <tbody>\n",
       "    <tr>\n",
       "      <th>0</th>\n",
       "      <td>0.574962</td>\n",
       "      <td>0.000000</td>\n",
       "      <td>0.818180</td>\n",
       "    </tr>\n",
       "    <tr>\n",
       "      <th>1</th>\n",
       "      <td>0.000000</td>\n",
       "      <td>0.814802</td>\n",
       "      <td>0.579739</td>\n",
       "    </tr>\n",
       "  </tbody>\n",
       "</table>\n",
       "</div>"
      ],
      "text/plain": [
       "        cat       dog      like\n",
       "0  0.574962  0.000000  0.818180\n",
       "1  0.000000  0.814802  0.579739"
      ]
     },
     "execution_count": 281,
     "metadata": {},
     "output_type": "execute_result"
    }
   ],
   "source": [
    "pd.DataFrame(tf_matrix, columns = tf.get_feature_names_out())"
   ]
  },
  {
   "cell_type": "code",
   "execution_count": 244,
   "id": "7f573ff9-7078-4353-84eb-46369917fa7c",
   "metadata": {},
   "outputs": [
    {
     "data": {
      "text/html": [
       "<div>\n",
       "<style scoped>\n",
       "    .dataframe tbody tr th:only-of-type {\n",
       "        vertical-align: middle;\n",
       "    }\n",
       "\n",
       "    .dataframe tbody tr th {\n",
       "        vertical-align: top;\n",
       "    }\n",
       "\n",
       "    .dataframe thead th {\n",
       "        text-align: right;\n",
       "    }\n",
       "</style>\n",
       "<table border=\"1\" class=\"dataframe\">\n",
       "  <thead>\n",
       "    <tr style=\"text-align: right;\">\n",
       "      <th></th>\n",
       "      <th>document</th>\n",
       "      <th>label</th>\n",
       "    </tr>\n",
       "  </thead>\n",
       "  <tbody>\n",
       "    <tr>\n",
       "      <th>0</th>\n",
       "      <td>like cat like</td>\n",
       "      <td>animal</td>\n",
       "    </tr>\n",
       "    <tr>\n",
       "      <th>1</th>\n",
       "      <td>like dog</td>\n",
       "      <td>animal</td>\n",
       "    </tr>\n",
       "  </tbody>\n",
       "</table>\n",
       "</div>"
      ],
      "text/plain": [
       "        document   label\n",
       "0  like cat like  animal\n",
       "1       like dog  animal"
      ]
     },
     "execution_count": 244,
     "metadata": {},
     "output_type": "execute_result"
    }
   ],
   "source": [
    "data"
   ]
  },
  {
   "cell_type": "code",
   "execution_count": null,
   "id": "fd9cea7c-b89f-41bb-832a-acc9191e5c3e",
   "metadata": {},
   "outputs": [],
   "source": [
    "       TF doc 1    TF doc 2     IDF       log(1 + IDF)   TF*IDF Doc1     TF*IDF Doc2\n",
    "   \n",
    "like     2/3         1/2        (2+1)/(2+1) = 1     1      0.58                        0.66\n",
    "cat      1/3         0/2        2/1 = 2     1.5           0.33*1.5         0\n",
    "dog      0/3         1/2        2/1 = 2     0.47           0               0.5*0.47\n"
   ]
  },
  {
   "cell_type": "code",
   "execution_count": 246,
   "id": "74c08b59-857c-47f0-a775-3fc0870ce3ac",
   "metadata": {},
   "outputs": [
    {
     "data": {
      "text/plain": [
       "0.47712125471966244"
      ]
     },
     "execution_count": 246,
     "metadata": {},
     "output_type": "execute_result"
    }
   ],
   "source": [
    "        TFIDF doc1    TFIDF Doc 2\n",
    "like      0.66            0.15\n",
    "cat       0.52           0\n",
    "dog       0              0.23"
   ]
  },
  {
   "cell_type": "code",
   "execution_count": 285,
   "id": "d61d4999-f427-41e5-b6e8-294eced65794",
   "metadata": {},
   "outputs": [
    {
     "data": {
      "text/plain": [
       "-0.5849625007211563"
      ]
     },
     "execution_count": 285,
     "metadata": {},
     "output_type": "execute_result"
    }
   ],
   "source": [
    "np.log2(2/3)"
   ]
  },
  {
   "cell_type": "code",
   "execution_count": null,
   "id": "bd60f6b3-10ff-40ea-b769-cc65539f447f",
   "metadata": {},
   "outputs": [],
   "source": [
    "millions of document"
   ]
  },
  {
   "cell_type": "code",
   "execution_count": null,
   "id": "73a4a168-ebd3-48dc-8a9c-8ef1cb5f3531",
   "metadata": {},
   "outputs": [],
   "source": [
    "word is in 2 document"
   ]
  },
  {
   "cell_type": "code",
   "execution_count": null,
   "id": "1bdce4db-8638-46c2-9d5a-55af89b00dd7",
   "metadata": {},
   "outputs": [],
   "source": [
    "IDF = 1000000/2 = (500000) - Mathematical computation - Resource intensive - Time delayed"
   ]
  },
  {
   "cell_type": "code",
   "execution_count": null,
   "id": "b6b22542-375a-4ba3-8483-8aa5bc946691",
   "metadata": {},
   "outputs": [],
   "source": []
  },
  {
   "cell_type": "markdown",
   "id": "b1037345-be1d-42ed-a972-539a0fb69f47",
   "metadata": {},
   "source": [
    "# Summary"
   ]
  },
  {
   "cell_type": "code",
   "execution_count": null,
   "id": "f6aad4a3-126e-4841-a45a-9932d2189ec6",
   "metadata": {},
   "outputs": [],
   "source": [
    "1. Crawling\n",
    "2. robots.txt\n",
    "3. Data Processing\n",
    "4. removing non-alpha, stop words, contraction, punctuation, numbers, and removing html tags using Beautiful soup\n",
    "5. accented, lemmatization, stemming, lowercase conversion, trim spaces, \n",
    "6. Tokenization\n",
    "7. Indexing \n",
    "8. Searching - intersection and union\n",
    "9. Implemented - python\n",
    "10. Streamlit simple search engine\n",
    "11. Text to Numbers\n",
    "12. Count Vectorizer\n",
    "13. Bag of Words\n",
    "14. TF-IDF \n",
    "\n",
    "To be covered\n",
    "15. Cosine Similarity -  Ecludian Distance - Use case\n",
    "16. Text Recommendation Engine\n",
    "17. Document Similarity\n",
    "\n",
    "\n",
    "18. Word Embeddings\n"
   ]
  },
  {
   "cell_type": "code",
   "execution_count": null,
   "id": "dc7549b3-455a-47f3-b7af-1e7dbfcae588",
   "metadata": {},
   "outputs": [],
   "source": [
    "POS - parts of speech\n",
    "NER - Named entity recognition "
   ]
  },
  {
   "cell_type": "code",
   "execution_count": null,
   "id": "79386be3-0a8b-4f7c-89de-a971f345f161",
   "metadata": {},
   "outputs": [],
   "source": [
    "200000 doc\n",
    "\n",
    "100 words\n",
    "\n",
    "20000000 vectors\n",
    "\n",
    "word2vec\n",
    "    1 2 3  ...   100\n",
    "doc1 . . . . . . . .   - vec for a document\n",
    "doc2\n",
    ".\n",
    ".\n",
    "doc200000\n",
    "\n",
    "\n",
    "doc2vec\n",
    "\n",
    "doc vector 20000\n"
   ]
  }
 ],
 "metadata": {
  "kernelspec": {
   "display_name": "Python 3 (ipykernel)",
   "language": "python",
   "name": "python3"
  },
  "language_info": {
   "codemirror_mode": {
    "name": "ipython",
    "version": 3
   },
   "file_extension": ".py",
   "mimetype": "text/x-python",
   "name": "python",
   "nbconvert_exporter": "python",
   "pygments_lexer": "ipython3",
   "version": "3.11.6"
  }
 },
 "nbformat": 4,
 "nbformat_minor": 5
}
