{
 "cells": [
  {
   "cell_type": "code",
   "execution_count": 2,
   "id": "a7fb55fd-f8e0-46d2-9920-dcd266214ed7",
   "metadata": {
    "scrolled": true
   },
   "outputs": [
    {
     "name": "stdout",
     "output_type": "stream",
     "text": [
      "Collecting wikipedia\n",
      "  Downloading wikipedia-1.4.0.tar.gz (27 kB)\n",
      "  Preparing metadata (setup.py) ... \u001b[?25ldone\n",
      "\u001b[?25hRequirement already satisfied: beautifulsoup4 in /opt/homebrew/lib/python3.11/site-packages (from wikipedia) (4.12.2)\n",
      "Requirement already satisfied: requests<3.0.0,>=2.0.0 in /opt/homebrew/lib/python3.11/site-packages (from wikipedia) (2.31.0)\n",
      "Requirement already satisfied: charset-normalizer<4,>=2 in /opt/homebrew/lib/python3.11/site-packages (from requests<3.0.0,>=2.0.0->wikipedia) (3.3.2)\n",
      "Requirement already satisfied: idna<4,>=2.5 in /opt/homebrew/lib/python3.11/site-packages (from requests<3.0.0,>=2.0.0->wikipedia) (3.4)\n",
      "Requirement already satisfied: urllib3<3,>=1.21.1 in /opt/homebrew/lib/python3.11/site-packages (from requests<3.0.0,>=2.0.0->wikipedia) (2.1.0)\n",
      "Requirement already satisfied: certifi>=2017.4.17 in /opt/homebrew/lib/python3.11/site-packages (from requests<3.0.0,>=2.0.0->wikipedia) (2023.7.22)\n",
      "Requirement already satisfied: soupsieve>1.2 in /opt/homebrew/lib/python3.11/site-packages (from beautifulsoup4->wikipedia) (2.5)\n",
      "Building wheels for collected packages: wikipedia\n",
      "  Building wheel for wikipedia (setup.py) ... \u001b[?25ldone\n",
      "\u001b[?25h  Created wheel for wikipedia: filename=wikipedia-1.4.0-py3-none-any.whl size=11679 sha256=9fe35fcd222097ccb57a426178699ac8c3dbb11e4af28fb0f05438865a813447\n",
      "  Stored in directory: /Users/m.alaudeen/Library/Caches/pip/wheels/8f/ab/cb/45ccc40522d3a1c41e1d2ad53b8f33a62f394011ec38cd71c6\n",
      "Successfully built wikipedia\n",
      "Installing collected packages: wikipedia\n",
      "Successfully installed wikipedia-1.4.0\n",
      "\n",
      "\u001b[1m[\u001b[0m\u001b[34;49mnotice\u001b[0m\u001b[1;39;49m]\u001b[0m\u001b[39;49m A new release of pip is available: \u001b[0m\u001b[31;49m23.3.2\u001b[0m\u001b[39;49m -> \u001b[0m\u001b[32;49m24.0\u001b[0m\n",
      "\u001b[1m[\u001b[0m\u001b[34;49mnotice\u001b[0m\u001b[1;39;49m]\u001b[0m\u001b[39;49m To update, run: \u001b[0m\u001b[32;49mpython3.11 -m pip install --upgrade pip\u001b[0m\n"
     ]
    }
   ],
   "source": [
    "!pip install wikipedia"
   ]
  },
  {
   "cell_type": "code",
   "execution_count": 3,
   "id": "a8e58435-46d0-42f1-9216-9af71e9a7c4a",
   "metadata": {},
   "outputs": [],
   "source": [
    "import wikipedia"
   ]
  },
  {
   "cell_type": "code",
   "execution_count": 9,
   "id": "83f4aa9a-61bc-4cc7-817c-349f86b51f71",
   "metadata": {},
   "outputs": [],
   "source": [
    "q1 = wikipedia.page('machinelearning').content\n",
    "q2 = wikipedia.page('Artificial Intelligence').content\n",
    "q3 = wikipedia.page('Soccer').content\n",
    "q4 = wikipedia.page('Cricket').content\n",
    "q5 = wikipedia.page('Football').content"
   ]
  },
  {
   "cell_type": "code",
   "execution_count": null,
   "id": "6344d650-456b-4df2-a880-247c4acff9fe",
   "metadata": {},
   "outputs": [],
   "source": [
    "# Evaluation Metric\n",
    "# q1 more similar q2\n",
    "# q3 more similar q5"
   ]
  },
  {
   "cell_type": "code",
   "execution_count": 26,
   "id": "d594afe9-e636-439e-86a0-8cdb7f2b3617",
   "metadata": {},
   "outputs": [],
   "source": [
    "from sklearn.feature_extraction.text import CountVectorizer\n",
    "import numpy as np\n",
    "import pandas as pd"
   ]
  },
  {
   "cell_type": "code",
   "execution_count": 23,
   "id": "85a88442-0742-42b1-adf4-25151952dc87",
   "metadata": {},
   "outputs": [],
   "source": [
    "#Bag Of Words (BOW)\n",
    "cv = CountVectorizer()\n",
    "X = np.array(cv.fit_transform([q1, q2, q3, q4, q5]).todense())"
   ]
  },
  {
   "cell_type": "code",
   "execution_count": 24,
   "id": "cc04f87f-cbf8-49df-9742-549725230888",
   "metadata": {},
   "outputs": [
    {
     "data": {
      "text/plain": [
       "array([[1, 0, 0, ..., 0, 0, 0],\n",
       "       [1, 1, 1, ..., 0, 0, 0],\n",
       "       [1, 0, 0, ..., 0, 0, 1],\n",
       "       [0, 0, 0, ..., 0, 0, 0],\n",
       "       [1, 0, 0, ..., 1, 1, 2]])"
      ]
     },
     "execution_count": 24,
     "metadata": {},
     "output_type": "execute_result"
    }
   ],
   "source": [
    "X"
   ]
  },
  {
   "cell_type": "code",
   "execution_count": 25,
   "id": "2ee5987d-cb78-496b-a0f8-eb3f26f1a5de",
   "metadata": {},
   "outputs": [
    {
     "data": {
      "text/plain": [
       "array(['000', '0070087705', '0134610993', ..., 'φαινίνδα', 'ἐπίσκυρος',\n",
       "       '蹴鞠'], dtype=object)"
      ]
     },
     "execution_count": 25,
     "metadata": {},
     "output_type": "execute_result"
    }
   ],
   "source": [
    "cv.get_feature_names_out()"
   ]
  },
  {
   "cell_type": "code",
   "execution_count": 27,
   "id": "73bebfc4-91ce-43d6-b754-5abd6d0fbfc8",
   "metadata": {},
   "outputs": [
    {
     "data": {
      "text/html": [
       "<div>\n",
       "<style scoped>\n",
       "    .dataframe tbody tr th:only-of-type {\n",
       "        vertical-align: middle;\n",
       "    }\n",
       "\n",
       "    .dataframe tbody tr th {\n",
       "        vertical-align: top;\n",
       "    }\n",
       "\n",
       "    .dataframe thead th {\n",
       "        text-align: right;\n",
       "    }\n",
       "</style>\n",
       "<table border=\"1\" class=\"dataframe\">\n",
       "  <thead>\n",
       "    <tr style=\"text-align: right;\">\n",
       "      <th></th>\n",
       "      <th>000</th>\n",
       "      <th>0070087705</th>\n",
       "      <th>0134610993</th>\n",
       "      <th>0465065707</th>\n",
       "      <th>07</th>\n",
       "      <th>10</th>\n",
       "      <th>100</th>\n",
       "      <th>105</th>\n",
       "      <th>106</th>\n",
       "      <th>11</th>\n",
       "      <th>...</th>\n",
       "      <th>zalta</th>\n",
       "      <th>zealand</th>\n",
       "      <th>zeros</th>\n",
       "      <th>zimbabwe</th>\n",
       "      <th>zones</th>\n",
       "      <th>zürich</th>\n",
       "      <th>čapek</th>\n",
       "      <th>φαινίνδα</th>\n",
       "      <th>ἐπίσκυρος</th>\n",
       "      <th>蹴鞠</th>\n",
       "    </tr>\n",
       "  </thead>\n",
       "  <tbody>\n",
       "    <tr>\n",
       "      <th>0</th>\n",
       "      <td>1</td>\n",
       "      <td>0</td>\n",
       "      <td>0</td>\n",
       "      <td>1</td>\n",
       "      <td>0</td>\n",
       "      <td>2</td>\n",
       "      <td>0</td>\n",
       "      <td>0</td>\n",
       "      <td>0</td>\n",
       "      <td>0</td>\n",
       "      <td>...</td>\n",
       "      <td>0</td>\n",
       "      <td>0</td>\n",
       "      <td>1</td>\n",
       "      <td>0</td>\n",
       "      <td>0</td>\n",
       "      <td>0</td>\n",
       "      <td>0</td>\n",
       "      <td>0</td>\n",
       "      <td>0</td>\n",
       "      <td>0</td>\n",
       "    </tr>\n",
       "    <tr>\n",
       "      <th>1</th>\n",
       "      <td>1</td>\n",
       "      <td>1</td>\n",
       "      <td>1</td>\n",
       "      <td>0</td>\n",
       "      <td>0</td>\n",
       "      <td>1</td>\n",
       "      <td>0</td>\n",
       "      <td>0</td>\n",
       "      <td>0</td>\n",
       "      <td>1</td>\n",
       "      <td>...</td>\n",
       "      <td>1</td>\n",
       "      <td>0</td>\n",
       "      <td>0</td>\n",
       "      <td>0</td>\n",
       "      <td>0</td>\n",
       "      <td>0</td>\n",
       "      <td>1</td>\n",
       "      <td>0</td>\n",
       "      <td>0</td>\n",
       "      <td>0</td>\n",
       "    </tr>\n",
       "    <tr>\n",
       "      <th>2</th>\n",
       "      <td>1</td>\n",
       "      <td>0</td>\n",
       "      <td>0</td>\n",
       "      <td>0</td>\n",
       "      <td>1</td>\n",
       "      <td>0</td>\n",
       "      <td>3</td>\n",
       "      <td>1</td>\n",
       "      <td>0</td>\n",
       "      <td>1</td>\n",
       "      <td>...</td>\n",
       "      <td>0</td>\n",
       "      <td>1</td>\n",
       "      <td>0</td>\n",
       "      <td>0</td>\n",
       "      <td>0</td>\n",
       "      <td>1</td>\n",
       "      <td>0</td>\n",
       "      <td>0</td>\n",
       "      <td>0</td>\n",
       "      <td>1</td>\n",
       "    </tr>\n",
       "    <tr>\n",
       "      <th>3</th>\n",
       "      <td>0</td>\n",
       "      <td>0</td>\n",
       "      <td>0</td>\n",
       "      <td>0</td>\n",
       "      <td>0</td>\n",
       "      <td>4</td>\n",
       "      <td>2</td>\n",
       "      <td>1</td>\n",
       "      <td>0</td>\n",
       "      <td>2</td>\n",
       "      <td>...</td>\n",
       "      <td>0</td>\n",
       "      <td>5</td>\n",
       "      <td>0</td>\n",
       "      <td>2</td>\n",
       "      <td>0</td>\n",
       "      <td>0</td>\n",
       "      <td>0</td>\n",
       "      <td>0</td>\n",
       "      <td>0</td>\n",
       "      <td>0</td>\n",
       "    </tr>\n",
       "    <tr>\n",
       "      <th>4</th>\n",
       "      <td>1</td>\n",
       "      <td>0</td>\n",
       "      <td>0</td>\n",
       "      <td>0</td>\n",
       "      <td>0</td>\n",
       "      <td>1</td>\n",
       "      <td>0</td>\n",
       "      <td>0</td>\n",
       "      <td>1</td>\n",
       "      <td>1</td>\n",
       "      <td>...</td>\n",
       "      <td>0</td>\n",
       "      <td>8</td>\n",
       "      <td>0</td>\n",
       "      <td>0</td>\n",
       "      <td>1</td>\n",
       "      <td>0</td>\n",
       "      <td>0</td>\n",
       "      <td>1</td>\n",
       "      <td>1</td>\n",
       "      <td>2</td>\n",
       "    </tr>\n",
       "  </tbody>\n",
       "</table>\n",
       "<p>5 rows × 6603 columns</p>\n",
       "</div>"
      ],
      "text/plain": [
       "   000  0070087705  0134610993  0465065707  07  10  100  105  106  11  ...  \\\n",
       "0    1           0           0           1   0   2    0    0    0   0  ...   \n",
       "1    1           1           1           0   0   1    0    0    0   1  ...   \n",
       "2    1           0           0           0   1   0    3    1    0   1  ...   \n",
       "3    0           0           0           0   0   4    2    1    0   2  ...   \n",
       "4    1           0           0           0   0   1    0    0    1   1  ...   \n",
       "\n",
       "   zalta  zealand  zeros  zimbabwe  zones  zürich  čapek  φαινίνδα  ἐπίσκυρος  \\\n",
       "0      0        0      1         0      0       0      0         0          0   \n",
       "1      1        0      0         0      0       0      1         0          0   \n",
       "2      0        1      0         0      0       1      0         0          0   \n",
       "3      0        5      0         2      0       0      0         0          0   \n",
       "4      0        8      0         0      1       0      0         1          1   \n",
       "\n",
       "   蹴鞠  \n",
       "0   0  \n",
       "1   0  \n",
       "2   1  \n",
       "3   0  \n",
       "4   2  \n",
       "\n",
       "[5 rows x 6603 columns]"
      ]
     },
     "execution_count": 27,
     "metadata": {},
     "output_type": "execute_result"
    }
   ],
   "source": [
    "pd.DataFrame(X, columns=cv.get_feature_names_out())"
   ]
  },
  {
   "cell_type": "markdown",
   "id": "dcd8c229-b6ef-4b4b-8b74-ad11702f73f2",
   "metadata": {},
   "source": [
    "# Euclidean Distance"
   ]
  },
  {
   "cell_type": "code",
   "execution_count": 31,
   "id": "beff3c07-c526-49fc-9eaf-f339bb0b524c",
   "metadata": {},
   "outputs": [],
   "source": [
    "def euclidean_distance(x,y):\n",
    "    return np.sqrt(np.sum((x - y)**2))\n",
    "    "
   ]
  },
  {
   "cell_type": "code",
   "execution_count": 33,
   "id": "e1adcc53-8169-4ce6-a077-a678da62d2b1",
   "metadata": {},
   "outputs": [],
   "source": [
    "x = np.array([1,3])\n",
    "y = np.array([2,1])"
   ]
  },
  {
   "cell_type": "code",
   "execution_count": 34,
   "id": "e7386048-efc9-4f41-aa93-608d4fb4380d",
   "metadata": {},
   "outputs": [
    {
     "data": {
      "text/plain": [
       "5"
      ]
     },
     "execution_count": 34,
     "metadata": {},
     "output_type": "execute_result"
    }
   ],
   "source": [
    "(1-2)**2 + (3-1)**2"
   ]
  },
  {
   "cell_type": "code",
   "execution_count": 35,
   "id": "8b41af37-62b5-4b2b-946f-ec0213751de1",
   "metadata": {},
   "outputs": [
    {
     "data": {
      "text/plain": [
       "2.23606797749979"
      ]
     },
     "execution_count": 35,
     "metadata": {},
     "output_type": "execute_result"
    }
   ],
   "source": [
    "np.sqrt(5)"
   ]
  },
  {
   "cell_type": "code",
   "execution_count": 37,
   "id": "d4118425-5ffa-426b-9f5b-7dc1b3aac083",
   "metadata": {},
   "outputs": [
    {
     "data": {
      "text/plain": [
       "2.23606797749979"
      ]
     },
     "execution_count": 37,
     "metadata": {},
     "output_type": "execute_result"
    }
   ],
   "source": [
    "euclidean_distance(x,y)"
   ]
  },
  {
   "cell_type": "code",
   "execution_count": 38,
   "id": "9c660139-c4c2-409f-b776-cc8af0256605",
   "metadata": {},
   "outputs": [
    {
     "data": {
      "text/plain": [
       "array([1, 0, 0, ..., 0, 0, 0])"
      ]
     },
     "execution_count": 38,
     "metadata": {},
     "output_type": "execute_result"
    }
   ],
   "source": [
    "X[0]"
   ]
  },
  {
   "cell_type": "code",
   "execution_count": 39,
   "id": "82b9346e-bbe3-472f-be9f-3d0b09aa54d0",
   "metadata": {},
   "outputs": [
    {
     "data": {
      "text/plain": [
       "array([1, 1, 1, ..., 0, 0, 0])"
      ]
     },
     "execution_count": 39,
     "metadata": {},
     "output_type": "execute_result"
    }
   ],
   "source": [
    "X[1]"
   ]
  },
  {
   "cell_type": "code",
   "execution_count": 43,
   "id": "23c37f3a-6071-40d3-bdfd-aeb4b41267d6",
   "metadata": {},
   "outputs": [
    {
     "name": "stdout",
     "output_type": "stream",
     "text": [
      "ML - AI  413.32190844425367\n",
      "ML - Soccer  492.9482731484106\n",
      "ML - Cricket  618.920835002345\n",
      "ML - Football  691.0332842924428\n"
     ]
    }
   ],
   "source": [
    "# Distance Between Machine Learning and Others\n",
    "print(\"ML - AI \",euclidean_distance(X[0],X[1]))\n",
    "print(\"ML - Soccer \",euclidean_distance(X[0],X[2]))\n",
    "print(\"ML - Cricket \",euclidean_distance(X[0],X[3]))\n",
    "print(\"ML - Football \",euclidean_distance(X[0],X[4]))\n"
   ]
  },
  {
   "cell_type": "code",
   "execution_count": 44,
   "id": "61310bc6-156b-469a-bb22-06c6d39b95a1",
   "metadata": {},
   "outputs": [
    {
     "name": "stdout",
     "output_type": "stream",
     "text": [
      "AI  413.32190844425367\n",
      "AI - Soccer  500.4867630617217\n",
      "AI - Cricket  544.8687915452673\n",
      "AI - Football  626.2986508048696\n"
     ]
    }
   ],
   "source": [
    "# Distance Between Artificial Intelligence and others\n",
    "print(\"AI \",euclidean_distance(X[1],X[0]))\n",
    "print(\"AI - Soccer \",euclidean_distance(X[1],X[2]))\n",
    "print(\"AI - Cricket \",euclidean_distance(X[1],X[3]))\n",
    "print(\"AI - Football \",euclidean_distance(X[1],X[4]))"
   ]
  },
  {
   "cell_type": "code",
   "execution_count": 45,
   "id": "87318e7d-a506-434a-b4fa-85d45a9dfa0f",
   "metadata": {},
   "outputs": [
    {
     "name": "stdout",
     "output_type": "stream",
     "text": [
      "Soccer - ML  492.9482731484106\n",
      "Soccer - AI  500.4867630617217\n",
      "Soccer - Cricket  373.6723163414705\n",
      "Soccer - Football  410.53501677688837\n"
     ]
    }
   ],
   "source": [
    "# Distance Between Soccer and others\n",
    "print(\"Soccer - ML \",euclidean_distance(X[2],X[0]))\n",
    "print(\"Soccer - AI \",euclidean_distance(X[2],X[1]))\n",
    "print(\"Soccer - Cricket \",euclidean_distance(X[2],X[3]))\n",
    "print(\"Soccer - Football \",euclidean_distance(X[2],X[4]))"
   ]
  },
  {
   "cell_type": "code",
   "execution_count": 49,
   "id": "621da2b2-3040-442a-bef5-1bcde5a4113c",
   "metadata": {},
   "outputs": [
    {
     "name": "stdout",
     "output_type": "stream",
     "text": [
      "ML :  8323\n",
      "AI :  10539\n",
      "Soccer :  7178\n",
      "Cricket :  8904\n",
      "Football :  10100\n"
     ]
    }
   ],
   "source": [
    "print(\"ML : \",len(q1.split(' ')))\n",
    "print(\"AI : \",len(q2.split(' ')))\n",
    "print(\"Soccer : \",len(q3.split(' ')))\n",
    "print(\"Cricket : \",len(q4.split(' ')))\n",
    "print(\"Football : \",len(q5.split(' ')))"
   ]
  },
  {
   "cell_type": "code",
   "execution_count": null,
   "id": "c48ac7be-ee82-45dd-829a-83bd88c95083",
   "metadata": {},
   "outputs": [],
   "source": [
    "# Whenever the document size is higher the distance will be prioritized or higher"
   ]
  },
  {
   "cell_type": "code",
   "execution_count": null,
   "id": "561ad548-4f22-4c6b-a527-3067788e9e0f",
   "metadata": {},
   "outputs": [],
   "source": []
  },
  {
   "cell_type": "markdown",
   "id": "9b5b6793-4b90-41db-b640-be2d9f369084",
   "metadata": {},
   "source": [
    "# Cosine Similarity "
   ]
  },
  {
   "cell_type": "code",
   "execution_count": 71,
   "id": "7f5f2510-1a89-4a0e-8654-04651c285997",
   "metadata": {},
   "outputs": [],
   "source": [
    "def cosine_similarity(x, y):\n",
    "    return np.dot(x,y)/(np.sqrt(np.dot(x,x)) * np.sqrt(np.dot(y,y)))"
   ]
  },
  {
   "cell_type": "code",
   "execution_count": 51,
   "id": "78f2928d-49e0-4e99-a062-aef9d063ce8a",
   "metadata": {},
   "outputs": [],
   "source": [
    "x = np.array([1,3])\n",
    "y = np.array([2,1])"
   ]
  },
  {
   "cell_type": "code",
   "execution_count": 53,
   "id": "033be6d8-fcd7-4f28-be6c-957da64622ce",
   "metadata": {},
   "outputs": [
    {
     "data": {
      "text/plain": [
       "5"
      ]
     },
     "execution_count": 53,
     "metadata": {},
     "output_type": "execute_result"
    }
   ],
   "source": [
    "1*2 + 3*1"
   ]
  },
  {
   "cell_type": "code",
   "execution_count": 52,
   "id": "fbba8d43-abb4-48bd-953a-4a30a647241d",
   "metadata": {},
   "outputs": [
    {
     "data": {
      "text/plain": [
       "5"
      ]
     },
     "execution_count": 52,
     "metadata": {},
     "output_type": "execute_result"
    }
   ],
   "source": [
    "np.dot(x,y)"
   ]
  },
  {
   "cell_type": "code",
   "execution_count": 55,
   "id": "c3df8c49-59df-42f7-bc6d-d4eab0c807c8",
   "metadata": {},
   "outputs": [
    {
     "data": {
      "text/plain": [
       "10"
      ]
     },
     "execution_count": 55,
     "metadata": {},
     "output_type": "execute_result"
    }
   ],
   "source": [
    "1**2 + 3**2"
   ]
  },
  {
   "cell_type": "code",
   "execution_count": 54,
   "id": "b66d9393-1189-4109-b7b0-91f042a104f2",
   "metadata": {},
   "outputs": [
    {
     "data": {
      "text/plain": [
       "10"
      ]
     },
     "execution_count": 54,
     "metadata": {},
     "output_type": "execute_result"
    }
   ],
   "source": [
    "np.dot(x,x) "
   ]
  },
  {
   "cell_type": "code",
   "execution_count": 56,
   "id": "2cdd7a89-8d33-4517-9115-5894bbfa41ab",
   "metadata": {},
   "outputs": [
    {
     "data": {
      "text/plain": [
       "5"
      ]
     },
     "execution_count": 56,
     "metadata": {},
     "output_type": "execute_result"
    }
   ],
   "source": [
    "np.dot(y,y) "
   ]
  },
  {
   "cell_type": "code",
   "execution_count": 76,
   "id": "5a3c0c04-4ed4-468c-a398-a885d381a71d",
   "metadata": {},
   "outputs": [
    {
     "data": {
      "text/plain": [
       "7.071067811865476"
      ]
     },
     "execution_count": 76,
     "metadata": {},
     "output_type": "execute_result"
    }
   ],
   "source": [
    "np.sqrt(np.dot(x,x))  *  np.sqrt(np.dot(y,y) )"
   ]
  },
  {
   "cell_type": "code",
   "execution_count": 58,
   "id": "668b466b-ac94-46d0-aa9f-28af7cff9a6c",
   "metadata": {},
   "outputs": [
    {
     "data": {
      "text/plain": [
       "3.872983346207417"
      ]
     },
     "execution_count": 58,
     "metadata": {},
     "output_type": "execute_result"
    }
   ],
   "source": [
    "np.sqrt(10 + 5)"
   ]
  },
  {
   "cell_type": "code",
   "execution_count": 77,
   "id": "ad06903e-cec9-45d4-a0a7-910e6b5c76c2",
   "metadata": {},
   "outputs": [
    {
     "data": {
      "text/plain": [
       "0.7071067811865475"
      ]
     },
     "execution_count": 77,
     "metadata": {},
     "output_type": "execute_result"
    }
   ],
   "source": [
    "5/7.071067811865476"
   ]
  },
  {
   "cell_type": "code",
   "execution_count": 78,
   "id": "7a5e09cc-78eb-4185-bdab-7d022856b977",
   "metadata": {},
   "outputs": [
    {
     "data": {
      "text/plain": [
       "0.7071067811865475"
      ]
     },
     "execution_count": 78,
     "metadata": {},
     "output_type": "execute_result"
    }
   ],
   "source": [
    "cosine_similarity(x, y)"
   ]
  },
  {
   "cell_type": "code",
   "execution_count": 72,
   "id": "76a462d2-b815-43b5-bdc2-d20bf1e33895",
   "metadata": {},
   "outputs": [
    {
     "name": "stdout",
     "output_type": "stream",
     "text": [
      "ML - AI  0.9024488387562011\n",
      "ML - Soccer  0.8036447564987467\n",
      "ML - Cricket  0.8099714448530698\n",
      "ML - Football  0.7785076546491277\n"
     ]
    }
   ],
   "source": [
    "# Similarity Between Machine Learning and Others\n",
    "print(\"ML - AI \",cosine_similarity(X[0],X[1]))\n",
    "print(\"ML - Soccer \",cosine_similarity(X[0],X[2]))\n",
    "print(\"ML - Cricket \",cosine_similarity(X[0],X[3]))\n",
    "print(\"ML - Football \",cosine_similarity(X[0],X[4]))"
   ]
  },
  {
   "cell_type": "code",
   "execution_count": 75,
   "id": "17664728-6a77-461a-8f63-247269d5595b",
   "metadata": {},
   "outputs": [
    {
     "name": "stdout",
     "output_type": "stream",
     "text": [
      "AI - ML 0.9024488387562011\n",
      "AI - Soccer  0.8421931182069987\n",
      "AI - Cricket  0.8517747494793314\n",
      "AI - Football  0.8171600216120343\n"
     ]
    }
   ],
   "source": [
    "# Distance Between Artificial Intelligence and others\n",
    "print(\"AI - ML\",cosine_similarity(X[1],X[0]))\n",
    "print(\"AI - Soccer \",cosine_similarity(X[1],X[2]))\n",
    "print(\"AI - Cricket \",cosine_similarity(X[1],X[3]))\n",
    "print(\"AI - Football \",cosine_similarity(X[1],X[4]))"
   ]
  },
  {
   "cell_type": "code",
   "execution_count": 73,
   "id": "2f887191-c14e-4f6b-bbf5-bdfc17ab6201",
   "metadata": {},
   "outputs": [
    {
     "name": "stdout",
     "output_type": "stream",
     "text": [
      "Soccer - ML  0.8036447564987467\n",
      "Soccer - AI  0.8421931182069987\n",
      "Soccer - Cricket  0.9453677961961866\n",
      "Soccer - Football  0.9443129867344253\n"
     ]
    }
   ],
   "source": [
    "# Distance Between Soccer and others\n",
    "print(\"Soccer - ML \",cosine_similarity(X[2],X[0]))\n",
    "print(\"Soccer - AI \",cosine_similarity(X[2],X[1]))\n",
    "print(\"Soccer - Cricket \",cosine_similarity(X[2],X[3]))\n",
    "print(\"Soccer - Football \",cosine_similarity(X[2],X[4]))"
   ]
  },
  {
   "cell_type": "code",
   "execution_count": null,
   "id": "4f76fd8d-daed-42c2-b12f-7efde8db9f2b",
   "metadata": {},
   "outputs": [],
   "source": []
  }
 ],
 "metadata": {
  "kernelspec": {
   "display_name": "Python 3 (ipykernel)",
   "language": "python",
   "name": "python3"
  },
  "language_info": {
   "codemirror_mode": {
    "name": "ipython",
    "version": 3
   },
   "file_extension": ".py",
   "mimetype": "text/x-python",
   "name": "python",
   "nbconvert_exporter": "python",
   "pygments_lexer": "ipython3",
   "version": "3.11.6"
  }
 },
 "nbformat": 4,
 "nbformat_minor": 5
}
