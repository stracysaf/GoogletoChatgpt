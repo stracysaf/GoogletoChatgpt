{
 "cells": [
  {
   "cell_type": "code",
   "execution_count": 2,
   "id": "a7fb55fd-f8e0-46d2-9920-dcd266214ed7",
   "metadata": {
    "scrolled": true
   },
   "outputs": [
    {
     "name": "stdout",
     "output_type": "stream",
     "text": [
      "Collecting wikipedia\n",
      "  Downloading wikipedia-1.4.0.tar.gz (27 kB)\n",
      "  Preparing metadata (setup.py) ... \u001b[?25ldone\n",
      "\u001b[?25hRequirement already satisfied: beautifulsoup4 in /opt/homebrew/lib/python3.11/site-packages (from wikipedia) (4.12.2)\n",
      "Requirement already satisfied: requests<3.0.0,>=2.0.0 in /opt/homebrew/lib/python3.11/site-packages (from wikipedia) (2.31.0)\n",
      "Requirement already satisfied: charset-normalizer<4,>=2 in /opt/homebrew/lib/python3.11/site-packages (from requests<3.0.0,>=2.0.0->wikipedia) (3.3.2)\n",
      "Requirement already satisfied: idna<4,>=2.5 in /opt/homebrew/lib/python3.11/site-packages (from requests<3.0.0,>=2.0.0->wikipedia) (3.4)\n",
      "Requirement already satisfied: urllib3<3,>=1.21.1 in /opt/homebrew/lib/python3.11/site-packages (from requests<3.0.0,>=2.0.0->wikipedia) (2.1.0)\n",
      "Requirement already satisfied: certifi>=2017.4.17 in /opt/homebrew/lib/python3.11/site-packages (from requests<3.0.0,>=2.0.0->wikipedia) (2023.7.22)\n",
      "Requirement already satisfied: soupsieve>1.2 in /opt/homebrew/lib/python3.11/site-packages (from beautifulsoup4->wikipedia) (2.5)\n",
      "Building wheels for collected packages: wikipedia\n",
      "  Building wheel for wikipedia (setup.py) ... \u001b[?25ldone\n",
      "\u001b[?25h  Created wheel for wikipedia: filename=wikipedia-1.4.0-py3-none-any.whl size=11679 sha256=9fe35fcd222097ccb57a426178699ac8c3dbb11e4af28fb0f05438865a813447\n",
      "  Stored in directory: /Users/m.alaudeen/Library/Caches/pip/wheels/8f/ab/cb/45ccc40522d3a1c41e1d2ad53b8f33a62f394011ec38cd71c6\n",
      "Successfully built wikipedia\n",
      "Installing collected packages: wikipedia\n",
      "Successfully installed wikipedia-1.4.0\n",
      "\n",
      "\u001b[1m[\u001b[0m\u001b[34;49mnotice\u001b[0m\u001b[1;39;49m]\u001b[0m\u001b[39;49m A new release of pip is available: \u001b[0m\u001b[31;49m23.3.2\u001b[0m\u001b[39;49m -> \u001b[0m\u001b[32;49m24.0\u001b[0m\n",
      "\u001b[1m[\u001b[0m\u001b[34;49mnotice\u001b[0m\u001b[1;39;49m]\u001b[0m\u001b[39;49m To update, run: \u001b[0m\u001b[32;49mpython3.11 -m pip install --upgrade pip\u001b[0m\n"
     ]
    }
   ],
   "source": [
    "!pip install wikipedia"
   ]
  },
  {
   "cell_type": "code",
   "execution_count": 1,
   "id": "a8e58435-46d0-42f1-9216-9af71e9a7c4a",
   "metadata": {},
   "outputs": [],
   "source": [
    "import wikipedia"
   ]
  },
  {
   "cell_type": "code",
   "execution_count": 11,
   "id": "83f4aa9a-61bc-4cc7-817c-349f86b51f71",
   "metadata": {},
   "outputs": [],
   "source": [
    "q1 = wikipedia.page('honda motor').content\n",
    "q2 = wikipedia.page('Hyundai Motor Group').content\n",
    "q3 = wikipedia.page('dell corporation').content\n",
    "q4 = wikipedia.page('Hewlett-Packard').content\n",
    "q5 = wikipedia.page('biryani').content"
   ]
  },
  {
   "cell_type": "code",
   "execution_count": 14,
   "id": "6344d650-456b-4df2-a880-247c4acff9fe",
   "metadata": {},
   "outputs": [],
   "source": [
    "# Evaluation Metric\n",
    "# q1 more similar q2\n",
    "# q3 more similar q5"
   ]
  },
  {
   "cell_type": "code",
   "execution_count": 15,
   "id": "d594afe9-e636-439e-86a0-8cdb7f2b3617",
   "metadata": {},
   "outputs": [],
   "source": [
    "from sklearn.feature_extraction.text import CountVectorizer\n",
    "import numpy as np\n",
    "import pandas as pd"
   ]
  },
  {
   "cell_type": "code",
   "execution_count": 16,
   "id": "85a88442-0742-42b1-adf4-25151952dc87",
   "metadata": {},
   "outputs": [],
   "source": [
    "#Bag Of Words (BOW)\n",
    "cv = CountVectorizer()\n",
    "X = np.array(cv.fit_transform([q1, q2, q3, q4, q5]).todense())"
   ]
  },
  {
   "cell_type": "code",
   "execution_count": 17,
   "id": "cc04f87f-cbf8-49df-9742-549725230888",
   "metadata": {},
   "outputs": [
    {
     "data": {
      "text/plain": [
       "array([[15,  0,  1, ...,  0,  0,  1],\n",
       "       [ 0,  0,  0, ...,  0,  0,  0],\n",
       "       [ 0,  0,  0, ...,  0,  0,  0],\n",
       "       [12,  1,  0, ...,  0,  0,  0],\n",
       "       [ 0,  0,  0, ...,  1,  1,  0]])"
      ]
     },
     "execution_count": 17,
     "metadata": {},
     "output_type": "execute_result"
    }
   ],
   "source": [
    "X"
   ]
  },
  {
   "cell_type": "code",
   "execution_count": 18,
   "id": "2ee5987d-cb78-496b-a0f8-eb3f26f1a5de",
   "metadata": {},
   "outputs": [
    {
     "data": {
      "text/plain": [
       "array(['000', '00537897', '007', ..., 'ထမင', 'နတ', '本田技研工業株式会社'],\n",
       "      dtype=object)"
      ]
     },
     "execution_count": 18,
     "metadata": {},
     "output_type": "execute_result"
    }
   ],
   "source": [
    "cv.get_feature_names_out()"
   ]
  },
  {
   "cell_type": "code",
   "execution_count": 19,
   "id": "73bebfc4-91ce-43d6-b754-5abd6d0fbfc8",
   "metadata": {},
   "outputs": [
    {
     "data": {
      "text/html": [
       "<div>\n",
       "<style scoped>\n",
       "    .dataframe tbody tr th:only-of-type {\n",
       "        vertical-align: middle;\n",
       "    }\n",
       "\n",
       "    .dataframe tbody tr th {\n",
       "        vertical-align: top;\n",
       "    }\n",
       "\n",
       "    .dataframe thead th {\n",
       "        text-align: right;\n",
       "    }\n",
       "</style>\n",
       "<table border=\"1\" class=\"dataframe\">\n",
       "  <thead>\n",
       "    <tr style=\"text-align: right;\">\n",
       "      <th></th>\n",
       "      <th>000</th>\n",
       "      <th>00537897</th>\n",
       "      <th>007</th>\n",
       "      <th>01</th>\n",
       "      <th>05</th>\n",
       "      <th>07</th>\n",
       "      <th>10</th>\n",
       "      <th>100</th>\n",
       "      <th>1000</th>\n",
       "      <th>104</th>\n",
       "      <th>...</th>\n",
       "      <th>ˈhjəːndɛ</th>\n",
       "      <th>برشتن</th>\n",
       "      <th>برنج</th>\n",
       "      <th>برياني</th>\n",
       "      <th>بریان</th>\n",
       "      <th>پلو</th>\n",
       "      <th>าวหมก</th>\n",
       "      <th>ထမင</th>\n",
       "      <th>နတ</th>\n",
       "      <th>本田技研工業株式会社</th>\n",
       "    </tr>\n",
       "  </thead>\n",
       "  <tbody>\n",
       "    <tr>\n",
       "      <th>0</th>\n",
       "      <td>15</td>\n",
       "      <td>0</td>\n",
       "      <td>1</td>\n",
       "      <td>1</td>\n",
       "      <td>0</td>\n",
       "      <td>0</td>\n",
       "      <td>0</td>\n",
       "      <td>10</td>\n",
       "      <td>0</td>\n",
       "      <td>0</td>\n",
       "      <td>...</td>\n",
       "      <td>0</td>\n",
       "      <td>0</td>\n",
       "      <td>0</td>\n",
       "      <td>0</td>\n",
       "      <td>0</td>\n",
       "      <td>0</td>\n",
       "      <td>0</td>\n",
       "      <td>0</td>\n",
       "      <td>0</td>\n",
       "      <td>1</td>\n",
       "    </tr>\n",
       "    <tr>\n",
       "      <th>1</th>\n",
       "      <td>0</td>\n",
       "      <td>0</td>\n",
       "      <td>0</td>\n",
       "      <td>1</td>\n",
       "      <td>0</td>\n",
       "      <td>0</td>\n",
       "      <td>0</td>\n",
       "      <td>0</td>\n",
       "      <td>0</td>\n",
       "      <td>0</td>\n",
       "      <td>...</td>\n",
       "      <td>1</td>\n",
       "      <td>0</td>\n",
       "      <td>0</td>\n",
       "      <td>0</td>\n",
       "      <td>0</td>\n",
       "      <td>0</td>\n",
       "      <td>0</td>\n",
       "      <td>0</td>\n",
       "      <td>0</td>\n",
       "      <td>0</td>\n",
       "    </tr>\n",
       "    <tr>\n",
       "      <th>2</th>\n",
       "      <td>0</td>\n",
       "      <td>0</td>\n",
       "      <td>0</td>\n",
       "      <td>0</td>\n",
       "      <td>2</td>\n",
       "      <td>0</td>\n",
       "      <td>1</td>\n",
       "      <td>0</td>\n",
       "      <td>0</td>\n",
       "      <td>0</td>\n",
       "      <td>...</td>\n",
       "      <td>0</td>\n",
       "      <td>0</td>\n",
       "      <td>0</td>\n",
       "      <td>0</td>\n",
       "      <td>0</td>\n",
       "      <td>0</td>\n",
       "      <td>0</td>\n",
       "      <td>0</td>\n",
       "      <td>0</td>\n",
       "      <td>0</td>\n",
       "    </tr>\n",
       "    <tr>\n",
       "      <th>3</th>\n",
       "      <td>12</td>\n",
       "      <td>1</td>\n",
       "      <td>0</td>\n",
       "      <td>0</td>\n",
       "      <td>0</td>\n",
       "      <td>2</td>\n",
       "      <td>4</td>\n",
       "      <td>4</td>\n",
       "      <td>4</td>\n",
       "      <td>1</td>\n",
       "      <td>...</td>\n",
       "      <td>0</td>\n",
       "      <td>0</td>\n",
       "      <td>0</td>\n",
       "      <td>0</td>\n",
       "      <td>0</td>\n",
       "      <td>0</td>\n",
       "      <td>0</td>\n",
       "      <td>0</td>\n",
       "      <td>0</td>\n",
       "      <td>0</td>\n",
       "    </tr>\n",
       "    <tr>\n",
       "      <th>4</th>\n",
       "      <td>0</td>\n",
       "      <td>0</td>\n",
       "      <td>0</td>\n",
       "      <td>0</td>\n",
       "      <td>0</td>\n",
       "      <td>0</td>\n",
       "      <td>0</td>\n",
       "      <td>0</td>\n",
       "      <td>0</td>\n",
       "      <td>0</td>\n",
       "      <td>...</td>\n",
       "      <td>0</td>\n",
       "      <td>1</td>\n",
       "      <td>1</td>\n",
       "      <td>1</td>\n",
       "      <td>2</td>\n",
       "      <td>1</td>\n",
       "      <td>1</td>\n",
       "      <td>1</td>\n",
       "      <td>1</td>\n",
       "      <td>0</td>\n",
       "    </tr>\n",
       "  </tbody>\n",
       "</table>\n",
       "<p>5 rows × 4602 columns</p>\n",
       "</div>"
      ],
      "text/plain": [
       "   000  00537897  007  01  05  07  10  100  1000  104  ...  ˈhjəːndɛ  برشتن  \\\n",
       "0   15         0    1   1   0   0   0   10     0    0  ...         0      0   \n",
       "1    0         0    0   1   0   0   0    0     0    0  ...         1      0   \n",
       "2    0         0    0   0   2   0   1    0     0    0  ...         0      0   \n",
       "3   12         1    0   0   0   2   4    4     4    1  ...         0      0   \n",
       "4    0         0    0   0   0   0   0    0     0    0  ...         0      1   \n",
       "\n",
       "   برنج  برياني  بریان  پلو  าวหมก  ထမင  နတ  本田技研工業株式会社  \n",
       "0     0       0      0    0      0    0   0           1  \n",
       "1     0       0      0    0      0    0   0           0  \n",
       "2     0       0      0    0      0    0   0           0  \n",
       "3     0       0      0    0      0    0   0           0  \n",
       "4     1       1      2    1      1    1   1           0  \n",
       "\n",
       "[5 rows x 4602 columns]"
      ]
     },
     "execution_count": 19,
     "metadata": {},
     "output_type": "execute_result"
    }
   ],
   "source": [
    "pd.DataFrame(X, columns=cv.get_feature_names_out())"
   ]
  },
  {
   "cell_type": "markdown",
   "id": "dcd8c229-b6ef-4b4b-8b74-ad11702f73f2",
   "metadata": {},
   "source": [
    "# Euclidean Distance"
   ]
  },
  {
   "cell_type": "code",
   "execution_count": 20,
   "id": "beff3c07-c526-49fc-9eaf-f339bb0b524c",
   "metadata": {},
   "outputs": [],
   "source": [
    "def euclidean_distance(x,y):\n",
    "    return np.sqrt(np.sum((x - y)**2))\n",
    "    "
   ]
  },
  {
   "cell_type": "code",
   "execution_count": 21,
   "id": "e1adcc53-8169-4ce6-a077-a678da62d2b1",
   "metadata": {},
   "outputs": [],
   "source": [
    "x = np.array([1,3])\n",
    "y = np.array([2,1])"
   ]
  },
  {
   "cell_type": "code",
   "execution_count": 22,
   "id": "e7386048-efc9-4f41-aa93-608d4fb4380d",
   "metadata": {},
   "outputs": [
    {
     "data": {
      "text/plain": [
       "5"
      ]
     },
     "execution_count": 22,
     "metadata": {},
     "output_type": "execute_result"
    }
   ],
   "source": [
    "(1-2)**2 + (3-1)**2"
   ]
  },
  {
   "cell_type": "code",
   "execution_count": 23,
   "id": "8b41af37-62b5-4b2b-946f-ec0213751de1",
   "metadata": {},
   "outputs": [
    {
     "data": {
      "text/plain": [
       "2.23606797749979"
      ]
     },
     "execution_count": 23,
     "metadata": {},
     "output_type": "execute_result"
    }
   ],
   "source": [
    "np.sqrt(5)"
   ]
  },
  {
   "cell_type": "code",
   "execution_count": 24,
   "id": "d4118425-5ffa-426b-9f5b-7dc1b3aac083",
   "metadata": {},
   "outputs": [
    {
     "data": {
      "text/plain": [
       "2.23606797749979"
      ]
     },
     "execution_count": 24,
     "metadata": {},
     "output_type": "execute_result"
    }
   ],
   "source": [
    "euclidean_distance(x,y)"
   ]
  },
  {
   "cell_type": "code",
   "execution_count": 25,
   "id": "9c660139-c4c2-409f-b776-cc8af0256605",
   "metadata": {},
   "outputs": [
    {
     "data": {
      "text/plain": [
       "array([15,  0,  1, ...,  0,  0,  1])"
      ]
     },
     "execution_count": 25,
     "metadata": {},
     "output_type": "execute_result"
    }
   ],
   "source": [
    "X[0]"
   ]
  },
  {
   "cell_type": "code",
   "execution_count": 26,
   "id": "82b9346e-bbe3-472f-be9f-3d0b09aa54d0",
   "metadata": {},
   "outputs": [
    {
     "data": {
      "text/plain": [
       "array([0, 0, 0, ..., 0, 0, 0])"
      ]
     },
     "execution_count": 26,
     "metadata": {},
     "output_type": "execute_result"
    }
   ],
   "source": [
    "X[1]"
   ]
  },
  {
   "cell_type": "code",
   "execution_count": 28,
   "id": "23c37f3a-6071-40d3-bdfd-aeb4b41267d6",
   "metadata": {},
   "outputs": [
    {
     "name": "stdout",
     "output_type": "stream",
     "text": [
      "Honda - Hyndai  886.0445812711683\n",
      "Honda - DELL  880.1880480897249\n",
      "Honda - HP  566.3947386761286\n",
      "Honda - Biryani  680.359463813064\n"
     ]
    }
   ],
   "source": [
    "# Distance Between HONDA and Others\n",
    "print(\"Honda - Hyndai \",euclidean_distance(X[0],X[1]))\n",
    "print(\"Honda - DELL \",euclidean_distance(X[0],X[2]))\n",
    "print(\"Honda - HP \",euclidean_distance(X[0],X[3]))\n",
    "print(\"Honda - Biryani \",euclidean_distance(X[0],X[4]))\n"
   ]
  },
  {
   "cell_type": "code",
   "execution_count": 31,
   "id": "61310bc6-156b-469a-bb22-06c6d39b95a1",
   "metadata": {},
   "outputs": [
    {
     "name": "stdout",
     "output_type": "stream",
     "text": [
      "DELL - HONDA 880.1880480897249\n",
      "DELL - HYNDAI  63.29296959378664\n",
      "DELL - HP  690.761898196477\n",
      "DELL - BIRYANI  400.1949524919074\n"
     ]
    }
   ],
   "source": [
    "# Distance Between DELL and others\n",
    "print(\"DELL - HONDA\",euclidean_distance(X[2],X[0]))\n",
    "print(\"DELL - HYNDAI \",euclidean_distance(X[2],X[1]))\n",
    "print(\"DELL - HP \",euclidean_distance(X[2],X[3]))\n",
    "print(\"DELL - BIRYANI \",euclidean_distance(X[2],X[4]))"
   ]
  },
  {
   "cell_type": "code",
   "execution_count": 32,
   "id": "621da2b2-3040-442a-bef5-1bcde5a4113c",
   "metadata": {},
   "outputs": [
    {
     "name": "stdout",
     "output_type": "stream",
     "text": [
      "HONDA :  8474\n",
      "HYNDAI :  604\n",
      "DELL :  676\n",
      "HP :  7611\n",
      "BIRYANI :  4196\n"
     ]
    }
   ],
   "source": [
    "print(\"HONDA : \",len(q1.split(' ')))\n",
    "print(\"HYNDAI : \",len(q2.split(' ')))\n",
    "print(\"DELL : \",len(q3.split(' ')))\n",
    "print(\"HP : \",len(q4.split(' ')))\n",
    "print(\"BIRYANI : \",len(q5.split(' ')))"
   ]
  },
  {
   "cell_type": "code",
   "execution_count": null,
   "id": "c48ac7be-ee82-45dd-829a-83bd88c95083",
   "metadata": {},
   "outputs": [],
   "source": [
    "# Whenever the document size is higher the distance will be prioritized or higher"
   ]
  },
  {
   "cell_type": "code",
   "execution_count": null,
   "id": "561ad548-4f22-4c6b-a527-3067788e9e0f",
   "metadata": {},
   "outputs": [],
   "source": []
  },
  {
   "cell_type": "markdown",
   "id": "9b5b6793-4b90-41db-b640-be2d9f369084",
   "metadata": {},
   "source": [
    "# Cosine Similarity "
   ]
  },
  {
   "cell_type": "code",
   "execution_count": 33,
   "id": "7f5f2510-1a89-4a0e-8654-04651c285997",
   "metadata": {},
   "outputs": [],
   "source": [
    "def cosine_similarity(x, y):\n",
    "    return np.dot(x,y)/(np.sqrt(np.dot(x,x)) * np.sqrt(np.dot(y,y)))"
   ]
  },
  {
   "cell_type": "code",
   "execution_count": 34,
   "id": "78f2928d-49e0-4e99-a062-aef9d063ce8a",
   "metadata": {},
   "outputs": [],
   "source": [
    "x = np.array([1,3])\n",
    "y = np.array([2,1])"
   ]
  },
  {
   "cell_type": "code",
   "execution_count": 35,
   "id": "033be6d8-fcd7-4f28-be6c-957da64622ce",
   "metadata": {},
   "outputs": [
    {
     "data": {
      "text/plain": [
       "5"
      ]
     },
     "execution_count": 35,
     "metadata": {},
     "output_type": "execute_result"
    }
   ],
   "source": [
    "1*2 + 3*1"
   ]
  },
  {
   "cell_type": "code",
   "execution_count": 36,
   "id": "fbba8d43-abb4-48bd-953a-4a30a647241d",
   "metadata": {},
   "outputs": [
    {
     "data": {
      "text/plain": [
       "5"
      ]
     },
     "execution_count": 36,
     "metadata": {},
     "output_type": "execute_result"
    }
   ],
   "source": [
    "np.dot(x,y)"
   ]
  },
  {
   "cell_type": "code",
   "execution_count": 37,
   "id": "c3df8c49-59df-42f7-bc6d-d4eab0c807c8",
   "metadata": {},
   "outputs": [
    {
     "data": {
      "text/plain": [
       "10"
      ]
     },
     "execution_count": 37,
     "metadata": {},
     "output_type": "execute_result"
    }
   ],
   "source": [
    "1**2 + 3**2"
   ]
  },
  {
   "cell_type": "code",
   "execution_count": 38,
   "id": "b66d9393-1189-4109-b7b0-91f042a104f2",
   "metadata": {},
   "outputs": [
    {
     "data": {
      "text/plain": [
       "10"
      ]
     },
     "execution_count": 38,
     "metadata": {},
     "output_type": "execute_result"
    }
   ],
   "source": [
    "np.dot(x,x) "
   ]
  },
  {
   "cell_type": "code",
   "execution_count": 39,
   "id": "2cdd7a89-8d33-4517-9115-5894bbfa41ab",
   "metadata": {},
   "outputs": [
    {
     "data": {
      "text/plain": [
       "5"
      ]
     },
     "execution_count": 39,
     "metadata": {},
     "output_type": "execute_result"
    }
   ],
   "source": [
    "np.dot(y,y) "
   ]
  },
  {
   "cell_type": "code",
   "execution_count": 46,
   "id": "5a3c0c04-4ed4-468c-a398-a885d381a71d",
   "metadata": {},
   "outputs": [
    {
     "data": {
      "text/plain": [
       "7.071067811865476"
      ]
     },
     "execution_count": 46,
     "metadata": {},
     "output_type": "execute_result"
    }
   ],
   "source": [
    "np.sqrt(np.dot(x,x)) *  np.sqrt(np.dot(y,y) )"
   ]
  },
  {
   "cell_type": "code",
   "execution_count": 47,
   "id": "668b466b-ac94-46d0-aa9f-28af7cff9a6c",
   "metadata": {},
   "outputs": [
    {
     "data": {
      "text/plain": [
       "3.872983346207417"
      ]
     },
     "execution_count": 47,
     "metadata": {},
     "output_type": "execute_result"
    }
   ],
   "source": [
    "np.sqrt(10 + 5)"
   ]
  },
  {
   "cell_type": "code",
   "execution_count": 53,
   "id": "ad06903e-cec9-45d4-a0a7-910e6b5c76c2",
   "metadata": {},
   "outputs": [
    {
     "data": {
      "text/plain": [
       "0.7071067811865475"
      ]
     },
     "execution_count": 53,
     "metadata": {},
     "output_type": "execute_result"
    }
   ],
   "source": [
    "5/7.071067811865476"
   ]
  },
  {
   "cell_type": "code",
   "execution_count": 52,
   "id": "7a5e09cc-78eb-4185-bdab-7d022856b977",
   "metadata": {},
   "outputs": [
    {
     "data": {
      "text/plain": [
       "0.7071067811865475"
      ]
     },
     "execution_count": 52,
     "metadata": {},
     "output_type": "execute_result"
    }
   ],
   "source": [
    "cosine_similarity(x, y)"
   ]
  },
  {
   "cell_type": "code",
   "execution_count": 44,
   "id": "76a462d2-b815-43b5-bdc2-d20bf1e33895",
   "metadata": {},
   "outputs": [
    {
     "name": "stdout",
     "output_type": "stream",
     "text": [
      "Honda - Hyndai  0.7223516293224359\n",
      "Honda - DELL  0.6886797462032319\n",
      "Honda - HP  0.7939763176815907\n",
      "Honda - Biryani  0.7268147748697233\n"
     ]
    }
   ],
   "source": [
    "# Distance Between HONDA and Others\n",
    "print(\"Honda - Hyndai \",cosine_similarity(X[0],X[1]))\n",
    "print(\"Honda - DELL \",cosine_similarity(X[0],X[2]))\n",
    "print(\"Honda - HP \",cosine_similarity(X[0],X[3]))\n",
    "print(\"Honda - Biryani \",cosine_similarity(X[0],X[4]))"
   ]
  },
  {
   "cell_type": "code",
   "execution_count": 45,
   "id": "2f887191-c14e-4f6b-bbf5-bdfc17ab6201",
   "metadata": {},
   "outputs": [
    {
     "name": "stdout",
     "output_type": "stream",
     "text": [
      "DELL - HONDA 0.6886797462032319\n",
      "DELL - HYNDAI  0.6141084209403155\n",
      "DELL - HP  0.7558227324853434\n",
      "DELL - BIRYANI  0.6467220710388738\n"
     ]
    }
   ],
   "source": [
    "# Distance Between DELL and others\n",
    "print(\"DELL - HONDA\",cosine_similarity(X[2],X[0]))\n",
    "print(\"DELL - HYNDAI \",cosine_similarity(X[2],X[1]))\n",
    "print(\"DELL - HP \",cosine_similarity(X[2],X[3]))\n",
    "print(\"DELL - BIRYANI \",cosine_similarity(X[2],X[4]))"
   ]
  },
  {
   "cell_type": "code",
   "execution_count": null,
   "id": "2260b245-a480-49c7-ac58-722f0a9e8fe8",
   "metadata": {},
   "outputs": [],
   "source": []
  }
 ],
 "metadata": {
  "kernelspec": {
   "display_name": "Python 3 (ipykernel)",
   "language": "python",
   "name": "python3"
  },
  "language_info": {
   "codemirror_mode": {
    "name": "ipython",
    "version": 3
   },
   "file_extension": ".py",
   "mimetype": "text/x-python",
   "name": "python",
   "nbconvert_exporter": "python",
   "pygments_lexer": "ipython3",
   "version": "3.11.6"
  }
 },
 "nbformat": 4,
 "nbformat_minor": 5
}
