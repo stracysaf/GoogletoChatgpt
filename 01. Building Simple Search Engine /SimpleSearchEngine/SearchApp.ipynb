{
 "cells": [
  {
   "cell_type": "code",
   "execution_count": 8,
   "id": "25c902a5-a99f-4107-bf91-5845869baf95",
   "metadata": {},
   "outputs": [],
   "source": [
    "import pickle\n",
    "from utility import preprocess_text"
   ]
  },
  {
   "cell_type": "code",
   "execution_count": 9,
   "id": "33cf368e-acac-4ad5-ac88-3ae421886d7d",
   "metadata": {},
   "outputs": [],
   "source": [
    "with open('index.pkl', 'rb') as f:\n",
    "    index = pickle.load(f)"
   ]
  },
  {
   "cell_type": "code",
   "execution_count": 10,
   "id": "882670d3-6ee4-48e7-bd07-9f0b8d95cb9b",
   "metadata": {},
   "outputs": [],
   "source": [
    "with open('document_details.pkl', 'rb') as f:\n",
    "    document_details = pickle.load(f)"
   ]
  },
  {
   "cell_type": "code",
   "execution_count": 17,
   "id": "eb6795ec-2c8e-4cbb-9ec6-789ccbb3ca27",
   "metadata": {},
   "outputs": [],
   "source": [
    "def search(query, index):\n",
    "    query_preprocess = preprocess_text(query)\n",
    "    results = set()\n",
    "    for word in query_preprocess.split(' '):\n",
    "        if word in index:\n",
    "            if not results:\n",
    "                results = index[word]\n",
    "            else:\n",
    "                results = results.union(index[word])\n",
    "        else:\n",
    "            set()\n",
    "    if results:\n",
    "        results = list(results)\n",
    "        results = results[:20]\n",
    "        document_result = []\n",
    "        for doc_id in results:\n",
    "            doc = document_details[doc_id]   \n",
    "            document_result.append([doc['title'],doc['url'],doc['abstract'] ])\n",
    "    else:\n",
    "        print(\"No result found\")\n",
    "    return document_result"
   ]
  },
  {
   "cell_type": "code",
   "execution_count": 19,
   "id": "81d9e078-f2f5-4942-9bf4-0ccb33d160ba",
   "metadata": {},
   "outputs": [],
   "source": [
    "result = search(\"india\", index)"
   ]
  },
  {
   "cell_type": "code",
   "execution_count": 20,
   "id": "87364135-d523-4bb9-becf-7467b0268a77",
   "metadata": {
    "scrolled": true
   },
   "outputs": [
    {
     "data": {
      "text/plain": [
       "[['Wikipedia: English cuisine',\n",
       "  'https://en.wikipedia.org/wiki/English_cuisine',\n",
       "  'English cuisine encompasses the cooking styles, traditions and recipes associated with England. It has distinctive attributes of its own, but is also very similar to wider British cuisine, partly historically and partly due to the import of ingredients and ideas from the Americas, China, and India during the time of the British Empire and as a result of post-war immigration.'],\n",
       " ['Wikipedia: Ravi Shankar',\n",
       "  'https://en.wikipedia.org/wiki/Ravi_Shankar',\n",
       "  '| birth_place      = Benares, Benares State, British India'],\n",
       " ['Wikipedia: Star of India (ship)',\n",
       "  'https://en.wikipedia.org/wiki/Star_of_India_(ship)',\n",
       "  'Star of India is an iron-hulled sailing ship, built in 1863 in Ramsey, Isle of Man as the full-rigged ship Euterpe. After a career sailing from Great Britain to India and New Zealand, she was renamed, re-rigged as a barque, and became a salmon hauler on the Alaska to California route.'],\n",
       " [\"Wikipedia: Pascal's triangle\",\n",
       "  'https://en.wikipedia.org/wiki/Pascal%27s_triangle',\n",
       "  \"In mathematics, Pascal's triangle is a triangular array of the binomial coefficients arising in probability theory, combinatorics, and algebra. In much of the Western world, it is named after the French mathematician Blaise Pascal, although other mathematicians studied it centuries before him in Persia, India,Maurice Winternitz, History of Indian Literature, Vol.\"],\n",
       " ['Wikipedia: Star of India',\n",
       "  'https://en.wikipedia.org/wiki/Star_of_India',\n",
       "  'The Star of India may refer to:'],\n",
       " ['Wikipedia: Orange (colour)',\n",
       "  'https://en.wikipedia.org/wiki/Orange_(colour)',\n",
       "  '| caption= Clockwise, from top left: Delicate Arch, Utah; ISS astronauts wearing space suits; man in traditional Hindu attire, India; the Netherlands national football team; the Golden Gate Bridge; a Japanese maple tree.'],\n",
       " ['Wikipedia: Gauri (raga)',\n",
       "  'https://en.wikipedia.org/wiki/Gauri_(raga)',\n",
       "  'Gauri is an India musical raga that appears in the Sikh tradition from northern India and is part of the Sikh holy scripture called Sri Guru Granth Sahib. Every raga has a strict set of rules which govern the number of notes that can be used; which notes can be used; and their interplay that has to be adhered to for the composition of a tune.'],\n",
       " ['Wikipedia: List of national parks of India',\n",
       "  'https://en.wikipedia.org/wiki/List_of_national_parks_of_India',\n",
       "  \"National parks in India are International Union for Conservation of Nature (IUCN) category II protected areas. India's first national park was established in 1936, now known as Jim Corbett National Park, in Uttarakhand.\"],\n",
       " ['Wikipedia: List of capitals of India',\n",
       "  'https://en.wikipedia.org/wiki/List_of_capitals_of_India',\n",
       "  'This is a list of locations which have served as the capital city of major historical empires  in the Indian subcontinent as well as the modern day nation of India since 1858. The current capital city of the Indian Republic is New Delhi, which replaced Calcutta in 1911.'],\n",
       " ['Wikipedia: Gujarati language',\n",
       "  'https://en.wikipedia.org/wiki/Gujarati_language',\n",
       "  '| states           = India'],\n",
       " ['Wikipedia: Amarasimha',\n",
       "  'https://en.wikipedia.org/wiki/Amarasimha',\n",
       "  'Amarasimha (IAST: , ) was a Sanskrit grammarian and poet from ancient India, of whose personal history hardly anything is known. He is said to have been \"one of the nine gems that adorned the throne of Vikramaditya,\" and according to the evidence of Xuanzang, this is the Chandragupta Vikramaditya (Chandragupta II) who flourished about CE 375.'],\n",
       " ['Wikipedia: 1770s',\n",
       "  'https://en.wikipedia.org/wiki/1770s',\n",
       "  \"File:1770s montage.jpg|thumb|335x335px|From top left, clockwise: Englishmen and sailor James Cook concludes his inaugural and embarks on his second voyage, leaving a trail of significant milestones along its way such as the discovery of New Caledonia, Australia, Tahiti, the Antarctic Circle, and becoming the first humans to witness Antarctic waters as pictured; The United States Declaration of Independence was unanimously signed and adopted by the Second Continental Congress, announcing the colonies' intention to separate from Great Britain; Company rule in India establishes governance over India for the first time at Calcutta, giving way for British colonialism over the Indian subcontinent, and eventually Western imperialism in Asia; Nitrogen gas was isolated from air by Scottish scientist Daniel Rutherford; Amazing Grace was sung for the first time as a hymn in Buckinghamshire, England at 1773; Chemist Carl Wilhelm Scheele made several breakthroughs in chemistry by discovering five chemical elements, namely\"],\n",
       " ['Wikipedia: Areca',\n",
       "  'https://en.wikipedia.org/wiki/Areca',\n",
       "  'Areca is a genus of 51 species of palms in the family Arecaceae, found in humid tropical forests from the islands of the Philippines, Malaysia and India, across Southeast Asia to Melanesia.Kew World Checklist of Selected Plant Families The generic name Areca is derived from a name used locally on the Malabar Coast of India.'],\n",
       " ['Wikipedia: Julia Margaret Cameron',\n",
       "  'https://en.wikipedia.org/wiki/Julia_Margaret_Cameron',\n",
       "  '| birth_place = Calcutta, British India'],\n",
       " ['Wikipedia: Sind Province (1936–1955)',\n",
       "  'https://en.wikipedia.org/wiki/Sind_Province_(1936%E2%80%931955)',\n",
       "  'Sind (sometimes called Scinde, }}) was a province of British India from 1 April 1936 to 1947 and Dominion of Pakistan from 14 August 1947 to 14 October 1955.  Under the British, it encompassed the current territorial limits excluding the princely state of Khairpur.'],\n",
       " ['Wikipedia: Bal Thackeray',\n",
       "  'https://en.wikipedia.org/wiki/Bal_Thackeray',\n",
       "  '| birth_place         = Poona, Bombay Presidency, British India (present-day Maharashtra, India)'],\n",
       " ['Wikipedia: Kochi (disambiguation)',\n",
       "  'https://en.wikipedia.org/wiki/Kochi_(disambiguation)',\n",
       "  'Kochi is a city in Kerala, India.'],\n",
       " ['Wikipedia: Kottayam district',\n",
       "  'https://en.wikipedia.org/wiki/Kottayam_district',\n",
       "  '| image_map             = India Kerala Kottayam district.svg'],\n",
       " ['Wikipedia: Ajaigarh',\n",
       "  'https://en.wikipedia.org/wiki/Ajaigarh',\n",
       "  'Ajaigarh or Ajaygarh is a town and a nagar panchayat in the Panna District of Madhya Pradesh state in central India.'],\n",
       " ['Wikipedia: Ajanta Caves',\n",
       "  'https://en.wikipedia.org/wiki/Ajanta_Caves',\n",
       "  '| Location = Ajanta, Aurangabad district, Maharashtra, India']]"
      ]
     },
     "execution_count": 20,
     "metadata": {},
     "output_type": "execute_result"
    }
   ],
   "source": [
    "result"
   ]
  },
  {
   "cell_type": "markdown",
   "id": "d8944d89-43a4-48ae-a6a5-601d54c23dcd",
   "metadata": {},
   "source": [
    "\n"
   ]
  },
  {
   "cell_type": "markdown",
   "id": "abd75b81-ccaa-437f-b026-7dfa63faf8e1",
   "metadata": {},
   "source": [
    "Text to Numbers\n",
    "\n",
    "1. Count vectorizer \n",
    "2. Bag of Words\n",
    "3. TF-IDF\n",
    "4. Word Embeddings\n",
    "5. Pretrained Model Embeddings\n",
    "\n",
    "\n",
    "Cosine Similarity\n",
    "\n",
    "Text-based Recommendation engine"
   ]
  },
  {
   "cell_type": "code",
   "execution_count": null,
   "id": "d0806d12-5a03-4ac4-b8ba-e5327bb76382",
   "metadata": {},
   "outputs": [],
   "source": []
  },
  {
   "cell_type": "code",
   "execution_count": null,
   "id": "562008b9-4bf8-46a3-9b8f-adb0b38079be",
   "metadata": {},
   "outputs": [],
   "source": []
  }
 ],
 "metadata": {
  "kernelspec": {
   "display_name": "Python 3 (ipykernel)",
   "language": "python",
   "name": "python3"
  },
  "language_info": {
   "codemirror_mode": {
    "name": "ipython",
    "version": 3
   },
   "file_extension": ".py",
   "mimetype": "text/x-python",
   "name": "python",
   "nbconvert_exporter": "python",
   "pygments_lexer": "ipython3",
   "version": "3.11.6"
  }
 },
 "nbformat": 4,
 "nbformat_minor": 5
}
